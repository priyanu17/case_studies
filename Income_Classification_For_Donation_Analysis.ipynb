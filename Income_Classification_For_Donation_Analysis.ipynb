{
  "nbformat": 4,
  "nbformat_minor": 0,
  "metadata": {
    "colab": {
      "name": "18_20/7/20_CS_3_Donation_Target_Analysis.ipynb",
      "provenance": [],
      "collapsed_sections": [],
      "authorship_tag": "ABX9TyMqcQG9Q7dobhSeLoNQQiJ1",
      "include_colab_link": true
    },
    "kernelspec": {
      "name": "python3",
      "display_name": "Python 3"
    }
  },
  "cells": [
    {
      "cell_type": "markdown",
      "metadata": {
        "id": "view-in-github",
        "colab_type": "text"
      },
      "source": [
        "<a href=\"https://colab.research.google.com/github/priyanu17/case_studies/blob/master/Income_Classification_For_Donation_Analysis.ipynb\" target=\"_parent\"><img src=\"https://colab.research.google.com/assets/colab-badge.svg\" alt=\"Open In Colab\"/></a>"
      ]
    },
    {
      "cell_type": "code",
      "metadata": {
        "id": "7srY6aSw0GXt",
        "colab_type": "code",
        "colab": {}
      },
      "source": [
        "# Classification "
      ],
      "execution_count": 1,
      "outputs": []
    },
    {
      "cell_type": "code",
      "metadata": {
        "id": "UR3zozOJayDh",
        "colab_type": "code",
        "colab": {}
      },
      "source": [
        "import warnings\n",
        "warnings.filterwarnings(\"ignore\")"
      ],
      "execution_count": 2,
      "outputs": []
    },
    {
      "cell_type": "code",
      "metadata": {
        "id": "xuPIHmWfy4dn",
        "colab_type": "code",
        "colab": {}
      },
      "source": [
        "import numpy as np\n",
        "import pandas as pd\n",
        "import matplotlib.pyplot as plt\n",
        "import seaborn as sns\n",
        "\n",
        "%matplotlib inline"
      ],
      "execution_count": 3,
      "outputs": []
    },
    {
      "cell_type": "code",
      "metadata": {
        "id": "GNxmvRsV8R6T",
        "colab_type": "code",
        "colab": {}
      },
      "source": [
        "# PROBLEM STATEMENT : \n",
        "\n",
        "# Classify data into high and low income groups\n",
        "# Supervised Modelling\n",
        "# High income group can be targeted for donations"
      ],
      "execution_count": 126,
      "outputs": []
    },
    {
      "cell_type": "code",
      "metadata": {
        "id": "4cnm0Em0zCpW",
        "colab_type": "code",
        "colab": {}
      },
      "source": [
        "census_data = pd.read_csv(\"CS_3_donations_adult.data\")\n",
        "census_data_test = pd.read_csv(\"CS_3_donations_adult.test\")"
      ],
      "execution_count": 127,
      "outputs": []
    },
    {
      "cell_type": "code",
      "metadata": {
        "id": "6LmUJOJFzVcm",
        "colab_type": "code",
        "colab": {
          "base_uri": "https://localhost:8080/",
          "height": 195
        },
        "outputId": "32d58e52-9d25-4be1-dd46-1a39fef0d7ce"
      },
      "source": [
        "census_data.head()"
      ],
      "execution_count": 128,
      "outputs": [
        {
          "output_type": "execute_result",
          "data": {
            "text/html": [
              "<div>\n",
              "<style scoped>\n",
              "    .dataframe tbody tr th:only-of-type {\n",
              "        vertical-align: middle;\n",
              "    }\n",
              "\n",
              "    .dataframe tbody tr th {\n",
              "        vertical-align: top;\n",
              "    }\n",
              "\n",
              "    .dataframe thead th {\n",
              "        text-align: right;\n",
              "    }\n",
              "</style>\n",
              "<table border=\"1\" class=\"dataframe\">\n",
              "  <thead>\n",
              "    <tr style=\"text-align: right;\">\n",
              "      <th></th>\n",
              "      <th>39</th>\n",
              "      <th>State-gov</th>\n",
              "      <th>77516</th>\n",
              "      <th>Bachelors</th>\n",
              "      <th>13</th>\n",
              "      <th>Never-married</th>\n",
              "      <th>Adm-clerical</th>\n",
              "      <th>Not-in-family</th>\n",
              "      <th>White</th>\n",
              "      <th>Male</th>\n",
              "      <th>2174</th>\n",
              "      <th>0</th>\n",
              "      <th>40</th>\n",
              "      <th>United-States</th>\n",
              "      <th>&lt;=50K</th>\n",
              "    </tr>\n",
              "  </thead>\n",
              "  <tbody>\n",
              "    <tr>\n",
              "      <th>0</th>\n",
              "      <td>50</td>\n",
              "      <td>Self-emp-not-inc</td>\n",
              "      <td>83311</td>\n",
              "      <td>Bachelors</td>\n",
              "      <td>13</td>\n",
              "      <td>Married-civ-spouse</td>\n",
              "      <td>Exec-managerial</td>\n",
              "      <td>Husband</td>\n",
              "      <td>White</td>\n",
              "      <td>Male</td>\n",
              "      <td>0</td>\n",
              "      <td>0</td>\n",
              "      <td>13</td>\n",
              "      <td>United-States</td>\n",
              "      <td>&lt;=50K</td>\n",
              "    </tr>\n",
              "    <tr>\n",
              "      <th>1</th>\n",
              "      <td>38</td>\n",
              "      <td>Private</td>\n",
              "      <td>215646</td>\n",
              "      <td>HS-grad</td>\n",
              "      <td>9</td>\n",
              "      <td>Divorced</td>\n",
              "      <td>Handlers-cleaners</td>\n",
              "      <td>Not-in-family</td>\n",
              "      <td>White</td>\n",
              "      <td>Male</td>\n",
              "      <td>0</td>\n",
              "      <td>0</td>\n",
              "      <td>40</td>\n",
              "      <td>United-States</td>\n",
              "      <td>&lt;=50K</td>\n",
              "    </tr>\n",
              "    <tr>\n",
              "      <th>2</th>\n",
              "      <td>53</td>\n",
              "      <td>Private</td>\n",
              "      <td>234721</td>\n",
              "      <td>11th</td>\n",
              "      <td>7</td>\n",
              "      <td>Married-civ-spouse</td>\n",
              "      <td>Handlers-cleaners</td>\n",
              "      <td>Husband</td>\n",
              "      <td>Black</td>\n",
              "      <td>Male</td>\n",
              "      <td>0</td>\n",
              "      <td>0</td>\n",
              "      <td>40</td>\n",
              "      <td>United-States</td>\n",
              "      <td>&lt;=50K</td>\n",
              "    </tr>\n",
              "    <tr>\n",
              "      <th>3</th>\n",
              "      <td>28</td>\n",
              "      <td>Private</td>\n",
              "      <td>338409</td>\n",
              "      <td>Bachelors</td>\n",
              "      <td>13</td>\n",
              "      <td>Married-civ-spouse</td>\n",
              "      <td>Prof-specialty</td>\n",
              "      <td>Wife</td>\n",
              "      <td>Black</td>\n",
              "      <td>Female</td>\n",
              "      <td>0</td>\n",
              "      <td>0</td>\n",
              "      <td>40</td>\n",
              "      <td>Cuba</td>\n",
              "      <td>&lt;=50K</td>\n",
              "    </tr>\n",
              "    <tr>\n",
              "      <th>4</th>\n",
              "      <td>37</td>\n",
              "      <td>Private</td>\n",
              "      <td>284582</td>\n",
              "      <td>Masters</td>\n",
              "      <td>14</td>\n",
              "      <td>Married-civ-spouse</td>\n",
              "      <td>Exec-managerial</td>\n",
              "      <td>Wife</td>\n",
              "      <td>White</td>\n",
              "      <td>Female</td>\n",
              "      <td>0</td>\n",
              "      <td>0</td>\n",
              "      <td>40</td>\n",
              "      <td>United-States</td>\n",
              "      <td>&lt;=50K</td>\n",
              "    </tr>\n",
              "  </tbody>\n",
              "</table>\n",
              "</div>"
            ],
            "text/plain": [
              "   39          State-gov   77516   Bachelors  ...   0  40   United-States   <=50K\n",
              "0  50   Self-emp-not-inc   83311   Bachelors  ...   0  13   United-States   <=50K\n",
              "1  38            Private  215646     HS-grad  ...   0  40   United-States   <=50K\n",
              "2  53            Private  234721        11th  ...   0  40   United-States   <=50K\n",
              "3  28            Private  338409   Bachelors  ...   0  40            Cuba   <=50K\n",
              "4  37            Private  284582     Masters  ...   0  40   United-States   <=50K\n",
              "\n",
              "[5 rows x 15 columns]"
            ]
          },
          "metadata": {
            "tags": []
          },
          "execution_count": 128
        }
      ]
    },
    {
      "cell_type": "code",
      "metadata": {
        "id": "EuZxYAChEzCo",
        "colab_type": "code",
        "colab": {
          "base_uri": "https://localhost:8080/",
          "height": 195
        },
        "outputId": "302485cf-c844-48c6-ac41-b8d3300fb1cd"
      },
      "source": [
        "census_data_test.head()"
      ],
      "execution_count": 129,
      "outputs": [
        {
          "output_type": "execute_result",
          "data": {
            "text/html": [
              "<div>\n",
              "<style scoped>\n",
              "    .dataframe tbody tr th:only-of-type {\n",
              "        vertical-align: middle;\n",
              "    }\n",
              "\n",
              "    .dataframe tbody tr th {\n",
              "        vertical-align: top;\n",
              "    }\n",
              "\n",
              "    .dataframe thead th {\n",
              "        text-align: right;\n",
              "    }\n",
              "</style>\n",
              "<table border=\"1\" class=\"dataframe\">\n",
              "  <thead>\n",
              "    <tr style=\"text-align: right;\">\n",
              "      <th></th>\n",
              "      <th>25</th>\n",
              "      <th>Private</th>\n",
              "      <th>226802</th>\n",
              "      <th>11th</th>\n",
              "      <th>7</th>\n",
              "      <th>Never-married</th>\n",
              "      <th>Machine-op-inspct</th>\n",
              "      <th>Own-child</th>\n",
              "      <th>Black</th>\n",
              "      <th>Male</th>\n",
              "      <th>0</th>\n",
              "      <th>0.1</th>\n",
              "      <th>40</th>\n",
              "      <th>United-States</th>\n",
              "      <th>&lt;=50K.</th>\n",
              "    </tr>\n",
              "  </thead>\n",
              "  <tbody>\n",
              "    <tr>\n",
              "      <th>0</th>\n",
              "      <td>38</td>\n",
              "      <td>Private</td>\n",
              "      <td>89814</td>\n",
              "      <td>HS-grad</td>\n",
              "      <td>9</td>\n",
              "      <td>Married-civ-spouse</td>\n",
              "      <td>Farming-fishing</td>\n",
              "      <td>Husband</td>\n",
              "      <td>White</td>\n",
              "      <td>Male</td>\n",
              "      <td>0</td>\n",
              "      <td>0</td>\n",
              "      <td>50</td>\n",
              "      <td>United-States</td>\n",
              "      <td>&lt;=50K.</td>\n",
              "    </tr>\n",
              "    <tr>\n",
              "      <th>1</th>\n",
              "      <td>28</td>\n",
              "      <td>Local-gov</td>\n",
              "      <td>336951</td>\n",
              "      <td>Assoc-acdm</td>\n",
              "      <td>12</td>\n",
              "      <td>Married-civ-spouse</td>\n",
              "      <td>Protective-serv</td>\n",
              "      <td>Husband</td>\n",
              "      <td>White</td>\n",
              "      <td>Male</td>\n",
              "      <td>0</td>\n",
              "      <td>0</td>\n",
              "      <td>40</td>\n",
              "      <td>United-States</td>\n",
              "      <td>&gt;50K.</td>\n",
              "    </tr>\n",
              "    <tr>\n",
              "      <th>2</th>\n",
              "      <td>44</td>\n",
              "      <td>Private</td>\n",
              "      <td>160323</td>\n",
              "      <td>Some-college</td>\n",
              "      <td>10</td>\n",
              "      <td>Married-civ-spouse</td>\n",
              "      <td>Machine-op-inspct</td>\n",
              "      <td>Husband</td>\n",
              "      <td>Black</td>\n",
              "      <td>Male</td>\n",
              "      <td>7688</td>\n",
              "      <td>0</td>\n",
              "      <td>40</td>\n",
              "      <td>United-States</td>\n",
              "      <td>&gt;50K.</td>\n",
              "    </tr>\n",
              "    <tr>\n",
              "      <th>3</th>\n",
              "      <td>18</td>\n",
              "      <td>?</td>\n",
              "      <td>103497</td>\n",
              "      <td>Some-college</td>\n",
              "      <td>10</td>\n",
              "      <td>Never-married</td>\n",
              "      <td>?</td>\n",
              "      <td>Own-child</td>\n",
              "      <td>White</td>\n",
              "      <td>Female</td>\n",
              "      <td>0</td>\n",
              "      <td>0</td>\n",
              "      <td>30</td>\n",
              "      <td>United-States</td>\n",
              "      <td>&lt;=50K.</td>\n",
              "    </tr>\n",
              "    <tr>\n",
              "      <th>4</th>\n",
              "      <td>34</td>\n",
              "      <td>Private</td>\n",
              "      <td>198693</td>\n",
              "      <td>10th</td>\n",
              "      <td>6</td>\n",
              "      <td>Never-married</td>\n",
              "      <td>Other-service</td>\n",
              "      <td>Not-in-family</td>\n",
              "      <td>White</td>\n",
              "      <td>Male</td>\n",
              "      <td>0</td>\n",
              "      <td>0</td>\n",
              "      <td>30</td>\n",
              "      <td>United-States</td>\n",
              "      <td>&lt;=50K.</td>\n",
              "    </tr>\n",
              "  </tbody>\n",
              "</table>\n",
              "</div>"
            ],
            "text/plain": [
              "   25     Private   226802           11th  ...   0.1  40   United-States   <=50K.\n",
              "0  38     Private    89814        HS-grad  ...     0  50   United-States   <=50K.\n",
              "1  28   Local-gov   336951     Assoc-acdm  ...     0  40   United-States    >50K.\n",
              "2  44     Private   160323   Some-college  ...     0  40   United-States    >50K.\n",
              "3  18           ?   103497   Some-college  ...     0  30   United-States   <=50K.\n",
              "4  34     Private   198693           10th  ...     0  30   United-States   <=50K.\n",
              "\n",
              "[5 rows x 15 columns]"
            ]
          },
          "metadata": {
            "tags": []
          },
          "execution_count": 129
        }
      ]
    },
    {
      "cell_type": "code",
      "metadata": {
        "id": "BJEK-WQozXky",
        "colab_type": "code",
        "colab": {
          "base_uri": "https://localhost:8080/",
          "height": 50
        },
        "outputId": "e448c260-6e9e-47e3-fe0c-7c587e8c505b"
      },
      "source": [
        "# Column header is missing in the dataframe\n",
        "\n",
        "print(census_data.shape)\n",
        "print(census_data_test.shape)"
      ],
      "execution_count": 130,
      "outputs": [
        {
          "output_type": "stream",
          "text": [
            "(32560, 15)\n",
            "(16280, 15)\n"
          ],
          "name": "stdout"
        }
      ]
    },
    {
      "cell_type": "code",
      "metadata": {
        "id": "7KUp7q0izje_",
        "colab_type": "code",
        "colab": {}
      },
      "source": [
        "cols_names = [\"age\", \"workclass\", \"fnlwgt\", \"education\", \"education_num\", \n",
        "              \"marital_status\", \"occupation\", \"relationship\", \"race\", \"sex\",\n",
        "              \"capital_gain\", \"capital_loss\", \"hours_per_week\", \"native_country\", \"income\"]"
      ],
      "execution_count": 131,
      "outputs": []
    },
    {
      "cell_type": "code",
      "metadata": {
        "id": "E7lrqN1K3pTz",
        "colab_type": "code",
        "colab": {
          "base_uri": "https://localhost:8080/",
          "height": 299
        },
        "outputId": "7463dba3-9a08-4172-cdc9-53acdc1ad049"
      },
      "source": [
        "# loading data with column names\n",
        "\n",
        "census_data = pd.DataFrame(census_data.values, columns=cols_names)\n",
        "census_data.head()"
      ],
      "execution_count": 132,
      "outputs": [
        {
          "output_type": "execute_result",
          "data": {
            "text/html": [
              "<div>\n",
              "<style scoped>\n",
              "    .dataframe tbody tr th:only-of-type {\n",
              "        vertical-align: middle;\n",
              "    }\n",
              "\n",
              "    .dataframe tbody tr th {\n",
              "        vertical-align: top;\n",
              "    }\n",
              "\n",
              "    .dataframe thead th {\n",
              "        text-align: right;\n",
              "    }\n",
              "</style>\n",
              "<table border=\"1\" class=\"dataframe\">\n",
              "  <thead>\n",
              "    <tr style=\"text-align: right;\">\n",
              "      <th></th>\n",
              "      <th>age</th>\n",
              "      <th>workclass</th>\n",
              "      <th>fnlwgt</th>\n",
              "      <th>education</th>\n",
              "      <th>education_num</th>\n",
              "      <th>marital_status</th>\n",
              "      <th>occupation</th>\n",
              "      <th>relationship</th>\n",
              "      <th>race</th>\n",
              "      <th>sex</th>\n",
              "      <th>capital_gain</th>\n",
              "      <th>capital_loss</th>\n",
              "      <th>hours_per_week</th>\n",
              "      <th>native_country</th>\n",
              "      <th>income</th>\n",
              "    </tr>\n",
              "  </thead>\n",
              "  <tbody>\n",
              "    <tr>\n",
              "      <th>0</th>\n",
              "      <td>50</td>\n",
              "      <td>Self-emp-not-inc</td>\n",
              "      <td>83311</td>\n",
              "      <td>Bachelors</td>\n",
              "      <td>13</td>\n",
              "      <td>Married-civ-spouse</td>\n",
              "      <td>Exec-managerial</td>\n",
              "      <td>Husband</td>\n",
              "      <td>White</td>\n",
              "      <td>Male</td>\n",
              "      <td>0</td>\n",
              "      <td>0</td>\n",
              "      <td>13</td>\n",
              "      <td>United-States</td>\n",
              "      <td>&lt;=50K</td>\n",
              "    </tr>\n",
              "    <tr>\n",
              "      <th>1</th>\n",
              "      <td>38</td>\n",
              "      <td>Private</td>\n",
              "      <td>215646</td>\n",
              "      <td>HS-grad</td>\n",
              "      <td>9</td>\n",
              "      <td>Divorced</td>\n",
              "      <td>Handlers-cleaners</td>\n",
              "      <td>Not-in-family</td>\n",
              "      <td>White</td>\n",
              "      <td>Male</td>\n",
              "      <td>0</td>\n",
              "      <td>0</td>\n",
              "      <td>40</td>\n",
              "      <td>United-States</td>\n",
              "      <td>&lt;=50K</td>\n",
              "    </tr>\n",
              "    <tr>\n",
              "      <th>2</th>\n",
              "      <td>53</td>\n",
              "      <td>Private</td>\n",
              "      <td>234721</td>\n",
              "      <td>11th</td>\n",
              "      <td>7</td>\n",
              "      <td>Married-civ-spouse</td>\n",
              "      <td>Handlers-cleaners</td>\n",
              "      <td>Husband</td>\n",
              "      <td>Black</td>\n",
              "      <td>Male</td>\n",
              "      <td>0</td>\n",
              "      <td>0</td>\n",
              "      <td>40</td>\n",
              "      <td>United-States</td>\n",
              "      <td>&lt;=50K</td>\n",
              "    </tr>\n",
              "    <tr>\n",
              "      <th>3</th>\n",
              "      <td>28</td>\n",
              "      <td>Private</td>\n",
              "      <td>338409</td>\n",
              "      <td>Bachelors</td>\n",
              "      <td>13</td>\n",
              "      <td>Married-civ-spouse</td>\n",
              "      <td>Prof-specialty</td>\n",
              "      <td>Wife</td>\n",
              "      <td>Black</td>\n",
              "      <td>Female</td>\n",
              "      <td>0</td>\n",
              "      <td>0</td>\n",
              "      <td>40</td>\n",
              "      <td>Cuba</td>\n",
              "      <td>&lt;=50K</td>\n",
              "    </tr>\n",
              "    <tr>\n",
              "      <th>4</th>\n",
              "      <td>37</td>\n",
              "      <td>Private</td>\n",
              "      <td>284582</td>\n",
              "      <td>Masters</td>\n",
              "      <td>14</td>\n",
              "      <td>Married-civ-spouse</td>\n",
              "      <td>Exec-managerial</td>\n",
              "      <td>Wife</td>\n",
              "      <td>White</td>\n",
              "      <td>Female</td>\n",
              "      <td>0</td>\n",
              "      <td>0</td>\n",
              "      <td>40</td>\n",
              "      <td>United-States</td>\n",
              "      <td>&lt;=50K</td>\n",
              "    </tr>\n",
              "  </tbody>\n",
              "</table>\n",
              "</div>"
            ],
            "text/plain": [
              "  age          workclass  fnlwgt  ... hours_per_week  native_country  income\n",
              "0  50   Self-emp-not-inc   83311  ...             13   United-States   <=50K\n",
              "1  38            Private  215646  ...             40   United-States   <=50K\n",
              "2  53            Private  234721  ...             40   United-States   <=50K\n",
              "3  28            Private  338409  ...             40            Cuba   <=50K\n",
              "4  37            Private  284582  ...             40   United-States   <=50K\n",
              "\n",
              "[5 rows x 15 columns]"
            ]
          },
          "metadata": {
            "tags": []
          },
          "execution_count": 132
        }
      ]
    },
    {
      "cell_type": "code",
      "metadata": {
        "id": "Wx8AGSmMIbLm",
        "colab_type": "code",
        "colab": {
          "base_uri": "https://localhost:8080/",
          "height": 299
        },
        "outputId": "779b26f3-3bdf-4c55-fb3a-2d2fbe39896c"
      },
      "source": [
        "census_data_test = pd.DataFrame(census_data_test.values, columns=cols_names)\n",
        "census_data_test.head()"
      ],
      "execution_count": 133,
      "outputs": [
        {
          "output_type": "execute_result",
          "data": {
            "text/html": [
              "<div>\n",
              "<style scoped>\n",
              "    .dataframe tbody tr th:only-of-type {\n",
              "        vertical-align: middle;\n",
              "    }\n",
              "\n",
              "    .dataframe tbody tr th {\n",
              "        vertical-align: top;\n",
              "    }\n",
              "\n",
              "    .dataframe thead th {\n",
              "        text-align: right;\n",
              "    }\n",
              "</style>\n",
              "<table border=\"1\" class=\"dataframe\">\n",
              "  <thead>\n",
              "    <tr style=\"text-align: right;\">\n",
              "      <th></th>\n",
              "      <th>age</th>\n",
              "      <th>workclass</th>\n",
              "      <th>fnlwgt</th>\n",
              "      <th>education</th>\n",
              "      <th>education_num</th>\n",
              "      <th>marital_status</th>\n",
              "      <th>occupation</th>\n",
              "      <th>relationship</th>\n",
              "      <th>race</th>\n",
              "      <th>sex</th>\n",
              "      <th>capital_gain</th>\n",
              "      <th>capital_loss</th>\n",
              "      <th>hours_per_week</th>\n",
              "      <th>native_country</th>\n",
              "      <th>income</th>\n",
              "    </tr>\n",
              "  </thead>\n",
              "  <tbody>\n",
              "    <tr>\n",
              "      <th>0</th>\n",
              "      <td>38</td>\n",
              "      <td>Private</td>\n",
              "      <td>89814</td>\n",
              "      <td>HS-grad</td>\n",
              "      <td>9</td>\n",
              "      <td>Married-civ-spouse</td>\n",
              "      <td>Farming-fishing</td>\n",
              "      <td>Husband</td>\n",
              "      <td>White</td>\n",
              "      <td>Male</td>\n",
              "      <td>0</td>\n",
              "      <td>0</td>\n",
              "      <td>50</td>\n",
              "      <td>United-States</td>\n",
              "      <td>&lt;=50K.</td>\n",
              "    </tr>\n",
              "    <tr>\n",
              "      <th>1</th>\n",
              "      <td>28</td>\n",
              "      <td>Local-gov</td>\n",
              "      <td>336951</td>\n",
              "      <td>Assoc-acdm</td>\n",
              "      <td>12</td>\n",
              "      <td>Married-civ-spouse</td>\n",
              "      <td>Protective-serv</td>\n",
              "      <td>Husband</td>\n",
              "      <td>White</td>\n",
              "      <td>Male</td>\n",
              "      <td>0</td>\n",
              "      <td>0</td>\n",
              "      <td>40</td>\n",
              "      <td>United-States</td>\n",
              "      <td>&gt;50K.</td>\n",
              "    </tr>\n",
              "    <tr>\n",
              "      <th>2</th>\n",
              "      <td>44</td>\n",
              "      <td>Private</td>\n",
              "      <td>160323</td>\n",
              "      <td>Some-college</td>\n",
              "      <td>10</td>\n",
              "      <td>Married-civ-spouse</td>\n",
              "      <td>Machine-op-inspct</td>\n",
              "      <td>Husband</td>\n",
              "      <td>Black</td>\n",
              "      <td>Male</td>\n",
              "      <td>7688</td>\n",
              "      <td>0</td>\n",
              "      <td>40</td>\n",
              "      <td>United-States</td>\n",
              "      <td>&gt;50K.</td>\n",
              "    </tr>\n",
              "    <tr>\n",
              "      <th>3</th>\n",
              "      <td>18</td>\n",
              "      <td>?</td>\n",
              "      <td>103497</td>\n",
              "      <td>Some-college</td>\n",
              "      <td>10</td>\n",
              "      <td>Never-married</td>\n",
              "      <td>?</td>\n",
              "      <td>Own-child</td>\n",
              "      <td>White</td>\n",
              "      <td>Female</td>\n",
              "      <td>0</td>\n",
              "      <td>0</td>\n",
              "      <td>30</td>\n",
              "      <td>United-States</td>\n",
              "      <td>&lt;=50K.</td>\n",
              "    </tr>\n",
              "    <tr>\n",
              "      <th>4</th>\n",
              "      <td>34</td>\n",
              "      <td>Private</td>\n",
              "      <td>198693</td>\n",
              "      <td>10th</td>\n",
              "      <td>6</td>\n",
              "      <td>Never-married</td>\n",
              "      <td>Other-service</td>\n",
              "      <td>Not-in-family</td>\n",
              "      <td>White</td>\n",
              "      <td>Male</td>\n",
              "      <td>0</td>\n",
              "      <td>0</td>\n",
              "      <td>30</td>\n",
              "      <td>United-States</td>\n",
              "      <td>&lt;=50K.</td>\n",
              "    </tr>\n",
              "  </tbody>\n",
              "</table>\n",
              "</div>"
            ],
            "text/plain": [
              "  age   workclass  fnlwgt  ... hours_per_week  native_country   income\n",
              "0  38     Private   89814  ...             50   United-States   <=50K.\n",
              "1  28   Local-gov  336951  ...             40   United-States    >50K.\n",
              "2  44     Private  160323  ...             40   United-States    >50K.\n",
              "3  18           ?  103497  ...             30   United-States   <=50K.\n",
              "4  34     Private  198693  ...             30   United-States   <=50K.\n",
              "\n",
              "[5 rows x 15 columns]"
            ]
          },
          "metadata": {
            "tags": []
          },
          "execution_count": 133
        }
      ]
    },
    {
      "cell_type": "code",
      "metadata": {
        "id": "noKgH-ZQ331p",
        "colab_type": "code",
        "colab": {}
      },
      "source": [
        "# column headers have now been included "
      ],
      "execution_count": 134,
      "outputs": []
    },
    {
      "cell_type": "code",
      "metadata": {
        "id": "6QqcBnhZJKd0",
        "colab_type": "code",
        "colab": {}
      },
      "source": [
        "# concat both train and test dataframes\n",
        "\n",
        "census_data = pd.concat((census_data, census_data_test), ignore_index=True)"
      ],
      "execution_count": 135,
      "outputs": []
    },
    {
      "cell_type": "code",
      "metadata": {
        "id": "Rh9T_1qdLLuM",
        "colab_type": "code",
        "colab": {
          "base_uri": "https://localhost:8080/",
          "height": 34
        },
        "outputId": "0c799d87-8479-4db6-92b1-ae05b56db1e3"
      },
      "source": [
        "census_data.shape"
      ],
      "execution_count": 136,
      "outputs": [
        {
          "output_type": "execute_result",
          "data": {
            "text/plain": [
              "(48840, 15)"
            ]
          },
          "metadata": {
            "tags": []
          },
          "execution_count": 136
        }
      ]
    },
    {
      "cell_type": "code",
      "metadata": {
        "id": "yJn5AUs9LdQc",
        "colab_type": "code",
        "colab": {
          "base_uri": "https://localhost:8080/",
          "height": 590
        },
        "outputId": "2347b4e5-4968-4106-9820-5d26d39a30c6"
      },
      "source": [
        "census_data"
      ],
      "execution_count": 137,
      "outputs": [
        {
          "output_type": "execute_result",
          "data": {
            "text/html": [
              "<div>\n",
              "<style scoped>\n",
              "    .dataframe tbody tr th:only-of-type {\n",
              "        vertical-align: middle;\n",
              "    }\n",
              "\n",
              "    .dataframe tbody tr th {\n",
              "        vertical-align: top;\n",
              "    }\n",
              "\n",
              "    .dataframe thead th {\n",
              "        text-align: right;\n",
              "    }\n",
              "</style>\n",
              "<table border=\"1\" class=\"dataframe\">\n",
              "  <thead>\n",
              "    <tr style=\"text-align: right;\">\n",
              "      <th></th>\n",
              "      <th>age</th>\n",
              "      <th>workclass</th>\n",
              "      <th>fnlwgt</th>\n",
              "      <th>education</th>\n",
              "      <th>education_num</th>\n",
              "      <th>marital_status</th>\n",
              "      <th>occupation</th>\n",
              "      <th>relationship</th>\n",
              "      <th>race</th>\n",
              "      <th>sex</th>\n",
              "      <th>capital_gain</th>\n",
              "      <th>capital_loss</th>\n",
              "      <th>hours_per_week</th>\n",
              "      <th>native_country</th>\n",
              "      <th>income</th>\n",
              "    </tr>\n",
              "  </thead>\n",
              "  <tbody>\n",
              "    <tr>\n",
              "      <th>0</th>\n",
              "      <td>50</td>\n",
              "      <td>Self-emp-not-inc</td>\n",
              "      <td>83311</td>\n",
              "      <td>Bachelors</td>\n",
              "      <td>13</td>\n",
              "      <td>Married-civ-spouse</td>\n",
              "      <td>Exec-managerial</td>\n",
              "      <td>Husband</td>\n",
              "      <td>White</td>\n",
              "      <td>Male</td>\n",
              "      <td>0</td>\n",
              "      <td>0</td>\n",
              "      <td>13</td>\n",
              "      <td>United-States</td>\n",
              "      <td>&lt;=50K</td>\n",
              "    </tr>\n",
              "    <tr>\n",
              "      <th>1</th>\n",
              "      <td>38</td>\n",
              "      <td>Private</td>\n",
              "      <td>215646</td>\n",
              "      <td>HS-grad</td>\n",
              "      <td>9</td>\n",
              "      <td>Divorced</td>\n",
              "      <td>Handlers-cleaners</td>\n",
              "      <td>Not-in-family</td>\n",
              "      <td>White</td>\n",
              "      <td>Male</td>\n",
              "      <td>0</td>\n",
              "      <td>0</td>\n",
              "      <td>40</td>\n",
              "      <td>United-States</td>\n",
              "      <td>&lt;=50K</td>\n",
              "    </tr>\n",
              "    <tr>\n",
              "      <th>2</th>\n",
              "      <td>53</td>\n",
              "      <td>Private</td>\n",
              "      <td>234721</td>\n",
              "      <td>11th</td>\n",
              "      <td>7</td>\n",
              "      <td>Married-civ-spouse</td>\n",
              "      <td>Handlers-cleaners</td>\n",
              "      <td>Husband</td>\n",
              "      <td>Black</td>\n",
              "      <td>Male</td>\n",
              "      <td>0</td>\n",
              "      <td>0</td>\n",
              "      <td>40</td>\n",
              "      <td>United-States</td>\n",
              "      <td>&lt;=50K</td>\n",
              "    </tr>\n",
              "    <tr>\n",
              "      <th>3</th>\n",
              "      <td>28</td>\n",
              "      <td>Private</td>\n",
              "      <td>338409</td>\n",
              "      <td>Bachelors</td>\n",
              "      <td>13</td>\n",
              "      <td>Married-civ-spouse</td>\n",
              "      <td>Prof-specialty</td>\n",
              "      <td>Wife</td>\n",
              "      <td>Black</td>\n",
              "      <td>Female</td>\n",
              "      <td>0</td>\n",
              "      <td>0</td>\n",
              "      <td>40</td>\n",
              "      <td>Cuba</td>\n",
              "      <td>&lt;=50K</td>\n",
              "    </tr>\n",
              "    <tr>\n",
              "      <th>4</th>\n",
              "      <td>37</td>\n",
              "      <td>Private</td>\n",
              "      <td>284582</td>\n",
              "      <td>Masters</td>\n",
              "      <td>14</td>\n",
              "      <td>Married-civ-spouse</td>\n",
              "      <td>Exec-managerial</td>\n",
              "      <td>Wife</td>\n",
              "      <td>White</td>\n",
              "      <td>Female</td>\n",
              "      <td>0</td>\n",
              "      <td>0</td>\n",
              "      <td>40</td>\n",
              "      <td>United-States</td>\n",
              "      <td>&lt;=50K</td>\n",
              "    </tr>\n",
              "    <tr>\n",
              "      <th>...</th>\n",
              "      <td>...</td>\n",
              "      <td>...</td>\n",
              "      <td>...</td>\n",
              "      <td>...</td>\n",
              "      <td>...</td>\n",
              "      <td>...</td>\n",
              "      <td>...</td>\n",
              "      <td>...</td>\n",
              "      <td>...</td>\n",
              "      <td>...</td>\n",
              "      <td>...</td>\n",
              "      <td>...</td>\n",
              "      <td>...</td>\n",
              "      <td>...</td>\n",
              "      <td>...</td>\n",
              "    </tr>\n",
              "    <tr>\n",
              "      <th>48835</th>\n",
              "      <td>39</td>\n",
              "      <td>Private</td>\n",
              "      <td>215419</td>\n",
              "      <td>Bachelors</td>\n",
              "      <td>13</td>\n",
              "      <td>Divorced</td>\n",
              "      <td>Prof-specialty</td>\n",
              "      <td>Not-in-family</td>\n",
              "      <td>White</td>\n",
              "      <td>Female</td>\n",
              "      <td>0</td>\n",
              "      <td>0</td>\n",
              "      <td>36</td>\n",
              "      <td>United-States</td>\n",
              "      <td>&lt;=50K.</td>\n",
              "    </tr>\n",
              "    <tr>\n",
              "      <th>48836</th>\n",
              "      <td>64</td>\n",
              "      <td>?</td>\n",
              "      <td>321403</td>\n",
              "      <td>HS-grad</td>\n",
              "      <td>9</td>\n",
              "      <td>Widowed</td>\n",
              "      <td>?</td>\n",
              "      <td>Other-relative</td>\n",
              "      <td>Black</td>\n",
              "      <td>Male</td>\n",
              "      <td>0</td>\n",
              "      <td>0</td>\n",
              "      <td>40</td>\n",
              "      <td>United-States</td>\n",
              "      <td>&lt;=50K.</td>\n",
              "    </tr>\n",
              "    <tr>\n",
              "      <th>48837</th>\n",
              "      <td>38</td>\n",
              "      <td>Private</td>\n",
              "      <td>374983</td>\n",
              "      <td>Bachelors</td>\n",
              "      <td>13</td>\n",
              "      <td>Married-civ-spouse</td>\n",
              "      <td>Prof-specialty</td>\n",
              "      <td>Husband</td>\n",
              "      <td>White</td>\n",
              "      <td>Male</td>\n",
              "      <td>0</td>\n",
              "      <td>0</td>\n",
              "      <td>50</td>\n",
              "      <td>United-States</td>\n",
              "      <td>&lt;=50K.</td>\n",
              "    </tr>\n",
              "    <tr>\n",
              "      <th>48838</th>\n",
              "      <td>44</td>\n",
              "      <td>Private</td>\n",
              "      <td>83891</td>\n",
              "      <td>Bachelors</td>\n",
              "      <td>13</td>\n",
              "      <td>Divorced</td>\n",
              "      <td>Adm-clerical</td>\n",
              "      <td>Own-child</td>\n",
              "      <td>Asian-Pac-Islander</td>\n",
              "      <td>Male</td>\n",
              "      <td>5455</td>\n",
              "      <td>0</td>\n",
              "      <td>40</td>\n",
              "      <td>United-States</td>\n",
              "      <td>&lt;=50K.</td>\n",
              "    </tr>\n",
              "    <tr>\n",
              "      <th>48839</th>\n",
              "      <td>35</td>\n",
              "      <td>Self-emp-inc</td>\n",
              "      <td>182148</td>\n",
              "      <td>Bachelors</td>\n",
              "      <td>13</td>\n",
              "      <td>Married-civ-spouse</td>\n",
              "      <td>Exec-managerial</td>\n",
              "      <td>Husband</td>\n",
              "      <td>White</td>\n",
              "      <td>Male</td>\n",
              "      <td>0</td>\n",
              "      <td>0</td>\n",
              "      <td>60</td>\n",
              "      <td>United-States</td>\n",
              "      <td>&gt;50K.</td>\n",
              "    </tr>\n",
              "  </tbody>\n",
              "</table>\n",
              "<p>48840 rows × 15 columns</p>\n",
              "</div>"
            ],
            "text/plain": [
              "      age          workclass  fnlwgt  ... hours_per_week  native_country   income\n",
              "0      50   Self-emp-not-inc   83311  ...             13   United-States    <=50K\n",
              "1      38            Private  215646  ...             40   United-States    <=50K\n",
              "2      53            Private  234721  ...             40   United-States    <=50K\n",
              "3      28            Private  338409  ...             40            Cuba    <=50K\n",
              "4      37            Private  284582  ...             40   United-States    <=50K\n",
              "...    ..                ...     ...  ...            ...             ...      ...\n",
              "48835  39            Private  215419  ...             36   United-States   <=50K.\n",
              "48836  64                  ?  321403  ...             40   United-States   <=50K.\n",
              "48837  38            Private  374983  ...             50   United-States   <=50K.\n",
              "48838  44            Private   83891  ...             40   United-States   <=50K.\n",
              "48839  35       Self-emp-inc  182148  ...             60   United-States    >50K.\n",
              "\n",
              "[48840 rows x 15 columns]"
            ]
          },
          "metadata": {
            "tags": []
          },
          "execution_count": 137
        }
      ]
    },
    {
      "cell_type": "code",
      "metadata": {
        "id": "qWihA1O0804X",
        "colab_type": "code",
        "colab": {
          "base_uri": "https://localhost:8080/",
          "height": 386
        },
        "outputId": "9cbe6886-e75f-4d87-a551-ad6408824f45"
      },
      "source": [
        "# info on data:\n",
        "census_data.info()"
      ],
      "execution_count": 138,
      "outputs": [
        {
          "output_type": "stream",
          "text": [
            "<class 'pandas.core.frame.DataFrame'>\n",
            "RangeIndex: 48840 entries, 0 to 48839\n",
            "Data columns (total 15 columns):\n",
            " #   Column          Non-Null Count  Dtype \n",
            "---  ------          --------------  ----- \n",
            " 0   age             48840 non-null  object\n",
            " 1   workclass       48840 non-null  object\n",
            " 2   fnlwgt          48840 non-null  object\n",
            " 3   education       48840 non-null  object\n",
            " 4   education_num   48840 non-null  object\n",
            " 5   marital_status  48840 non-null  object\n",
            " 6   occupation      48840 non-null  object\n",
            " 7   relationship    48840 non-null  object\n",
            " 8   race            48840 non-null  object\n",
            " 9   sex             48840 non-null  object\n",
            " 10  capital_gain    48840 non-null  object\n",
            " 11  capital_loss    48840 non-null  object\n",
            " 12  hours_per_week  48840 non-null  object\n",
            " 13  native_country  48840 non-null  object\n",
            " 14  income          48840 non-null  object\n",
            "dtypes: object(15)\n",
            "memory usage: 5.6+ MB\n"
          ],
          "name": "stdout"
        }
      ]
    },
    {
      "cell_type": "code",
      "metadata": {
        "id": "3XsM6-cC9K01",
        "colab_type": "code",
        "colab": {}
      },
      "source": [
        "# all columns are of dtype 'object'\n",
        "census_data = census_data.infer_objects()"
      ],
      "execution_count": 139,
      "outputs": []
    },
    {
      "cell_type": "code",
      "metadata": {
        "id": "12LDs2LTCugg",
        "colab_type": "code",
        "colab": {
          "base_uri": "https://localhost:8080/",
          "height": 386
        },
        "outputId": "96f653f5-824b-4ff8-bbf2-34f14b2b77c3"
      },
      "source": [
        "# checking for info again\n",
        "census_data.info()"
      ],
      "execution_count": 140,
      "outputs": [
        {
          "output_type": "stream",
          "text": [
            "<class 'pandas.core.frame.DataFrame'>\n",
            "RangeIndex: 48840 entries, 0 to 48839\n",
            "Data columns (total 15 columns):\n",
            " #   Column          Non-Null Count  Dtype \n",
            "---  ------          --------------  ----- \n",
            " 0   age             48840 non-null  int64 \n",
            " 1   workclass       48840 non-null  object\n",
            " 2   fnlwgt          48840 non-null  int64 \n",
            " 3   education       48840 non-null  object\n",
            " 4   education_num   48840 non-null  int64 \n",
            " 5   marital_status  48840 non-null  object\n",
            " 6   occupation      48840 non-null  object\n",
            " 7   relationship    48840 non-null  object\n",
            " 8   race            48840 non-null  object\n",
            " 9   sex             48840 non-null  object\n",
            " 10  capital_gain    48840 non-null  int64 \n",
            " 11  capital_loss    48840 non-null  int64 \n",
            " 12  hours_per_week  48840 non-null  int64 \n",
            " 13  native_country  48840 non-null  object\n",
            " 14  income          48840 non-null  object\n",
            "dtypes: int64(6), object(9)\n",
            "memory usage: 5.6+ MB\n"
          ],
          "name": "stdout"
        }
      ]
    },
    {
      "cell_type": "code",
      "metadata": {
        "id": "goglSmc4C6fE",
        "colab_type": "code",
        "colab": {}
      },
      "source": [
        "# numeric columns have been identified"
      ],
      "execution_count": 141,
      "outputs": []
    },
    {
      "cell_type": "code",
      "metadata": {
        "id": "ou0W5_pAC_Qg",
        "colab_type": "code",
        "colab": {
          "base_uri": "https://localhost:8080/",
          "height": 284
        },
        "outputId": "48af0ffc-7633-44d9-d271-61acdba597fc"
      },
      "source": [
        "# describe on dataset\n",
        "\n",
        "census_data.describe()"
      ],
      "execution_count": 142,
      "outputs": [
        {
          "output_type": "execute_result",
          "data": {
            "text/html": [
              "<div>\n",
              "<style scoped>\n",
              "    .dataframe tbody tr th:only-of-type {\n",
              "        vertical-align: middle;\n",
              "    }\n",
              "\n",
              "    .dataframe tbody tr th {\n",
              "        vertical-align: top;\n",
              "    }\n",
              "\n",
              "    .dataframe thead th {\n",
              "        text-align: right;\n",
              "    }\n",
              "</style>\n",
              "<table border=\"1\" class=\"dataframe\">\n",
              "  <thead>\n",
              "    <tr style=\"text-align: right;\">\n",
              "      <th></th>\n",
              "      <th>age</th>\n",
              "      <th>fnlwgt</th>\n",
              "      <th>education_num</th>\n",
              "      <th>capital_gain</th>\n",
              "      <th>capital_loss</th>\n",
              "      <th>hours_per_week</th>\n",
              "    </tr>\n",
              "  </thead>\n",
              "  <tbody>\n",
              "    <tr>\n",
              "      <th>count</th>\n",
              "      <td>48840.000000</td>\n",
              "      <td>4.884000e+04</td>\n",
              "      <td>48840.000000</td>\n",
              "      <td>48840.000000</td>\n",
              "      <td>48840.000000</td>\n",
              "      <td>48840.000000</td>\n",
              "    </tr>\n",
              "    <tr>\n",
              "      <th>mean</th>\n",
              "      <td>38.643857</td>\n",
              "      <td>1.896657e+05</td>\n",
              "      <td>10.078092</td>\n",
              "      <td>1079.067301</td>\n",
              "      <td>87.505897</td>\n",
              "      <td>40.422400</td>\n",
              "    </tr>\n",
              "    <tr>\n",
              "      <th>std</th>\n",
              "      <td>13.710652</td>\n",
              "      <td>1.056048e+05</td>\n",
              "      <td>2.570954</td>\n",
              "      <td>7452.168393</td>\n",
              "      <td>403.012415</td>\n",
              "      <td>12.391697</td>\n",
              "    </tr>\n",
              "    <tr>\n",
              "      <th>min</th>\n",
              "      <td>17.000000</td>\n",
              "      <td>1.228500e+04</td>\n",
              "      <td>1.000000</td>\n",
              "      <td>0.000000</td>\n",
              "      <td>0.000000</td>\n",
              "      <td>1.000000</td>\n",
              "    </tr>\n",
              "    <tr>\n",
              "      <th>25%</th>\n",
              "      <td>28.000000</td>\n",
              "      <td>1.175535e+05</td>\n",
              "      <td>9.000000</td>\n",
              "      <td>0.000000</td>\n",
              "      <td>0.000000</td>\n",
              "      <td>40.000000</td>\n",
              "    </tr>\n",
              "    <tr>\n",
              "      <th>50%</th>\n",
              "      <td>37.000000</td>\n",
              "      <td>1.781445e+05</td>\n",
              "      <td>10.000000</td>\n",
              "      <td>0.000000</td>\n",
              "      <td>0.000000</td>\n",
              "      <td>40.000000</td>\n",
              "    </tr>\n",
              "    <tr>\n",
              "      <th>75%</th>\n",
              "      <td>48.000000</td>\n",
              "      <td>2.376472e+05</td>\n",
              "      <td>12.000000</td>\n",
              "      <td>0.000000</td>\n",
              "      <td>0.000000</td>\n",
              "      <td>45.000000</td>\n",
              "    </tr>\n",
              "    <tr>\n",
              "      <th>max</th>\n",
              "      <td>90.000000</td>\n",
              "      <td>1.490400e+06</td>\n",
              "      <td>16.000000</td>\n",
              "      <td>99999.000000</td>\n",
              "      <td>4356.000000</td>\n",
              "      <td>99.000000</td>\n",
              "    </tr>\n",
              "  </tbody>\n",
              "</table>\n",
              "</div>"
            ],
            "text/plain": [
              "                age        fnlwgt  ...  capital_loss  hours_per_week\n",
              "count  48840.000000  4.884000e+04  ...  48840.000000    48840.000000\n",
              "mean      38.643857  1.896657e+05  ...     87.505897       40.422400\n",
              "std       13.710652  1.056048e+05  ...    403.012415       12.391697\n",
              "min       17.000000  1.228500e+04  ...      0.000000        1.000000\n",
              "25%       28.000000  1.175535e+05  ...      0.000000       40.000000\n",
              "50%       37.000000  1.781445e+05  ...      0.000000       40.000000\n",
              "75%       48.000000  2.376472e+05  ...      0.000000       45.000000\n",
              "max       90.000000  1.490400e+06  ...   4356.000000       99.000000\n",
              "\n",
              "[8 rows x 6 columns]"
            ]
          },
          "metadata": {
            "tags": []
          },
          "execution_count": 142
        }
      ]
    },
    {
      "cell_type": "code",
      "metadata": {
        "id": "OL7NJvIODD-m",
        "colab_type": "code",
        "colab": {
          "base_uri": "https://localhost:8080/",
          "height": 67
        },
        "outputId": "9d713fd6-b147-4888-85f9-6e2942d1006d"
      },
      "source": [
        "# checking for duplicates in the dataset\n",
        "\n",
        "census_data.duplicated(keep = 'first').value_counts()"
      ],
      "execution_count": 143,
      "outputs": [
        {
          "output_type": "execute_result",
          "data": {
            "text/plain": [
              "False    48811\n",
              "True        29\n",
              "dtype: int64"
            ]
          },
          "metadata": {
            "tags": []
          },
          "execution_count": 143
        }
      ]
    },
    {
      "cell_type": "code",
      "metadata": {
        "id": "CGrHe7vaDmP3",
        "colab_type": "code",
        "colab": {}
      },
      "source": [
        "# drop duplicate rows from the dataframe\n",
        "\n",
        "census_data = census_data.drop_duplicates(keep = 'first', ignore_index=True)"
      ],
      "execution_count": 144,
      "outputs": []
    },
    {
      "cell_type": "code",
      "metadata": {
        "id": "GCHXk4RDEPY0",
        "colab_type": "code",
        "colab": {
          "base_uri": "https://localhost:8080/",
          "height": 34
        },
        "outputId": "d719e41e-708c-46df-91c4-b665523d2057"
      },
      "source": [
        "# shape of dataset\n",
        "census_data.shape"
      ],
      "execution_count": 145,
      "outputs": [
        {
          "output_type": "execute_result",
          "data": {
            "text/plain": [
              "(48811, 15)"
            ]
          },
          "metadata": {
            "tags": []
          },
          "execution_count": 145
        }
      ]
    },
    {
      "cell_type": "code",
      "metadata": {
        "id": "pLOv7uxVES6D",
        "colab_type": "code",
        "colab": {
          "base_uri": "https://localhost:8080/",
          "height": 50
        },
        "outputId": "25421463-c36a-406a-9841-ce0dde00cb4d"
      },
      "source": [
        "# check for duplicates now\n",
        "census_data.duplicated(keep = 'first').value_counts()"
      ],
      "execution_count": 146,
      "outputs": [
        {
          "output_type": "execute_result",
          "data": {
            "text/plain": [
              "False    48811\n",
              "dtype: int64"
            ]
          },
          "metadata": {
            "tags": []
          },
          "execution_count": 146
        }
      ]
    },
    {
      "cell_type": "code",
      "metadata": {
        "id": "Ap9Y04ebEXqg",
        "colab_type": "code",
        "colab": {}
      },
      "source": [
        "# no duplicate rows present now"
      ],
      "execution_count": 147,
      "outputs": []
    },
    {
      "cell_type": "code",
      "metadata": {
        "id": "VpAYsvJcEabQ",
        "colab_type": "code",
        "colab": {
          "base_uri": "https://localhost:8080/",
          "height": 286
        },
        "outputId": "4d81b6e5-d219-48f0-f178-4168f13a80e9"
      },
      "source": [
        "# nunique()\n",
        "census_data.nunique()"
      ],
      "execution_count": 148,
      "outputs": [
        {
          "output_type": "execute_result",
          "data": {
            "text/plain": [
              "age                  74\n",
              "workclass             9\n",
              "fnlwgt            28521\n",
              "education            16\n",
              "education_num        16\n",
              "marital_status        7\n",
              "occupation           15\n",
              "relationship          6\n",
              "race                  5\n",
              "sex                   2\n",
              "capital_gain        123\n",
              "capital_loss         99\n",
              "hours_per_week       96\n",
              "native_country       42\n",
              "income                4\n",
              "dtype: int64"
            ]
          },
          "metadata": {
            "tags": []
          },
          "execution_count": 148
        }
      ]
    },
    {
      "cell_type": "code",
      "metadata": {
        "id": "ERem2qmENaAH",
        "colab_type": "code",
        "colab": {}
      },
      "source": [
        "# no constant feature columns are present"
      ],
      "execution_count": 149,
      "outputs": []
    },
    {
      "cell_type": "code",
      "metadata": {
        "id": "L0bWy0X-02aE",
        "colab_type": "code",
        "colab": {
          "base_uri": "https://localhost:8080/",
          "height": 319
        },
        "outputId": "76fc8cf5-1170-4e5a-dad3-e019debfa588"
      },
      "source": [
        "# checking \"education\" and \"education_num\" \n",
        "# groupby \"education\"\n",
        "\n",
        "census_data.groupby(\"education\")[\"education_num\"].nunique()"
      ],
      "execution_count": 150,
      "outputs": [
        {
          "output_type": "execute_result",
          "data": {
            "text/plain": [
              "education\n",
              " 10th            1\n",
              " 11th            1\n",
              " 12th            1\n",
              " 1st-4th         1\n",
              " 5th-6th         1\n",
              " 7th-8th         1\n",
              " 9th             1\n",
              " Assoc-acdm      1\n",
              " Assoc-voc       1\n",
              " Bachelors       1\n",
              " Doctorate       1\n",
              " HS-grad         1\n",
              " Masters         1\n",
              " Preschool       1\n",
              " Prof-school     1\n",
              " Some-college    1\n",
              "Name: education_num, dtype: int64"
            ]
          },
          "metadata": {
            "tags": []
          },
          "execution_count": 150
        }
      ]
    },
    {
      "cell_type": "code",
      "metadata": {
        "id": "twt33re50864",
        "colab_type": "code",
        "colab": {}
      },
      "source": [
        "# education and education num denote same information\n",
        "# drop \"education_num\"\n",
        "\n",
        "census_data = census_data.drop(columns = [\"education_num\"])"
      ],
      "execution_count": 151,
      "outputs": []
    },
    {
      "cell_type": "code",
      "metadata": {
        "id": "GFg_7yZ6VV8y",
        "colab_type": "code",
        "colab": {
          "base_uri": "https://localhost:8080/",
          "height": 1000
        },
        "outputId": "687502ac-a8c2-4a9a-8772-3ec3e6ac253e"
      },
      "source": [
        "# value_counts()\n",
        "\n",
        "for column in census_data.columns[:8]:\n",
        "  print(\"column is : \" , column)\n",
        "  print(census_data[column].value_counts())\n",
        "  print(\"\\n\")"
      ],
      "execution_count": 152,
      "outputs": [
        {
          "output_type": "stream",
          "text": [
            "column is :  age\n",
            "36    1348\n",
            "35    1336\n",
            "33    1335\n",
            "23    1328\n",
            "31    1325\n",
            "      ... \n",
            "88       6\n",
            "85       5\n",
            "87       3\n",
            "89       2\n",
            "86       1\n",
            "Name: age, Length: 74, dtype: int64\n",
            "\n",
            "\n",
            "column is :  workclass\n",
            " Private             33878\n",
            " Self-emp-not-inc     3861\n",
            " Local-gov            3136\n",
            " ?                    2799\n",
            " State-gov            1980\n",
            " Self-emp-inc         1694\n",
            " Federal-gov          1432\n",
            " Without-pay            21\n",
            " Never-worked           10\n",
            "Name: workclass, dtype: int64\n",
            "\n",
            "\n",
            "column is :  fnlwgt\n",
            "203488    21\n",
            "190290    19\n",
            "120277    19\n",
            "126569    18\n",
            "125892    18\n",
            "          ..\n",
            "284952     1\n",
            "170272     1\n",
            "137444     1\n",
            "172327     1\n",
            "208174     1\n",
            "Name: fnlwgt, Length: 28521, dtype: int64\n",
            "\n",
            "\n",
            "column is :  education\n",
            " HS-grad         15777\n",
            " Some-college    10869\n",
            " Bachelors        8019\n",
            " Masters          2656\n",
            " Assoc-voc        2060\n",
            " 11th             1811\n",
            " Assoc-acdm       1601\n",
            " 10th             1389\n",
            " 7th-8th           954\n",
            " Prof-school       834\n",
            " 9th               756\n",
            " 12th              656\n",
            " Doctorate         594\n",
            " 5th-6th           508\n",
            " 1st-4th           245\n",
            " Preschool          82\n",
            "Name: education, dtype: int64\n",
            "\n",
            "\n",
            "column is :  marital_status\n",
            " Married-civ-spouse       22372\n",
            " Never-married            16096\n",
            " Divorced                  6630\n",
            " Separated                 1530\n",
            " Widowed                   1518\n",
            " Married-spouse-absent      628\n",
            " Married-AF-spouse           37\n",
            "Name: marital_status, dtype: int64\n",
            "\n",
            "\n",
            "column is :  occupation\n",
            " Prof-specialty       6167\n",
            " Craft-repair         6107\n",
            " Exec-managerial      6084\n",
            " Adm-clerical         5607\n",
            " Sales                5504\n",
            " Other-service        4919\n",
            " Machine-op-inspct    3018\n",
            " ?                    2809\n",
            " Transport-moving     2355\n",
            " Handlers-cleaners    2071\n",
            " Farming-fishing      1487\n",
            " Tech-support         1445\n",
            " Protective-serv       983\n",
            " Priv-house-serv       240\n",
            " Armed-Forces           15\n",
            "Name: occupation, dtype: int64\n",
            "\n",
            "\n",
            "column is :  relationship\n",
            " Husband           19709\n",
            " Not-in-family     12566\n",
            " Own-child          7575\n",
            " Unmarried          5124\n",
            " Wife               2331\n",
            " Other-relative     1506\n",
            "Name: relationship, dtype: int64\n",
            "\n",
            "\n",
            "column is :  race\n",
            " White                 41735\n",
            " Black                  4682\n",
            " Asian-Pac-Islander     1518\n",
            " Amer-Indian-Eskimo      470\n",
            " Other                   406\n",
            "Name: race, dtype: int64\n",
            "\n",
            "\n"
          ],
          "name": "stdout"
        }
      ]
    },
    {
      "cell_type": "code",
      "metadata": {
        "id": "kQO7t5OCVVut",
        "colab_type": "code",
        "colab": {
          "base_uri": "https://localhost:8080/",
          "height": 1000
        },
        "outputId": "70d2d5bf-1606-426b-ee55-41cbbc731e94"
      },
      "source": [
        "# value_counts()\n",
        "\n",
        "for column in census_data.columns[8:]:\n",
        "  print(\"column is : \" , column)\n",
        "  print(census_data[column].value_counts())\n",
        "  print(\"\\n\")"
      ],
      "execution_count": 153,
      "outputs": [
        {
          "output_type": "stream",
          "text": [
            "column is :  sex\n",
            " Male      32629\n",
            " Female    16182\n",
            "Name: sex, dtype: int64\n",
            "\n",
            "\n",
            "column is :  capital_gain\n",
            "0        44777\n",
            "15024      513\n",
            "7688       410\n",
            "7298       364\n",
            "99999      244\n",
            "         ...  \n",
            "2387         1\n",
            "22040        1\n",
            "6612         1\n",
            "1111         1\n",
            "1639         1\n",
            "Name: capital_gain, Length: 123, dtype: int64\n",
            "\n",
            "\n",
            "column is :  capital_loss\n",
            "0       46529\n",
            "1902      304\n",
            "1977      253\n",
            "1887      233\n",
            "2415       72\n",
            "        ...  \n",
            "1539        1\n",
            "2489        1\n",
            "2201        1\n",
            "1421        1\n",
            "1870        1\n",
            "Name: capital_loss, Length: 99, dtype: int64\n",
            "\n",
            "\n",
            "column is :  hours_per_week\n",
            "40    22785\n",
            "50     4244\n",
            "45     2716\n",
            "60     2177\n",
            "35     1935\n",
            "      ...  \n",
            "69        1\n",
            "94        1\n",
            "79        1\n",
            "82        1\n",
            "87        1\n",
            "Name: hours_per_week, Length: 96, dtype: int64\n",
            "\n",
            "\n",
            "column is :  native_country\n",
            " United-States                 43808\n",
            " Mexico                          947\n",
            " ?                               856\n",
            " Philippines                     295\n",
            " Germany                         206\n",
            " Puerto-Rico                     184\n",
            " Canada                          182\n",
            " El-Salvador                     155\n",
            " India                           151\n",
            " Cuba                            138\n",
            " England                         127\n",
            " China                           122\n",
            " South                           115\n",
            " Jamaica                         106\n",
            " Italy                           105\n",
            " Dominican-Republic              103\n",
            " Japan                            92\n",
            " Poland                           87\n",
            " Guatemala                        86\n",
            " Vietnam                          86\n",
            " Columbia                         85\n",
            " Haiti                            75\n",
            " Portugal                         67\n",
            " Taiwan                           65\n",
            " Iran                             59\n",
            " Greece                           49\n",
            " Nicaragua                        49\n",
            " Peru                             46\n",
            " Ecuador                          45\n",
            " France                           38\n",
            " Ireland                          37\n",
            " Hong                             30\n",
            " Thailand                         30\n",
            " Cambodia                         28\n",
            " Trinadad&Tobago                  27\n",
            " Laos                             23\n",
            " Outlying-US(Guam-USVI-etc)       23\n",
            " Yugoslavia                       23\n",
            " Scotland                         21\n",
            " Honduras                         20\n",
            " Hungary                          19\n",
            " Holand-Netherlands                1\n",
            "Name: native_country, dtype: int64\n",
            "\n",
            "\n",
            "column is :  income\n",
            " <=50K     24697\n",
            " <=50K.    12429\n",
            " >50K       7839\n",
            " >50K.      3846\n",
            "Name: income, dtype: int64\n",
            "\n",
            "\n"
          ],
          "name": "stdout"
        }
      ]
    },
    {
      "cell_type": "code",
      "metadata": {
        "id": "u5xD1R_VNf_z",
        "colab_type": "code",
        "colab": {}
      },
      "source": [
        "# Data Cleaning : "
      ],
      "execution_count": 154,
      "outputs": []
    },
    {
      "cell_type": "code",
      "metadata": {
        "id": "qHUlkHneMLbz",
        "colab_type": "code",
        "colab": {
          "base_uri": "https://localhost:8080/",
          "height": 34
        },
        "outputId": "c9eba8fb-38c7-4805-8f7d-98329f8953d6"
      },
      "source": [
        "# Target variable\n",
        "\n",
        "census_data[\"income\"].value_counts().index.to_list()"
      ],
      "execution_count": 155,
      "outputs": [
        {
          "output_type": "execute_result",
          "data": {
            "text/plain": [
              "[' <=50K', ' <=50K.', ' >50K', ' >50K.']"
            ]
          },
          "metadata": {
            "tags": []
          },
          "execution_count": 155
        }
      ]
    },
    {
      "cell_type": "code",
      "metadata": {
        "id": "BknCRQ0fMWVo",
        "colab_type": "code",
        "colab": {}
      },
      "source": [
        "# replacing \"income\" column entries with appropriate values\n",
        "\n",
        "census_data[\"income\"] = census_data['income'].replace(census_data[\"income\"].value_counts().index.to_list(), ['low', 'low', 'high', 'high'])"
      ],
      "execution_count": 156,
      "outputs": []
    },
    {
      "cell_type": "code",
      "metadata": {
        "id": "bCmHcNLXNWL7",
        "colab_type": "code",
        "colab": {
          "base_uri": "https://localhost:8080/",
          "height": 34
        },
        "outputId": "743c0529-6ea6-4e4c-b6c9-b638e31d359b"
      },
      "source": [
        "census_data[\"income\"].value_counts().index.to_list()"
      ],
      "execution_count": 157,
      "outputs": [
        {
          "output_type": "execute_result",
          "data": {
            "text/plain": [
              "['low', 'high']"
            ]
          },
          "metadata": {
            "tags": []
          },
          "execution_count": 157
        }
      ]
    },
    {
      "cell_type": "code",
      "metadata": {
        "id": "zA-cvkoqPGME",
        "colab_type": "code",
        "colab": {}
      },
      "source": [
        "# filling '?' with NAN\n",
        "census_data = census_data.replace(['?', ' ?', '? '] , np.NaN)"
      ],
      "execution_count": 158,
      "outputs": []
    },
    {
      "cell_type": "code",
      "metadata": {
        "id": "noTMGwYCPPcR",
        "colab_type": "code",
        "colab": {}
      },
      "source": [
        ""
      ],
      "execution_count": 158,
      "outputs": []
    },
    {
      "cell_type": "code",
      "metadata": {
        "id": "IYWLnv0FvvsA",
        "colab_type": "code",
        "colab": {
          "base_uri": "https://localhost:8080/",
          "height": 185
        },
        "outputId": "8b813eb4-db5c-40ec-c8d2-c256d94f0325"
      },
      "source": [
        "# Income distribution in the data:\n",
        "\n",
        "total_number_of_people = census_data.shape[0]\n",
        "\n",
        "high_income_group = census_data[census_data['income'] == 'high'].shape[0]\n",
        "\n",
        "low_income_group = census_data[census_data['income'] == 'low'].shape[0]\n",
        "\n",
        "high_income_percentage = round((high_income_group/ total_number_of_people)*100, 2)\n",
        "\n",
        "low_income_percentage = round((low_income_group/ total_number_of_people)*100, 2)\n",
        "\n",
        "print(\"\\nTotal nuuber of people in the dataset : \" , total_number_of_people)\n",
        "print(\"\\nNumber of people in the high income group : \" , high_income_group)\n",
        "print(\"\\nNUmber of people in the low income group : \" , low_income_group)\n",
        "print(\"\\nPercentage of people in the high incmoe group : \", high_income_percentage)\n",
        "print(\"\\nPercenatge of people in the low income group : \" , low_income_percentage)"
      ],
      "execution_count": 159,
      "outputs": [
        {
          "output_type": "stream",
          "text": [
            "\n",
            "Total nuuber of people in the dataset :  48811\n",
            "\n",
            "Number of people in the high income group :  11685\n",
            "\n",
            "NUmber of people in the low income group :  37126\n",
            "\n",
            "Percentage of people in the high incmoe group :  23.94\n",
            "\n",
            "Percenatge of people in the low income group :  76.06\n"
          ],
          "name": "stdout"
        }
      ]
    },
    {
      "cell_type": "code",
      "metadata": {
        "id": "NS72mFwcvvg-",
        "colab_type": "code",
        "colab": {}
      },
      "source": [
        ""
      ],
      "execution_count": 159,
      "outputs": []
    },
    {
      "cell_type": "code",
      "metadata": {
        "id": "DumcypGBxPo7",
        "colab_type": "code",
        "colab": {
          "base_uri": "https://localhost:8080/",
          "height": 1000
        },
        "outputId": "5a11e79e-2af0-46e9-fe7c-a2be1f26640c"
      },
      "source": [
        "# Visualization on the income\n",
        "\n",
        "sns.set(style='darkgrid', color_codes=True)\n",
        "sns.factorplot('sex', col='education', data=census_data, hue='income', kind='count', col_wrap= 3)"
      ],
      "execution_count": 160,
      "outputs": [
        {
          "output_type": "execute_result",
          "data": {
            "text/plain": [
              "<seaborn.axisgrid.FacetGrid at 0x7fe8dada0128>"
            ]
          },
          "metadata": {
            "tags": []
          },
          "execution_count": 160
        },
        {
          "output_type": "display_data",
          "data": {
            "image/png": "[encoded data removed]",
            "text/plain": [
              "<Figure size 1143.73x2160 with 16 Axes>"
            ]
          },
          "metadata": {
            "tags": []
          }
        }
      ]
    },
    {
      "cell_type": "code",
      "metadata": {
        "id": "dmOMfx-1xPd5",
        "colab_type": "code",
        "colab": {}
      },
      "source": [
        "# Observations :\n",
        "\n",
        "# Number of educated men is higher than the number of educated women at all education levels\n",
        "# Number of 'high' income men is higher htan the number of 'high' income women at all education levels"
      ],
      "execution_count": 161,
      "outputs": []
    },
    {
      "cell_type": "code",
      "metadata": {
        "id": "dLbqH3rTzhsy",
        "colab_type": "code",
        "colab": {}
      },
      "source": [
        ""
      ],
      "execution_count": 161,
      "outputs": []
    },
    {
      "cell_type": "code",
      "metadata": {
        "id": "PBVHpw7jvpTe",
        "colab_type": "code",
        "colab": {}
      },
      "source": [
        ""
      ],
      "execution_count": 161,
      "outputs": []
    },
    {
      "cell_type": "code",
      "metadata": {
        "id": "0N9NQ21izM-j",
        "colab_type": "code",
        "colab": {
          "base_uri": "https://localhost:8080/",
          "height": 372
        },
        "outputId": "95810b68-abb2-4111-d009-db61eaa42ad4"
      },
      "source": [
        "# age\n",
        "census_data.hist(column = 'age',figsize = (8, 5))"
      ],
      "execution_count": 162,
      "outputs": [
        {
          "output_type": "execute_result",
          "data": {
            "text/plain": [
              "array([[<matplotlib.axes._subplots.AxesSubplot object at 0x7fe8da7798d0>]],\n",
              "      dtype=object)"
            ]
          },
          "metadata": {
            "tags": []
          },
          "execution_count": 162
        },
        {
          "output_type": "display_data",
          "data": {
            "image/png": "[encoded data removed]",
            "text/plain": [
              "<Figure size 576x360 with 1 Axes>"
            ]
          },
          "metadata": {
            "tags": []
          }
        }
      ]
    },
    {
      "cell_type": "code",
      "metadata": {
        "id": "QHHEDBq9-M7j",
        "colab_type": "code",
        "colab": {
          "base_uri": "https://localhost:8080/",
          "height": 483
        },
        "outputId": "657061f7-a0bd-4cb8-8c09-c1520c729ddd"
      },
      "source": [
        "# boxplots : \n",
        "\n",
        "fig, ax = plt.subplots(1, 2, figsize=(12, 8))\n",
        "sns.boxplot( y = 'capital_gain', data = census_data, ax = ax[0])\n",
        "sns.boxplot( y = 'capital_loss', data = census_data, ax = ax[1])\n",
        "\n"
      ],
      "execution_count": 163,
      "outputs": [
        {
          "output_type": "execute_result",
          "data": {
            "text/plain": [
              "<matplotlib.axes._subplots.AxesSubplot at 0x7fe8da710da0>"
            ]
          },
          "metadata": {
            "tags": []
          },
          "execution_count": 163
        },
        {
          "output_type": "display_data",
          "data": {
            "image/png": "[encoded data removed]",
            "text/plain": [
              "<Figure size 864x576 with 2 Axes>"
            ]
          },
          "metadata": {
            "tags": []
          }
        }
      ]
    },
    {
      "cell_type": "code",
      "metadata": {
        "id": "jXi2QImozOaX",
        "colab_type": "code",
        "colab": {
          "base_uri": "https://localhost:8080/",
          "height": 299
        },
        "outputId": "7e05cf27-34c2-4ad4-819b-3b3ef644babc"
      },
      "source": [
        "# changing the scale of \"capital_gain\" and \"capital_loss\" into the logarithmic scale\n",
        "\n",
        "skewed = [\"capital_gain\", \"capital_loss\"]\n",
        "census_data[skewed] = census_data[skewed].apply(lambda x : np.log(x+1))\n",
        "census_data.head()"
      ],
      "execution_count": 164,
      "outputs": [
        {
          "output_type": "execute_result",
          "data": {
            "text/html": [
              "<div>\n",
              "<style scoped>\n",
              "    .dataframe tbody tr th:only-of-type {\n",
              "        vertical-align: middle;\n",
              "    }\n",
              "\n",
              "    .dataframe tbody tr th {\n",
              "        vertical-align: top;\n",
              "    }\n",
              "\n",
              "    .dataframe thead th {\n",
              "        text-align: right;\n",
              "    }\n",
              "</style>\n",
              "<table border=\"1\" class=\"dataframe\">\n",
              "  <thead>\n",
              "    <tr style=\"text-align: right;\">\n",
              "      <th></th>\n",
              "      <th>age</th>\n",
              "      <th>workclass</th>\n",
              "      <th>fnlwgt</th>\n",
              "      <th>education</th>\n",
              "      <th>marital_status</th>\n",
              "      <th>occupation</th>\n",
              "      <th>relationship</th>\n",
              "      <th>race</th>\n",
              "      <th>sex</th>\n",
              "      <th>capital_gain</th>\n",
              "      <th>capital_loss</th>\n",
              "      <th>hours_per_week</th>\n",
              "      <th>native_country</th>\n",
              "      <th>income</th>\n",
              "    </tr>\n",
              "  </thead>\n",
              "  <tbody>\n",
              "    <tr>\n",
              "      <th>0</th>\n",
              "      <td>50</td>\n",
              "      <td>Self-emp-not-inc</td>\n",
              "      <td>83311</td>\n",
              "      <td>Bachelors</td>\n",
              "      <td>Married-civ-spouse</td>\n",
              "      <td>Exec-managerial</td>\n",
              "      <td>Husband</td>\n",
              "      <td>White</td>\n",
              "      <td>Male</td>\n",
              "      <td>0.0</td>\n",
              "      <td>0.0</td>\n",
              "      <td>13</td>\n",
              "      <td>United-States</td>\n",
              "      <td>low</td>\n",
              "    </tr>\n",
              "    <tr>\n",
              "      <th>1</th>\n",
              "      <td>38</td>\n",
              "      <td>Private</td>\n",
              "      <td>215646</td>\n",
              "      <td>HS-grad</td>\n",
              "      <td>Divorced</td>\n",
              "      <td>Handlers-cleaners</td>\n",
              "      <td>Not-in-family</td>\n",
              "      <td>White</td>\n",
              "      <td>Male</td>\n",
              "      <td>0.0</td>\n",
              "      <td>0.0</td>\n",
              "      <td>40</td>\n",
              "      <td>United-States</td>\n",
              "      <td>low</td>\n",
              "    </tr>\n",
              "    <tr>\n",
              "      <th>2</th>\n",
              "      <td>53</td>\n",
              "      <td>Private</td>\n",
              "      <td>234721</td>\n",
              "      <td>11th</td>\n",
              "      <td>Married-civ-spouse</td>\n",
              "      <td>Handlers-cleaners</td>\n",
              "      <td>Husband</td>\n",
              "      <td>Black</td>\n",
              "      <td>Male</td>\n",
              "      <td>0.0</td>\n",
              "      <td>0.0</td>\n",
              "      <td>40</td>\n",
              "      <td>United-States</td>\n",
              "      <td>low</td>\n",
              "    </tr>\n",
              "    <tr>\n",
              "      <th>3</th>\n",
              "      <td>28</td>\n",
              "      <td>Private</td>\n",
              "      <td>338409</td>\n",
              "      <td>Bachelors</td>\n",
              "      <td>Married-civ-spouse</td>\n",
              "      <td>Prof-specialty</td>\n",
              "      <td>Wife</td>\n",
              "      <td>Black</td>\n",
              "      <td>Female</td>\n",
              "      <td>0.0</td>\n",
              "      <td>0.0</td>\n",
              "      <td>40</td>\n",
              "      <td>Cuba</td>\n",
              "      <td>low</td>\n",
              "    </tr>\n",
              "    <tr>\n",
              "      <th>4</th>\n",
              "      <td>37</td>\n",
              "      <td>Private</td>\n",
              "      <td>284582</td>\n",
              "      <td>Masters</td>\n",
              "      <td>Married-civ-spouse</td>\n",
              "      <td>Exec-managerial</td>\n",
              "      <td>Wife</td>\n",
              "      <td>White</td>\n",
              "      <td>Female</td>\n",
              "      <td>0.0</td>\n",
              "      <td>0.0</td>\n",
              "      <td>40</td>\n",
              "      <td>United-States</td>\n",
              "      <td>low</td>\n",
              "    </tr>\n",
              "  </tbody>\n",
              "</table>\n",
              "</div>"
            ],
            "text/plain": [
              "   age          workclass  fnlwgt  ... hours_per_week  native_country income\n",
              "0   50   Self-emp-not-inc   83311  ...             13   United-States    low\n",
              "1   38            Private  215646  ...             40   United-States    low\n",
              "2   53            Private  234721  ...             40   United-States    low\n",
              "3   28            Private  338409  ...             40            Cuba    low\n",
              "4   37            Private  284582  ...             40   United-States    low\n",
              "\n",
              "[5 rows x 14 columns]"
            ]
          },
          "metadata": {
            "tags": []
          },
          "execution_count": 164
        }
      ]
    },
    {
      "cell_type": "code",
      "metadata": {
        "id": "Wp3dhXEx3flj",
        "colab_type": "code",
        "colab": {
          "base_uri": "https://localhost:8080/",
          "height": 372
        },
        "outputId": "0961b262-339e-4bd0-848a-d700510e6486"
      },
      "source": [
        "# viewing the logarithmic scale\n",
        "\n",
        "fig, axes = plt.subplots(1, 2, figsize=(16, 5))\n",
        "census_data.hist(column=\"capital_gain\", bins = 20, ax = axes[0])\n",
        "census_data.hist(column=\"capital_loss\", bins = 20, ax = axes[1])"
      ],
      "execution_count": 165,
      "outputs": [
        {
          "output_type": "execute_result",
          "data": {
            "text/plain": [
              "array([<matplotlib.axes._subplots.AxesSubplot object at 0x7fe8da64e470>],\n",
              "      dtype=object)"
            ]
          },
          "metadata": {
            "tags": []
          },
          "execution_count": 165
        },
        {
          "output_type": "display_data",
          "data": {
            "image/png": "[encoded data removed]",
            "text/plain": [
              "<Figure size 1152x360 with 2 Axes>"
            ]
          },
          "metadata": {
            "tags": []
          }
        }
      ]
    },
    {
      "cell_type": "code",
      "metadata": {
        "id": "6PU_3CNV3aNd",
        "colab_type": "code",
        "colab": {}
      },
      "source": [
        "# drop \"fnlwgt\"\n",
        "census_data = census_data.drop(columns = [\"fnlwgt\"])"
      ],
      "execution_count": 166,
      "outputs": []
    },
    {
      "cell_type": "code",
      "metadata": {
        "id": "b_c7pP5R_exT",
        "colab_type": "code",
        "colab": {
          "base_uri": "https://localhost:8080/",
          "height": 252
        },
        "outputId": "4de5d01b-6bdf-48a9-9209-dddb21878064"
      },
      "source": [
        "# check for nulls\n",
        "\n",
        "census_data.isna().sum()"
      ],
      "execution_count": 167,
      "outputs": [
        {
          "output_type": "execute_result",
          "data": {
            "text/plain": [
              "age                  0\n",
              "workclass         2799\n",
              "education            0\n",
              "marital_status       0\n",
              "occupation        2809\n",
              "relationship         0\n",
              "race                 0\n",
              "sex                  0\n",
              "capital_gain         0\n",
              "capital_loss         0\n",
              "hours_per_week       0\n",
              "native_country     856\n",
              "income               0\n",
              "dtype: int64"
            ]
          },
          "metadata": {
            "tags": []
          },
          "execution_count": 167
        }
      ]
    },
    {
      "cell_type": "code",
      "metadata": {
        "id": "4b2Jm0zryCif",
        "colab_type": "code",
        "colab": {
          "base_uri": "https://localhost:8080/",
          "height": 252
        },
        "outputId": "0c478761-2f20-4e95-ed0b-72449cf9aa09"
      },
      "source": [
        "# null percentage\n",
        "\n",
        "round((census_data.isna().sum()/census_data.shape[0])*100, 2)"
      ],
      "execution_count": 168,
      "outputs": [
        {
          "output_type": "execute_result",
          "data": {
            "text/plain": [
              "age               0.00\n",
              "workclass         5.73\n",
              "education         0.00\n",
              "marital_status    0.00\n",
              "occupation        5.75\n",
              "relationship      0.00\n",
              "race              0.00\n",
              "sex               0.00\n",
              "capital_gain      0.00\n",
              "capital_loss      0.00\n",
              "hours_per_week    0.00\n",
              "native_country    1.75\n",
              "income            0.00\n",
              "dtype: float64"
            ]
          },
          "metadata": {
            "tags": []
          },
          "execution_count": 168
        }
      ]
    },
    {
      "cell_type": "code",
      "metadata": {
        "id": "tis-eBwVW8O6",
        "colab_type": "code",
        "colab": {}
      },
      "source": [
        "# drop rows with null values (nulls are < 6%)\n",
        "\n",
        "census_data = census_data.dropna()"
      ],
      "execution_count": 169,
      "outputs": []
    },
    {
      "cell_type": "code",
      "metadata": {
        "id": "Hk9mrp4NW8Nu",
        "colab_type": "code",
        "colab": {
          "base_uri": "https://localhost:8080/",
          "height": 34
        },
        "outputId": "ab585b2e-a73c-43a6-d880-56d4e089364b"
      },
      "source": [
        "# shape of dataset :\n",
        "\n",
        "census_data.shape"
      ],
      "execution_count": 170,
      "outputs": [
        {
          "output_type": "execute_result",
          "data": {
            "text/plain": [
              "(45192, 13)"
            ]
          },
          "metadata": {
            "tags": []
          },
          "execution_count": 170
        }
      ]
    },
    {
      "cell_type": "code",
      "metadata": {
        "id": "CYV9KNSsW8Jl",
        "colab_type": "code",
        "colab": {
          "base_uri": "https://localhost:8080/",
          "height": 252
        },
        "outputId": "e0c979d0-200e-4287-9091-3c231ae91b18"
      },
      "source": [
        "# checking nulls \n",
        "census_data.isna().sum()"
      ],
      "execution_count": 171,
      "outputs": [
        {
          "output_type": "execute_result",
          "data": {
            "text/plain": [
              "age               0\n",
              "workclass         0\n",
              "education         0\n",
              "marital_status    0\n",
              "occupation        0\n",
              "relationship      0\n",
              "race              0\n",
              "sex               0\n",
              "capital_gain      0\n",
              "capital_loss      0\n",
              "hours_per_week    0\n",
              "native_country    0\n",
              "income            0\n",
              "dtype: int64"
            ]
          },
          "metadata": {
            "tags": []
          },
          "execution_count": 171
        }
      ]
    },
    {
      "cell_type": "code",
      "metadata": {
        "id": "Tjim2D4GW8Dv",
        "colab_type": "code",
        "colab": {}
      },
      "source": [
        "# Data Preparation"
      ],
      "execution_count": 172,
      "outputs": []
    },
    {
      "cell_type": "code",
      "metadata": {
        "id": "MVh9RiEFW8CS",
        "colab_type": "code",
        "colab": {
          "base_uri": "https://localhost:8080/",
          "height": 299
        },
        "outputId": "665b92db-22ac-4a9a-f682-b4324f00dcea"
      },
      "source": [
        "census_data.head()"
      ],
      "execution_count": 173,
      "outputs": [
        {
          "output_type": "execute_result",
          "data": {
            "text/html": [
              "<div>\n",
              "<style scoped>\n",
              "    .dataframe tbody tr th:only-of-type {\n",
              "        vertical-align: middle;\n",
              "    }\n",
              "\n",
              "    .dataframe tbody tr th {\n",
              "        vertical-align: top;\n",
              "    }\n",
              "\n",
              "    .dataframe thead th {\n",
              "        text-align: right;\n",
              "    }\n",
              "</style>\n",
              "<table border=\"1\" class=\"dataframe\">\n",
              "  <thead>\n",
              "    <tr style=\"text-align: right;\">\n",
              "      <th></th>\n",
              "      <th>age</th>\n",
              "      <th>workclass</th>\n",
              "      <th>education</th>\n",
              "      <th>marital_status</th>\n",
              "      <th>occupation</th>\n",
              "      <th>relationship</th>\n",
              "      <th>race</th>\n",
              "      <th>sex</th>\n",
              "      <th>capital_gain</th>\n",
              "      <th>capital_loss</th>\n",
              "      <th>hours_per_week</th>\n",
              "      <th>native_country</th>\n",
              "      <th>income</th>\n",
              "    </tr>\n",
              "  </thead>\n",
              "  <tbody>\n",
              "    <tr>\n",
              "      <th>0</th>\n",
              "      <td>50</td>\n",
              "      <td>Self-emp-not-inc</td>\n",
              "      <td>Bachelors</td>\n",
              "      <td>Married-civ-spouse</td>\n",
              "      <td>Exec-managerial</td>\n",
              "      <td>Husband</td>\n",
              "      <td>White</td>\n",
              "      <td>Male</td>\n",
              "      <td>0.0</td>\n",
              "      <td>0.0</td>\n",
              "      <td>13</td>\n",
              "      <td>United-States</td>\n",
              "      <td>low</td>\n",
              "    </tr>\n",
              "    <tr>\n",
              "      <th>1</th>\n",
              "      <td>38</td>\n",
              "      <td>Private</td>\n",
              "      <td>HS-grad</td>\n",
              "      <td>Divorced</td>\n",
              "      <td>Handlers-cleaners</td>\n",
              "      <td>Not-in-family</td>\n",
              "      <td>White</td>\n",
              "      <td>Male</td>\n",
              "      <td>0.0</td>\n",
              "      <td>0.0</td>\n",
              "      <td>40</td>\n",
              "      <td>United-States</td>\n",
              "      <td>low</td>\n",
              "    </tr>\n",
              "    <tr>\n",
              "      <th>2</th>\n",
              "      <td>53</td>\n",
              "      <td>Private</td>\n",
              "      <td>11th</td>\n",
              "      <td>Married-civ-spouse</td>\n",
              "      <td>Handlers-cleaners</td>\n",
              "      <td>Husband</td>\n",
              "      <td>Black</td>\n",
              "      <td>Male</td>\n",
              "      <td>0.0</td>\n",
              "      <td>0.0</td>\n",
              "      <td>40</td>\n",
              "      <td>United-States</td>\n",
              "      <td>low</td>\n",
              "    </tr>\n",
              "    <tr>\n",
              "      <th>3</th>\n",
              "      <td>28</td>\n",
              "      <td>Private</td>\n",
              "      <td>Bachelors</td>\n",
              "      <td>Married-civ-spouse</td>\n",
              "      <td>Prof-specialty</td>\n",
              "      <td>Wife</td>\n",
              "      <td>Black</td>\n",
              "      <td>Female</td>\n",
              "      <td>0.0</td>\n",
              "      <td>0.0</td>\n",
              "      <td>40</td>\n",
              "      <td>Cuba</td>\n",
              "      <td>low</td>\n",
              "    </tr>\n",
              "    <tr>\n",
              "      <th>4</th>\n",
              "      <td>37</td>\n",
              "      <td>Private</td>\n",
              "      <td>Masters</td>\n",
              "      <td>Married-civ-spouse</td>\n",
              "      <td>Exec-managerial</td>\n",
              "      <td>Wife</td>\n",
              "      <td>White</td>\n",
              "      <td>Female</td>\n",
              "      <td>0.0</td>\n",
              "      <td>0.0</td>\n",
              "      <td>40</td>\n",
              "      <td>United-States</td>\n",
              "      <td>low</td>\n",
              "    </tr>\n",
              "  </tbody>\n",
              "</table>\n",
              "</div>"
            ],
            "text/plain": [
              "   age          workclass   education  ... hours_per_week  native_country income\n",
              "0   50   Self-emp-not-inc   Bachelors  ...             13   United-States    low\n",
              "1   38            Private     HS-grad  ...             40   United-States    low\n",
              "2   53            Private        11th  ...             40   United-States    low\n",
              "3   28            Private   Bachelors  ...             40            Cuba    low\n",
              "4   37            Private     Masters  ...             40   United-States    low\n",
              "\n",
              "[5 rows x 13 columns]"
            ]
          },
          "metadata": {
            "tags": []
          },
          "execution_count": 173
        }
      ]
    },
    {
      "cell_type": "code",
      "metadata": {
        "id": "Z3Yv-NMPX34x",
        "colab_type": "code",
        "colab": {
          "base_uri": "https://localhost:8080/",
          "height": 252
        },
        "outputId": "bee7477e-d0b6-4a97-9de7-6fd82935e65b"
      },
      "source": [
        "census_data.nunique()"
      ],
      "execution_count": 174,
      "outputs": [
        {
          "output_type": "execute_result",
          "data": {
            "text/plain": [
              "age                74\n",
              "workclass           7\n",
              "education          16\n",
              "marital_status      7\n",
              "occupation         14\n",
              "relationship        6\n",
              "race                5\n",
              "sex                 2\n",
              "capital_gain      121\n",
              "capital_loss       97\n",
              "hours_per_week     96\n",
              "native_country     41\n",
              "income              2\n",
              "dtype: int64"
            ]
          },
          "metadata": {
            "tags": []
          },
          "execution_count": 174
        }
      ]
    },
    {
      "cell_type": "code",
      "metadata": {
        "id": "_DEp05ZWzH1x",
        "colab_type": "code",
        "colab": {}
      },
      "source": [
        "# LabelEncoding of Target variable\n",
        "\n",
        "census_data[\"income\"] = census_data[\"income\"].apply(lambda x: 0 if x == \"low\" else 1)"
      ],
      "execution_count": 175,
      "outputs": []
    },
    {
      "cell_type": "code",
      "metadata": {
        "id": "FbCtTcyEW7yV",
        "colab_type": "code",
        "colab": {
          "base_uri": "https://localhost:8080/",
          "height": 34
        },
        "outputId": "a5137411-27de-4d04-bc9c-0a44959c3dc3"
      },
      "source": [
        "# find binary columns\n",
        "\n",
        "binary_columns = census_data.nunique()[census_data.nunique() == 2].index.to_list()\n",
        "binary_columns.remove('income')\n",
        "binary_columns"
      ],
      "execution_count": 176,
      "outputs": [
        {
          "output_type": "execute_result",
          "data": {
            "text/plain": [
              "['sex']"
            ]
          },
          "metadata": {
            "tags": []
          },
          "execution_count": 176
        }
      ]
    },
    {
      "cell_type": "code",
      "metadata": {
        "id": "zMYVbsSiW7w8",
        "colab_type": "code",
        "colab": {}
      },
      "source": [
        "# Label Encoding\n",
        "\n",
        "from sklearn.preprocessing import LabelEncoder\n",
        "\n",
        "le = LabelEncoder()\n",
        "\n",
        "for column in binary_columns:\n",
        "  census_data[column] = le.fit_transform(census_data[column])"
      ],
      "execution_count": 177,
      "outputs": []
    },
    {
      "cell_type": "code",
      "metadata": {
        "id": "FSAvfPxiW7nc",
        "colab_type": "code",
        "colab": {
          "base_uri": "https://localhost:8080/",
          "height": 299
        },
        "outputId": "66c70188-4fa8-4c37-a7d3-f9ba11332438"
      },
      "source": [
        "census_data.head()"
      ],
      "execution_count": 178,
      "outputs": [
        {
          "output_type": "execute_result",
          "data": {
            "text/html": [
              "<div>\n",
              "<style scoped>\n",
              "    .dataframe tbody tr th:only-of-type {\n",
              "        vertical-align: middle;\n",
              "    }\n",
              "\n",
              "    .dataframe tbody tr th {\n",
              "        vertical-align: top;\n",
              "    }\n",
              "\n",
              "    .dataframe thead th {\n",
              "        text-align: right;\n",
              "    }\n",
              "</style>\n",
              "<table border=\"1\" class=\"dataframe\">\n",
              "  <thead>\n",
              "    <tr style=\"text-align: right;\">\n",
              "      <th></th>\n",
              "      <th>age</th>\n",
              "      <th>workclass</th>\n",
              "      <th>education</th>\n",
              "      <th>marital_status</th>\n",
              "      <th>occupation</th>\n",
              "      <th>relationship</th>\n",
              "      <th>race</th>\n",
              "      <th>sex</th>\n",
              "      <th>capital_gain</th>\n",
              "      <th>capital_loss</th>\n",
              "      <th>hours_per_week</th>\n",
              "      <th>native_country</th>\n",
              "      <th>income</th>\n",
              "    </tr>\n",
              "  </thead>\n",
              "  <tbody>\n",
              "    <tr>\n",
              "      <th>0</th>\n",
              "      <td>50</td>\n",
              "      <td>Self-emp-not-inc</td>\n",
              "      <td>Bachelors</td>\n",
              "      <td>Married-civ-spouse</td>\n",
              "      <td>Exec-managerial</td>\n",
              "      <td>Husband</td>\n",
              "      <td>White</td>\n",
              "      <td>1</td>\n",
              "      <td>0.0</td>\n",
              "      <td>0.0</td>\n",
              "      <td>13</td>\n",
              "      <td>United-States</td>\n",
              "      <td>0</td>\n",
              "    </tr>\n",
              "    <tr>\n",
              "      <th>1</th>\n",
              "      <td>38</td>\n",
              "      <td>Private</td>\n",
              "      <td>HS-grad</td>\n",
              "      <td>Divorced</td>\n",
              "      <td>Handlers-cleaners</td>\n",
              "      <td>Not-in-family</td>\n",
              "      <td>White</td>\n",
              "      <td>1</td>\n",
              "      <td>0.0</td>\n",
              "      <td>0.0</td>\n",
              "      <td>40</td>\n",
              "      <td>United-States</td>\n",
              "      <td>0</td>\n",
              "    </tr>\n",
              "    <tr>\n",
              "      <th>2</th>\n",
              "      <td>53</td>\n",
              "      <td>Private</td>\n",
              "      <td>11th</td>\n",
              "      <td>Married-civ-spouse</td>\n",
              "      <td>Handlers-cleaners</td>\n",
              "      <td>Husband</td>\n",
              "      <td>Black</td>\n",
              "      <td>1</td>\n",
              "      <td>0.0</td>\n",
              "      <td>0.0</td>\n",
              "      <td>40</td>\n",
              "      <td>United-States</td>\n",
              "      <td>0</td>\n",
              "    </tr>\n",
              "    <tr>\n",
              "      <th>3</th>\n",
              "      <td>28</td>\n",
              "      <td>Private</td>\n",
              "      <td>Bachelors</td>\n",
              "      <td>Married-civ-spouse</td>\n",
              "      <td>Prof-specialty</td>\n",
              "      <td>Wife</td>\n",
              "      <td>Black</td>\n",
              "      <td>0</td>\n",
              "      <td>0.0</td>\n",
              "      <td>0.0</td>\n",
              "      <td>40</td>\n",
              "      <td>Cuba</td>\n",
              "      <td>0</td>\n",
              "    </tr>\n",
              "    <tr>\n",
              "      <th>4</th>\n",
              "      <td>37</td>\n",
              "      <td>Private</td>\n",
              "      <td>Masters</td>\n",
              "      <td>Married-civ-spouse</td>\n",
              "      <td>Exec-managerial</td>\n",
              "      <td>Wife</td>\n",
              "      <td>White</td>\n",
              "      <td>0</td>\n",
              "      <td>0.0</td>\n",
              "      <td>0.0</td>\n",
              "      <td>40</td>\n",
              "      <td>United-States</td>\n",
              "      <td>0</td>\n",
              "    </tr>\n",
              "  </tbody>\n",
              "</table>\n",
              "</div>"
            ],
            "text/plain": [
              "   age          workclass   education  ... hours_per_week  native_country income\n",
              "0   50   Self-emp-not-inc   Bachelors  ...             13   United-States      0\n",
              "1   38            Private     HS-grad  ...             40   United-States      0\n",
              "2   53            Private        11th  ...             40   United-States      0\n",
              "3   28            Private   Bachelors  ...             40            Cuba      0\n",
              "4   37            Private     Masters  ...             40   United-States      0\n",
              "\n",
              "[5 rows x 13 columns]"
            ]
          },
          "metadata": {
            "tags": []
          },
          "execution_count": 178
        }
      ]
    },
    {
      "cell_type": "code",
      "metadata": {
        "id": "T4atceDjzbe1",
        "colab_type": "code",
        "colab": {
          "base_uri": "https://localhost:8080/",
          "height": 134
        },
        "outputId": "661ceffa-519e-405e-b8d3-209534fb098f"
      },
      "source": [
        "# find categorical columns to one hot encode\n",
        "\n",
        "cat_columns = census_data.nunique()[(census_data.nunique() > 2 ) & (census_data.nunique() < 45)].index.to_list()\n",
        "cat_columns"
      ],
      "execution_count": 179,
      "outputs": [
        {
          "output_type": "execute_result",
          "data": {
            "text/plain": [
              "['workclass',\n",
              " 'education',\n",
              " 'marital_status',\n",
              " 'occupation',\n",
              " 'relationship',\n",
              " 'race',\n",
              " 'native_country']"
            ]
          },
          "metadata": {
            "tags": []
          },
          "execution_count": 179
        }
      ]
    },
    {
      "cell_type": "code",
      "metadata": {
        "id": "bOXycDoz2D5E",
        "colab_type": "code",
        "colab": {
          "base_uri": "https://localhost:8080/",
          "height": 294
        },
        "outputId": "f30fee0c-b735-46b9-9d25-b91a4a60e2ce"
      },
      "source": [
        "# One Hot encoding\n",
        "census_data = pd.get_dummies(data = census_data, columns = cat_columns, drop_first = True)\n",
        "census_data.head()"
      ],
      "execution_count": 180,
      "outputs": [
        {
          "output_type": "execute_result",
          "data": {
            "text/html": [
              "<div>\n",
              "<style scoped>\n",
              "    .dataframe tbody tr th:only-of-type {\n",
              "        vertical-align: middle;\n",
              "    }\n",
              "\n",
              "    .dataframe tbody tr th {\n",
              "        vertical-align: top;\n",
              "    }\n",
              "\n",
              "    .dataframe thead th {\n",
              "        text-align: right;\n",
              "    }\n",
              "</style>\n",
              "<table border=\"1\" class=\"dataframe\">\n",
              "  <thead>\n",
              "    <tr style=\"text-align: right;\">\n",
              "      <th></th>\n",
              "      <th>age</th>\n",
              "      <th>sex</th>\n",
              "      <th>capital_gain</th>\n",
              "      <th>capital_loss</th>\n",
              "      <th>hours_per_week</th>\n",
              "      <th>income</th>\n",
              "      <th>workclass_ Local-gov</th>\n",
              "      <th>workclass_ Private</th>\n",
              "      <th>workclass_ Self-emp-inc</th>\n",
              "      <th>workclass_ Self-emp-not-inc</th>\n",
              "      <th>workclass_ State-gov</th>\n",
              "      <th>workclass_ Without-pay</th>\n",
              "      <th>education_ 11th</th>\n",
              "      <th>education_ 12th</th>\n",
              "      <th>education_ 1st-4th</th>\n",
              "      <th>education_ 5th-6th</th>\n",
              "      <th>education_ 7th-8th</th>\n",
              "      <th>education_ 9th</th>\n",
              "      <th>education_ Assoc-acdm</th>\n",
              "      <th>education_ Assoc-voc</th>\n",
              "      <th>education_ Bachelors</th>\n",
              "      <th>education_ Doctorate</th>\n",
              "      <th>education_ HS-grad</th>\n",
              "      <th>education_ Masters</th>\n",
              "      <th>education_ Preschool</th>\n",
              "      <th>education_ Prof-school</th>\n",
              "      <th>education_ Some-college</th>\n",
              "      <th>marital_status_ Married-AF-spouse</th>\n",
              "      <th>marital_status_ Married-civ-spouse</th>\n",
              "      <th>marital_status_ Married-spouse-absent</th>\n",
              "      <th>marital_status_ Never-married</th>\n",
              "      <th>marital_status_ Separated</th>\n",
              "      <th>marital_status_ Widowed</th>\n",
              "      <th>occupation_ Armed-Forces</th>\n",
              "      <th>occupation_ Craft-repair</th>\n",
              "      <th>occupation_ Exec-managerial</th>\n",
              "      <th>occupation_ Farming-fishing</th>\n",
              "      <th>occupation_ Handlers-cleaners</th>\n",
              "      <th>occupation_ Machine-op-inspct</th>\n",
              "      <th>occupation_ Other-service</th>\n",
              "      <th>...</th>\n",
              "      <th>native_country_ Canada</th>\n",
              "      <th>native_country_ China</th>\n",
              "      <th>native_country_ Columbia</th>\n",
              "      <th>native_country_ Cuba</th>\n",
              "      <th>native_country_ Dominican-Republic</th>\n",
              "      <th>native_country_ Ecuador</th>\n",
              "      <th>native_country_ El-Salvador</th>\n",
              "      <th>native_country_ England</th>\n",
              "      <th>native_country_ France</th>\n",
              "      <th>native_country_ Germany</th>\n",
              "      <th>native_country_ Greece</th>\n",
              "      <th>native_country_ Guatemala</th>\n",
              "      <th>native_country_ Haiti</th>\n",
              "      <th>native_country_ Holand-Netherlands</th>\n",
              "      <th>native_country_ Honduras</th>\n",
              "      <th>native_country_ Hong</th>\n",
              "      <th>native_country_ Hungary</th>\n",
              "      <th>native_country_ India</th>\n",
              "      <th>native_country_ Iran</th>\n",
              "      <th>native_country_ Ireland</th>\n",
              "      <th>native_country_ Italy</th>\n",
              "      <th>native_country_ Jamaica</th>\n",
              "      <th>native_country_ Japan</th>\n",
              "      <th>native_country_ Laos</th>\n",
              "      <th>native_country_ Mexico</th>\n",
              "      <th>native_country_ Nicaragua</th>\n",
              "      <th>native_country_ Outlying-US(Guam-USVI-etc)</th>\n",
              "      <th>native_country_ Peru</th>\n",
              "      <th>native_country_ Philippines</th>\n",
              "      <th>native_country_ Poland</th>\n",
              "      <th>native_country_ Portugal</th>\n",
              "      <th>native_country_ Puerto-Rico</th>\n",
              "      <th>native_country_ Scotland</th>\n",
              "      <th>native_country_ South</th>\n",
              "      <th>native_country_ Taiwan</th>\n",
              "      <th>native_country_ Thailand</th>\n",
              "      <th>native_country_ Trinadad&amp;Tobago</th>\n",
              "      <th>native_country_ United-States</th>\n",
              "      <th>native_country_ Vietnam</th>\n",
              "      <th>native_country_ Yugoslavia</th>\n",
              "    </tr>\n",
              "  </thead>\n",
              "  <tbody>\n",
              "    <tr>\n",
              "      <th>0</th>\n",
              "      <td>50</td>\n",
              "      <td>1</td>\n",
              "      <td>0.0</td>\n",
              "      <td>0.0</td>\n",
              "      <td>13</td>\n",
              "      <td>0</td>\n",
              "      <td>0</td>\n",
              "      <td>0</td>\n",
              "      <td>0</td>\n",
              "      <td>1</td>\n",
              "      <td>0</td>\n",
              "      <td>0</td>\n",
              "      <td>0</td>\n",
              "      <td>0</td>\n",
              "      <td>0</td>\n",
              "      <td>0</td>\n",
              "      <td>0</td>\n",
              "      <td>0</td>\n",
              "      <td>0</td>\n",
              "      <td>0</td>\n",
              "      <td>1</td>\n",
              "      <td>0</td>\n",
              "      <td>0</td>\n",
              "      <td>0</td>\n",
              "      <td>0</td>\n",
              "      <td>0</td>\n",
              "      <td>0</td>\n",
              "      <td>0</td>\n",
              "      <td>1</td>\n",
              "      <td>0</td>\n",
              "      <td>0</td>\n",
              "      <td>0</td>\n",
              "      <td>0</td>\n",
              "      <td>0</td>\n",
              "      <td>0</td>\n",
              "      <td>1</td>\n",
              "      <td>0</td>\n",
              "      <td>0</td>\n",
              "      <td>0</td>\n",
              "      <td>0</td>\n",
              "      <td>...</td>\n",
              "      <td>0</td>\n",
              "      <td>0</td>\n",
              "      <td>0</td>\n",
              "      <td>0</td>\n",
              "      <td>0</td>\n",
              "      <td>0</td>\n",
              "      <td>0</td>\n",
              "      <td>0</td>\n",
              "      <td>0</td>\n",
              "      <td>0</td>\n",
              "      <td>0</td>\n",
              "      <td>0</td>\n",
              "      <td>0</td>\n",
              "      <td>0</td>\n",
              "      <td>0</td>\n",
              "      <td>0</td>\n",
              "      <td>0</td>\n",
              "      <td>0</td>\n",
              "      <td>0</td>\n",
              "      <td>0</td>\n",
              "      <td>0</td>\n",
              "      <td>0</td>\n",
              "      <td>0</td>\n",
              "      <td>0</td>\n",
              "      <td>0</td>\n",
              "      <td>0</td>\n",
              "      <td>0</td>\n",
              "      <td>0</td>\n",
              "      <td>0</td>\n",
              "      <td>0</td>\n",
              "      <td>0</td>\n",
              "      <td>0</td>\n",
              "      <td>0</td>\n",
              "      <td>0</td>\n",
              "      <td>0</td>\n",
              "      <td>0</td>\n",
              "      <td>0</td>\n",
              "      <td>1</td>\n",
              "      <td>0</td>\n",
              "      <td>0</td>\n",
              "    </tr>\n",
              "    <tr>\n",
              "      <th>1</th>\n",
              "      <td>38</td>\n",
              "      <td>1</td>\n",
              "      <td>0.0</td>\n",
              "      <td>0.0</td>\n",
              "      <td>40</td>\n",
              "      <td>0</td>\n",
              "      <td>0</td>\n",
              "      <td>1</td>\n",
              "      <td>0</td>\n",
              "      <td>0</td>\n",
              "      <td>0</td>\n",
              "      <td>0</td>\n",
              "      <td>0</td>\n",
              "      <td>0</td>\n",
              "      <td>0</td>\n",
              "      <td>0</td>\n",
              "      <td>0</td>\n",
              "      <td>0</td>\n",
              "      <td>0</td>\n",
              "      <td>0</td>\n",
              "      <td>0</td>\n",
              "      <td>0</td>\n",
              "      <td>1</td>\n",
              "      <td>0</td>\n",
              "      <td>0</td>\n",
              "      <td>0</td>\n",
              "      <td>0</td>\n",
              "      <td>0</td>\n",
              "      <td>0</td>\n",
              "      <td>0</td>\n",
              "      <td>0</td>\n",
              "      <td>0</td>\n",
              "      <td>0</td>\n",
              "      <td>0</td>\n",
              "      <td>0</td>\n",
              "      <td>0</td>\n",
              "      <td>0</td>\n",
              "      <td>1</td>\n",
              "      <td>0</td>\n",
              "      <td>0</td>\n",
              "      <td>...</td>\n",
              "      <td>0</td>\n",
              "      <td>0</td>\n",
              "      <td>0</td>\n",
              "      <td>0</td>\n",
              "      <td>0</td>\n",
              "      <td>0</td>\n",
              "      <td>0</td>\n",
              "      <td>0</td>\n",
              "      <td>0</td>\n",
              "      <td>0</td>\n",
              "      <td>0</td>\n",
              "      <td>0</td>\n",
              "      <td>0</td>\n",
              "      <td>0</td>\n",
              "      <td>0</td>\n",
              "      <td>0</td>\n",
              "      <td>0</td>\n",
              "      <td>0</td>\n",
              "      <td>0</td>\n",
              "      <td>0</td>\n",
              "      <td>0</td>\n",
              "      <td>0</td>\n",
              "      <td>0</td>\n",
              "      <td>0</td>\n",
              "      <td>0</td>\n",
              "      <td>0</td>\n",
              "      <td>0</td>\n",
              "      <td>0</td>\n",
              "      <td>0</td>\n",
              "      <td>0</td>\n",
              "      <td>0</td>\n",
              "      <td>0</td>\n",
              "      <td>0</td>\n",
              "      <td>0</td>\n",
              "      <td>0</td>\n",
              "      <td>0</td>\n",
              "      <td>0</td>\n",
              "      <td>1</td>\n",
              "      <td>0</td>\n",
              "      <td>0</td>\n",
              "    </tr>\n",
              "    <tr>\n",
              "      <th>2</th>\n",
              "      <td>53</td>\n",
              "      <td>1</td>\n",
              "      <td>0.0</td>\n",
              "      <td>0.0</td>\n",
              "      <td>40</td>\n",
              "      <td>0</td>\n",
              "      <td>0</td>\n",
              "      <td>1</td>\n",
              "      <td>0</td>\n",
              "      <td>0</td>\n",
              "      <td>0</td>\n",
              "      <td>0</td>\n",
              "      <td>1</td>\n",
              "      <td>0</td>\n",
              "      <td>0</td>\n",
              "      <td>0</td>\n",
              "      <td>0</td>\n",
              "      <td>0</td>\n",
              "      <td>0</td>\n",
              "      <td>0</td>\n",
              "      <td>0</td>\n",
              "      <td>0</td>\n",
              "      <td>0</td>\n",
              "      <td>0</td>\n",
              "      <td>0</td>\n",
              "      <td>0</td>\n",
              "      <td>0</td>\n",
              "      <td>0</td>\n",
              "      <td>1</td>\n",
              "      <td>0</td>\n",
              "      <td>0</td>\n",
              "      <td>0</td>\n",
              "      <td>0</td>\n",
              "      <td>0</td>\n",
              "      <td>0</td>\n",
              "      <td>0</td>\n",
              "      <td>0</td>\n",
              "      <td>1</td>\n",
              "      <td>0</td>\n",
              "      <td>0</td>\n",
              "      <td>...</td>\n",
              "      <td>0</td>\n",
              "      <td>0</td>\n",
              "      <td>0</td>\n",
              "      <td>0</td>\n",
              "      <td>0</td>\n",
              "      <td>0</td>\n",
              "      <td>0</td>\n",
              "      <td>0</td>\n",
              "      <td>0</td>\n",
              "      <td>0</td>\n",
              "      <td>0</td>\n",
              "      <td>0</td>\n",
              "      <td>0</td>\n",
              "      <td>0</td>\n",
              "      <td>0</td>\n",
              "      <td>0</td>\n",
              "      <td>0</td>\n",
              "      <td>0</td>\n",
              "      <td>0</td>\n",
              "      <td>0</td>\n",
              "      <td>0</td>\n",
              "      <td>0</td>\n",
              "      <td>0</td>\n",
              "      <td>0</td>\n",
              "      <td>0</td>\n",
              "      <td>0</td>\n",
              "      <td>0</td>\n",
              "      <td>0</td>\n",
              "      <td>0</td>\n",
              "      <td>0</td>\n",
              "      <td>0</td>\n",
              "      <td>0</td>\n",
              "      <td>0</td>\n",
              "      <td>0</td>\n",
              "      <td>0</td>\n",
              "      <td>0</td>\n",
              "      <td>0</td>\n",
              "      <td>1</td>\n",
              "      <td>0</td>\n",
              "      <td>0</td>\n",
              "    </tr>\n",
              "    <tr>\n",
              "      <th>3</th>\n",
              "      <td>28</td>\n",
              "      <td>0</td>\n",
              "      <td>0.0</td>\n",
              "      <td>0.0</td>\n",
              "      <td>40</td>\n",
              "      <td>0</td>\n",
              "      <td>0</td>\n",
              "      <td>1</td>\n",
              "      <td>0</td>\n",
              "      <td>0</td>\n",
              "      <td>0</td>\n",
              "      <td>0</td>\n",
              "      <td>0</td>\n",
              "      <td>0</td>\n",
              "      <td>0</td>\n",
              "      <td>0</td>\n",
              "      <td>0</td>\n",
              "      <td>0</td>\n",
              "      <td>0</td>\n",
              "      <td>0</td>\n",
              "      <td>1</td>\n",
              "      <td>0</td>\n",
              "      <td>0</td>\n",
              "      <td>0</td>\n",
              "      <td>0</td>\n",
              "      <td>0</td>\n",
              "      <td>0</td>\n",
              "      <td>0</td>\n",
              "      <td>1</td>\n",
              "      <td>0</td>\n",
              "      <td>0</td>\n",
              "      <td>0</td>\n",
              "      <td>0</td>\n",
              "      <td>0</td>\n",
              "      <td>0</td>\n",
              "      <td>0</td>\n",
              "      <td>0</td>\n",
              "      <td>0</td>\n",
              "      <td>0</td>\n",
              "      <td>0</td>\n",
              "      <td>...</td>\n",
              "      <td>0</td>\n",
              "      <td>0</td>\n",
              "      <td>0</td>\n",
              "      <td>1</td>\n",
              "      <td>0</td>\n",
              "      <td>0</td>\n",
              "      <td>0</td>\n",
              "      <td>0</td>\n",
              "      <td>0</td>\n",
              "      <td>0</td>\n",
              "      <td>0</td>\n",
              "      <td>0</td>\n",
              "      <td>0</td>\n",
              "      <td>0</td>\n",
              "      <td>0</td>\n",
              "      <td>0</td>\n",
              "      <td>0</td>\n",
              "      <td>0</td>\n",
              "      <td>0</td>\n",
              "      <td>0</td>\n",
              "      <td>0</td>\n",
              "      <td>0</td>\n",
              "      <td>0</td>\n",
              "      <td>0</td>\n",
              "      <td>0</td>\n",
              "      <td>0</td>\n",
              "      <td>0</td>\n",
              "      <td>0</td>\n",
              "      <td>0</td>\n",
              "      <td>0</td>\n",
              "      <td>0</td>\n",
              "      <td>0</td>\n",
              "      <td>0</td>\n",
              "      <td>0</td>\n",
              "      <td>0</td>\n",
              "      <td>0</td>\n",
              "      <td>0</td>\n",
              "      <td>0</td>\n",
              "      <td>0</td>\n",
              "      <td>0</td>\n",
              "    </tr>\n",
              "    <tr>\n",
              "      <th>4</th>\n",
              "      <td>37</td>\n",
              "      <td>0</td>\n",
              "      <td>0.0</td>\n",
              "      <td>0.0</td>\n",
              "      <td>40</td>\n",
              "      <td>0</td>\n",
              "      <td>0</td>\n",
              "      <td>1</td>\n",
              "      <td>0</td>\n",
              "      <td>0</td>\n",
              "      <td>0</td>\n",
              "      <td>0</td>\n",
              "      <td>0</td>\n",
              "      <td>0</td>\n",
              "      <td>0</td>\n",
              "      <td>0</td>\n",
              "      <td>0</td>\n",
              "      <td>0</td>\n",
              "      <td>0</td>\n",
              "      <td>0</td>\n",
              "      <td>0</td>\n",
              "      <td>0</td>\n",
              "      <td>0</td>\n",
              "      <td>1</td>\n",
              "      <td>0</td>\n",
              "      <td>0</td>\n",
              "      <td>0</td>\n",
              "      <td>0</td>\n",
              "      <td>1</td>\n",
              "      <td>0</td>\n",
              "      <td>0</td>\n",
              "      <td>0</td>\n",
              "      <td>0</td>\n",
              "      <td>0</td>\n",
              "      <td>0</td>\n",
              "      <td>1</td>\n",
              "      <td>0</td>\n",
              "      <td>0</td>\n",
              "      <td>0</td>\n",
              "      <td>0</td>\n",
              "      <td>...</td>\n",
              "      <td>0</td>\n",
              "      <td>0</td>\n",
              "      <td>0</td>\n",
              "      <td>0</td>\n",
              "      <td>0</td>\n",
              "      <td>0</td>\n",
              "      <td>0</td>\n",
              "      <td>0</td>\n",
              "      <td>0</td>\n",
              "      <td>0</td>\n",
              "      <td>0</td>\n",
              "      <td>0</td>\n",
              "      <td>0</td>\n",
              "      <td>0</td>\n",
              "      <td>0</td>\n",
              "      <td>0</td>\n",
              "      <td>0</td>\n",
              "      <td>0</td>\n",
              "      <td>0</td>\n",
              "      <td>0</td>\n",
              "      <td>0</td>\n",
              "      <td>0</td>\n",
              "      <td>0</td>\n",
              "      <td>0</td>\n",
              "      <td>0</td>\n",
              "      <td>0</td>\n",
              "      <td>0</td>\n",
              "      <td>0</td>\n",
              "      <td>0</td>\n",
              "      <td>0</td>\n",
              "      <td>0</td>\n",
              "      <td>0</td>\n",
              "      <td>0</td>\n",
              "      <td>0</td>\n",
              "      <td>0</td>\n",
              "      <td>0</td>\n",
              "      <td>0</td>\n",
              "      <td>1</td>\n",
              "      <td>0</td>\n",
              "      <td>0</td>\n",
              "    </tr>\n",
              "  </tbody>\n",
              "</table>\n",
              "<p>5 rows × 95 columns</p>\n",
              "</div>"
            ],
            "text/plain": [
              "   age  sex  ...  native_country_ Vietnam  native_country_ Yugoslavia\n",
              "0   50    1  ...                        0                           0\n",
              "1   38    1  ...                        0                           0\n",
              "2   53    1  ...                        0                           0\n",
              "3   28    0  ...                        0                           0\n",
              "4   37    0  ...                        0                           0\n",
              "\n",
              "[5 rows x 95 columns]"
            ]
          },
          "metadata": {
            "tags": []
          },
          "execution_count": 180
        }
      ]
    },
    {
      "cell_type": "code",
      "metadata": {
        "id": "7jdIawOu2ZH6",
        "colab_type": "code",
        "colab": {
          "base_uri": "https://localhost:8080/",
          "height": 34
        },
        "outputId": "9e8bc84c-b12c-46d4-894b-525c06b5b75b"
      },
      "source": [
        "census_data.shape"
      ],
      "execution_count": 181,
      "outputs": [
        {
          "output_type": "execute_result",
          "data": {
            "text/plain": [
              "(45192, 95)"
            ]
          },
          "metadata": {
            "tags": []
          },
          "execution_count": 181
        }
      ]
    },
    {
      "cell_type": "code",
      "metadata": {
        "id": "-7xyKYg72lWv",
        "colab_type": "code",
        "colab": {}
      },
      "source": [
        "# 95 columns are present after creating dummy variables"
      ],
      "execution_count": 182,
      "outputs": []
    },
    {
      "cell_type": "code",
      "metadata": {
        "id": "gLYq0PPD2pI7",
        "colab_type": "code",
        "colab": {}
      },
      "source": [
        "# find highest correlation values in the dataframe\n",
        "\n",
        "def get_redundant_pairs(df):\n",
        "    pairs_to_drop = set()\n",
        "    cols = df.columns\n",
        "    for i in range(0, df.shape[1]):\n",
        "        for j in range(0, i+1):\n",
        "            pairs_to_drop.add((cols[i], cols[j]))\n",
        "    return pairs_to_drop\n",
        "\n",
        "def get_top_abs_correlations(df, n=5):\n",
        "    au_corr = df.corr().abs().unstack()\n",
        "    labels_to_drop = get_redundant_pairs(df)\n",
        "    au_corr = au_corr.drop(labels=labels_to_drop).sort_values(ascending=False)\n",
        "    return au_corr[0:n]"
      ],
      "execution_count": 183,
      "outputs": []
    },
    {
      "cell_type": "code",
      "metadata": {
        "id": "VGbBQpE_2zzn",
        "colab_type": "code",
        "colab": {
          "base_uri": "https://localhost:8080/",
          "height": 218
        },
        "outputId": "bdd2b8d2-793b-4492-ccdb-0086377bb639"
      },
      "source": [
        "print(\"Top Absolute Correlations\")\n",
        "print(get_top_abs_correlations(census_data, 10))"
      ],
      "execution_count": 184,
      "outputs": [
        {
          "output_type": "stream",
          "text": [
            "Top Absolute Correlations\n",
            "race_ Black                         race_ White                           0.796843\n",
            "marital_status_ Married-civ-spouse  marital_status_ Never-married         0.644302\n",
            "                                    relationship_ Not-in-family           0.549482\n",
            "age                                 marital_status_ Never-married         0.526845\n",
            "workclass_ Private                  workclass_ Self-emp-not-inc           0.506082\n",
            "marital_status_ Never-married       relationship_ Own-child               0.498339\n",
            "native_country_ Mexico              native_country_ United-States         0.462013\n",
            "workclass_ Local-gov                workclass_ Private                    0.453608\n",
            "income                              marital_status_ Married-civ-spouse    0.446119\n",
            "sex                                 marital_status_ Married-civ-spouse    0.438193\n",
            "dtype: float64\n"
          ],
          "name": "stdout"
        }
      ]
    },
    {
      "cell_type": "code",
      "metadata": {
        "id": "0w-jAoXs2zuW",
        "colab_type": "code",
        "colab": {}
      },
      "source": [
        "# spilt data in train and test\n",
        "from sklearn.model_selection import train_test_split\n",
        "\n",
        "X = census_data.drop(columns = [\"income\"]).values\n",
        "y = census_data[\"income\"].values\n",
        "\n",
        "X_train, X_test, y_train, y_test = train_test_split(X, y, test_size = 0.25, shuffle = True)"
      ],
      "execution_count": 185,
      "outputs": []
    },
    {
      "cell_type": "code",
      "metadata": {
        "id": "Sq12xEknb8Hu",
        "colab_type": "code",
        "colab": {
          "base_uri": "https://localhost:8080/",
          "height": 50
        },
        "outputId": "b1565def-17fb-4eb4-ca7f-3b8546ee0cf5"
      },
      "source": [
        "print(\"Number of elements in the training set : \", len(X_train))\n",
        "print(\"Number of elements in the test set : \", len(X_test))"
      ],
      "execution_count": 186,
      "outputs": [
        {
          "output_type": "stream",
          "text": [
            "Number of elements in the training set :  33894\n",
            "Number of elements in the test set :  11298\n"
          ],
          "name": "stdout"
        }
      ]
    },
    {
      "cell_type": "code",
      "metadata": {
        "id": "hm0Ea-vl2ztk",
        "colab_type": "code",
        "colab": {
          "base_uri": "https://localhost:8080/",
          "height": 84
        },
        "outputId": "6b0bab0f-1ccf-4f14-cf12-c028195ad58f"
      },
      "source": [
        "# get index of Numberic Columns\n",
        "print(census_data.columns.get_loc(\"age\"))\n",
        "print(census_data.columns.get_loc(\"capital_gain\"))\n",
        "print(census_data.columns.get_loc(\"capital_loss\"))\n",
        "print(census_data.columns.get_loc(\"hours_per_week\"))\n"
      ],
      "execution_count": 187,
      "outputs": [
        {
          "output_type": "stream",
          "text": [
            "0\n",
            "2\n",
            "3\n",
            "4\n"
          ],
          "name": "stdout"
        }
      ]
    },
    {
      "cell_type": "code",
      "metadata": {
        "id": "rl__6XVJ2zow",
        "colab_type": "code",
        "colab": {}
      },
      "source": [
        "# Feature Scaling (normalization)\n",
        "\n",
        "from sklearn.preprocessing import MinMaxScaler\n",
        "\n",
        "minmaxscaler = MinMaxScaler()\n",
        "X_train[: , [0, 2, 3, 4]] = minmaxscaler.fit_transform(X_train[: , [0, 2, 3, 4]])\n",
        "X_test[: , [0, 2, 3, 4]] = minmaxscaler.transform(X_test[: , [0, 2, 3, 4]])\n"
      ],
      "execution_count": 188,
      "outputs": []
    },
    {
      "cell_type": "code",
      "metadata": {
        "id": "BIWEzZD82zn-",
        "colab_type": "code",
        "colab": {
          "base_uri": "https://localhost:8080/",
          "height": 134
        },
        "outputId": "fff704f4-95f4-43f0-8e02-8eaa63b1623b"
      },
      "source": [
        "X_train[: , [0, 2, 3, 4]]"
      ],
      "execution_count": 189,
      "outputs": [
        {
          "output_type": "execute_result",
          "data": {
            "text/plain": [
              "array([[0.36986301, 0.        , 0.        , 0.60204082],\n",
              "       [0.20547945, 0.        , 0.        , 0.47959184],\n",
              "       [0.38356164, 0.        , 0.        , 0.39795918],\n",
              "       ...,\n",
              "       [0.32876712, 0.        , 0.        , 0.5       ],\n",
              "       [0.5890411 , 0.        , 0.        , 0.19387755],\n",
              "       [0.31506849, 0.        , 0.        , 0.39795918]])"
            ]
          },
          "metadata": {
            "tags": []
          },
          "execution_count": 189
        }
      ]
    },
    {
      "cell_type": "code",
      "metadata": {
        "id": "nzyxefgk2zjz",
        "colab_type": "code",
        "colab": {}
      },
      "source": [
        ""
      ],
      "execution_count": 189,
      "outputs": []
    },
    {
      "cell_type": "code",
      "metadata": {
        "id": "w7euklFd2zi2",
        "colab_type": "code",
        "colab": {}
      },
      "source": [
        "# Data Modelling :"
      ],
      "execution_count": 190,
      "outputs": []
    },
    {
      "cell_type": "code",
      "metadata": {
        "id": "HJneiD9G2zep",
        "colab_type": "code",
        "colab": {
          "base_uri": "https://localhost:8080/",
          "height": 101
        },
        "outputId": "85308f73-eee2-4866-aca9-3e0a3caad0aa"
      },
      "source": [
        "# Model 1 : Logistic Regression\n",
        "\n",
        "from sklearn.linear_model import LogisticRegression\n",
        "\n",
        "log_reg = LogisticRegression(solver = 'saga', max_iter = 200, multi_class = 'ovr')\n",
        "log_reg.fit(X_train, y_train)"
      ],
      "execution_count": 191,
      "outputs": [
        {
          "output_type": "execute_result",
          "data": {
            "text/plain": [
              "LogisticRegression(C=1.0, class_weight=None, dual=False, fit_intercept=True,\n",
              "                   intercept_scaling=1, l1_ratio=None, max_iter=200,\n",
              "                   multi_class='ovr', n_jobs=None, penalty='l2',\n",
              "                   random_state=None, solver='saga', tol=0.0001, verbose=0,\n",
              "                   warm_start=False)"
            ]
          },
          "metadata": {
            "tags": []
          },
          "execution_count": 191
        }
      ]
    },
    {
      "cell_type": "code",
      "metadata": {
        "id": "9uATTLjX2zd1",
        "colab_type": "code",
        "colab": {
          "base_uri": "https://localhost:8080/",
          "height": 34
        },
        "outputId": "bd52a685-034f-44e0-fff0-fbf25122e049"
      },
      "source": [
        "y_pred_LR = log_reg.predict(X_test)\n",
        "score_LR = log_reg.score(X_test, y_test)\n",
        "print(\"Accuracy of Logistic Regression : \" + str(score_LR))"
      ],
      "execution_count": 192,
      "outputs": [
        {
          "output_type": "stream",
          "text": [
            "Accuracy of Logistic Regression : 0.8420959461851655\n"
          ],
          "name": "stdout"
        }
      ]
    },
    {
      "cell_type": "code",
      "metadata": {
        "id": "ia-q7hii2zZk",
        "colab_type": "code",
        "colab": {
          "base_uri": "https://localhost:8080/",
          "height": 252
        },
        "outputId": "a85619dc-b5a9-4950-b936-1212aaa2aa3d"
      },
      "source": [
        "from sklearn.metrics import confusion_matrix\n",
        "from sklearn.metrics import classification_report\n",
        "\n",
        "print(\"Confusion Matrix for the Logistic Regression model : \")\n",
        "print(confusion_matrix(y_test, y_pred_LR))\n",
        "\n",
        "print()\n",
        "\n",
        "print(\"Classification Report for the Logistic Regression model : \")\n",
        "print(classification_report(y_test, y_pred_LR))"
      ],
      "execution_count": 193,
      "outputs": [
        {
          "output_type": "stream",
          "text": [
            "Confusion Matrix for the Logistic Regression model : \n",
            "[[7830  611]\n",
            " [1173 1684]]\n",
            "\n",
            "Classification Report for the Logistic Regression model : \n",
            "              precision    recall  f1-score   support\n",
            "\n",
            "           0       0.87      0.93      0.90      8441\n",
            "           1       0.73      0.59      0.65      2857\n",
            "\n",
            "    accuracy                           0.84     11298\n",
            "   macro avg       0.80      0.76      0.78     11298\n",
            "weighted avg       0.84      0.84      0.84     11298\n",
            "\n"
          ],
          "name": "stdout"
        }
      ]
    },
    {
      "cell_type": "code",
      "metadata": {
        "id": "TLnvClCU2zYr",
        "colab_type": "code",
        "colab": {
          "base_uri": "https://localhost:8080/",
          "height": 336
        },
        "outputId": "0293fbc6-65df-4594-b831-c7bd9c92b227"
      },
      "source": [
        "# Feature Importances :Logistic Regression model\n",
        "\n",
        "# coefficients of the features in the decision function\n",
        "coef = log_reg.coef_[0]\n",
        "coef"
      ],
      "execution_count": 194,
      "outputs": [
        {
          "output_type": "execute_result",
          "data": {
            "text/plain": [
              "array([ 1.72700898,  0.65413954,  2.42893151,  1.17091773,  2.64269067,\n",
              "       -0.5640773 , -0.40794641, -0.22710391, -0.91140329, -0.7279504 ,\n",
              "       -0.80769074, -0.1728717 ,  0.11468232, -0.73289324, -0.56134426,\n",
              "       -0.70165837, -0.53486075,  1.16188033,  1.06338139,  1.7144076 ,\n",
              "        2.57021314,  0.58790231,  2.08148698, -0.58376506,  2.68129479,\n",
              "        0.92980763,  1.90402608,  2.03590406,  0.39046141, -0.44144997,\n",
              "       -0.13388996,  0.15460036, -0.13642897,  0.03286737,  0.77444265,\n",
              "       -0.96270533, -0.73403325, -0.37639441, -0.84871255, -1.2443751 ,\n",
              "        0.52832734,  0.47326594,  0.25512126,  0.52267966, -0.16219279,\n",
              "        0.31476134, -0.64604607, -0.61496988,  0.08858726,  0.99932959,\n",
              "        0.62450443,  0.30156475,  0.45713129,  0.47411459,  0.48160061,\n",
              "       -0.21817606, -1.2702316 ,  0.064453  , -0.20682938, -0.27149072,\n",
              "       -0.01955422,  0.39902877,  0.83064903, -0.0260376 , -0.15865192,\n",
              "       -1.04211801,  0.4735352 ,  0.        ,  0.15785247, -0.06265177,\n",
              "        0.02391677, -0.02839715,  0.07321114,  0.34917515,  0.70089161,\n",
              "        0.4756591 , -0.20693883, -0.5403031 , -0.64045054,  0.02545339,\n",
              "       -0.74378121, -0.33961755,  0.17334892, -0.31539331,  0.59992404,\n",
              "        0.02590701, -0.5520971 , -0.9338313 , -0.04724195, -0.66277358,\n",
              "       -0.47299646,  0.27692246, -0.70487239,  0.8239552 ])"
            ]
          },
          "metadata": {
            "tags": []
          },
          "execution_count": 194
        }
      ]
    },
    {
      "cell_type": "code",
      "metadata": {
        "id": "7YaHntUxh-HK",
        "colab_type": "code",
        "colab": {}
      },
      "source": [
        "coef = [abs(x) for x in (list(coef))]"
      ],
      "execution_count": 195,
      "outputs": []
    },
    {
      "cell_type": "code",
      "metadata": {
        "id": "mbP9F1vlh-De",
        "colab_type": "code",
        "colab": {}
      },
      "source": [
        "cols = list(census_data.columns)\n",
        "cols.remove(\"income\")"
      ],
      "execution_count": 196,
      "outputs": []
    },
    {
      "cell_type": "code",
      "metadata": {
        "id": "15-mziVch-At",
        "colab_type": "code",
        "colab": {
          "base_uri": "https://localhost:8080/",
          "height": 402
        },
        "outputId": "0f71b6fc-fc59-48a0-d1e8-992ce55894b3"
      },
      "source": [
        "log_reg_column_coef = pd.DataFrame(data = {\"Columns\" : cols, \"Coefficient\" : coef} )\n",
        "log_reg_column_coef"
      ],
      "execution_count": 197,
      "outputs": [
        {
          "output_type": "execute_result",
          "data": {
            "text/html": [
              "<div>\n",
              "<style scoped>\n",
              "    .dataframe tbody tr th:only-of-type {\n",
              "        vertical-align: middle;\n",
              "    }\n",
              "\n",
              "    .dataframe tbody tr th {\n",
              "        vertical-align: top;\n",
              "    }\n",
              "\n",
              "    .dataframe thead th {\n",
              "        text-align: right;\n",
              "    }\n",
              "</style>\n",
              "<table border=\"1\" class=\"dataframe\">\n",
              "  <thead>\n",
              "    <tr style=\"text-align: right;\">\n",
              "      <th></th>\n",
              "      <th>Columns</th>\n",
              "      <th>Coefficient</th>\n",
              "    </tr>\n",
              "  </thead>\n",
              "  <tbody>\n",
              "    <tr>\n",
              "      <th>0</th>\n",
              "      <td>age</td>\n",
              "      <td>1.727009</td>\n",
              "    </tr>\n",
              "    <tr>\n",
              "      <th>1</th>\n",
              "      <td>sex</td>\n",
              "      <td>0.654140</td>\n",
              "    </tr>\n",
              "    <tr>\n",
              "      <th>2</th>\n",
              "      <td>capital_gain</td>\n",
              "      <td>2.428932</td>\n",
              "    </tr>\n",
              "    <tr>\n",
              "      <th>3</th>\n",
              "      <td>capital_loss</td>\n",
              "      <td>1.170918</td>\n",
              "    </tr>\n",
              "    <tr>\n",
              "      <th>4</th>\n",
              "      <td>hours_per_week</td>\n",
              "      <td>2.642691</td>\n",
              "    </tr>\n",
              "    <tr>\n",
              "      <th>...</th>\n",
              "      <td>...</td>\n",
              "      <td>...</td>\n",
              "    </tr>\n",
              "    <tr>\n",
              "      <th>89</th>\n",
              "      <td>native_country_ Thailand</td>\n",
              "      <td>0.662774</td>\n",
              "    </tr>\n",
              "    <tr>\n",
              "      <th>90</th>\n",
              "      <td>native_country_ Trinadad&amp;Tobago</td>\n",
              "      <td>0.472996</td>\n",
              "    </tr>\n",
              "    <tr>\n",
              "      <th>91</th>\n",
              "      <td>native_country_ United-States</td>\n",
              "      <td>0.276922</td>\n",
              "    </tr>\n",
              "    <tr>\n",
              "      <th>92</th>\n",
              "      <td>native_country_ Vietnam</td>\n",
              "      <td>0.704872</td>\n",
              "    </tr>\n",
              "    <tr>\n",
              "      <th>93</th>\n",
              "      <td>native_country_ Yugoslavia</td>\n",
              "      <td>0.823955</td>\n",
              "    </tr>\n",
              "  </tbody>\n",
              "</table>\n",
              "<p>94 rows × 2 columns</p>\n",
              "</div>"
            ],
            "text/plain": [
              "                            Columns  Coefficient\n",
              "0                               age     1.727009\n",
              "1                               sex     0.654140\n",
              "2                      capital_gain     2.428932\n",
              "3                      capital_loss     1.170918\n",
              "4                    hours_per_week     2.642691\n",
              "..                              ...          ...\n",
              "89         native_country_ Thailand     0.662774\n",
              "90  native_country_ Trinadad&Tobago     0.472996\n",
              "91    native_country_ United-States     0.276922\n",
              "92          native_country_ Vietnam     0.704872\n",
              "93       native_country_ Yugoslavia     0.823955\n",
              "\n",
              "[94 rows x 2 columns]"
            ]
          },
          "metadata": {
            "tags": []
          },
          "execution_count": 197
        }
      ]
    },
    {
      "cell_type": "code",
      "metadata": {
        "id": "LyJvJ10Vh99c",
        "colab_type": "code",
        "colab": {
          "base_uri": "https://localhost:8080/",
          "height": 491
        },
        "outputId": "d40c47eb-c866-4700-94b7-eefbff018d2c"
      },
      "source": [
        "# here the order of columns denotes how strongly correlated they are to the target variable \n",
        "\n",
        "log_reg_column_coef.sort_values(by = [\"Coefficient\"], ascending= False)[:15]"
      ],
      "execution_count": 198,
      "outputs": [
        {
          "output_type": "execute_result",
          "data": {
            "text/html": [
              "<div>\n",
              "<style scoped>\n",
              "    .dataframe tbody tr th:only-of-type {\n",
              "        vertical-align: middle;\n",
              "    }\n",
              "\n",
              "    .dataframe tbody tr th {\n",
              "        vertical-align: top;\n",
              "    }\n",
              "\n",
              "    .dataframe thead th {\n",
              "        text-align: right;\n",
              "    }\n",
              "</style>\n",
              "<table border=\"1\" class=\"dataframe\">\n",
              "  <thead>\n",
              "    <tr style=\"text-align: right;\">\n",
              "      <th></th>\n",
              "      <th>Columns</th>\n",
              "      <th>Coefficient</th>\n",
              "    </tr>\n",
              "  </thead>\n",
              "  <tbody>\n",
              "    <tr>\n",
              "      <th>24</th>\n",
              "      <td>education_ Prof-school</td>\n",
              "      <td>2.681295</td>\n",
              "    </tr>\n",
              "    <tr>\n",
              "      <th>4</th>\n",
              "      <td>hours_per_week</td>\n",
              "      <td>2.642691</td>\n",
              "    </tr>\n",
              "    <tr>\n",
              "      <th>20</th>\n",
              "      <td>education_ Doctorate</td>\n",
              "      <td>2.570213</td>\n",
              "    </tr>\n",
              "    <tr>\n",
              "      <th>2</th>\n",
              "      <td>capital_gain</td>\n",
              "      <td>2.428932</td>\n",
              "    </tr>\n",
              "    <tr>\n",
              "      <th>22</th>\n",
              "      <td>education_ Masters</td>\n",
              "      <td>2.081487</td>\n",
              "    </tr>\n",
              "    <tr>\n",
              "      <th>27</th>\n",
              "      <td>marital_status_ Married-civ-spouse</td>\n",
              "      <td>2.035904</td>\n",
              "    </tr>\n",
              "    <tr>\n",
              "      <th>26</th>\n",
              "      <td>marital_status_ Married-AF-spouse</td>\n",
              "      <td>1.904026</td>\n",
              "    </tr>\n",
              "    <tr>\n",
              "      <th>0</th>\n",
              "      <td>age</td>\n",
              "      <td>1.727009</td>\n",
              "    </tr>\n",
              "    <tr>\n",
              "      <th>19</th>\n",
              "      <td>education_ Bachelors</td>\n",
              "      <td>1.714408</td>\n",
              "    </tr>\n",
              "    <tr>\n",
              "      <th>56</th>\n",
              "      <td>native_country_ Columbia</td>\n",
              "      <td>1.270232</td>\n",
              "    </tr>\n",
              "    <tr>\n",
              "      <th>39</th>\n",
              "      <td>occupation_ Priv-house-serv</td>\n",
              "      <td>1.244375</td>\n",
              "    </tr>\n",
              "    <tr>\n",
              "      <th>3</th>\n",
              "      <td>capital_loss</td>\n",
              "      <td>1.170918</td>\n",
              "    </tr>\n",
              "    <tr>\n",
              "      <th>17</th>\n",
              "      <td>education_ Assoc-acdm</td>\n",
              "      <td>1.161880</td>\n",
              "    </tr>\n",
              "    <tr>\n",
              "      <th>18</th>\n",
              "      <td>education_ Assoc-voc</td>\n",
              "      <td>1.063381</td>\n",
              "    </tr>\n",
              "    <tr>\n",
              "      <th>65</th>\n",
              "      <td>native_country_ Guatemala</td>\n",
              "      <td>1.042118</td>\n",
              "    </tr>\n",
              "  </tbody>\n",
              "</table>\n",
              "</div>"
            ],
            "text/plain": [
              "                               Columns  Coefficient\n",
              "24              education_ Prof-school     2.681295\n",
              "4                       hours_per_week     2.642691\n",
              "20                education_ Doctorate     2.570213\n",
              "2                         capital_gain     2.428932\n",
              "22                  education_ Masters     2.081487\n",
              "27  marital_status_ Married-civ-spouse     2.035904\n",
              "26   marital_status_ Married-AF-spouse     1.904026\n",
              "0                                  age     1.727009\n",
              "19                education_ Bachelors     1.714408\n",
              "56            native_country_ Columbia     1.270232\n",
              "39         occupation_ Priv-house-serv     1.244375\n",
              "3                         capital_loss     1.170918\n",
              "17               education_ Assoc-acdm     1.161880\n",
              "18                education_ Assoc-voc     1.063381\n",
              "65           native_country_ Guatemala     1.042118"
            ]
          },
          "metadata": {
            "tags": []
          },
          "execution_count": 198
        }
      ]
    },
    {
      "cell_type": "code",
      "metadata": {
        "id": "6ekcARRah97i",
        "colab_type": "code",
        "colab": {}
      },
      "source": [
        "# Top 15 most influential columns are as above"
      ],
      "execution_count": 199,
      "outputs": []
    },
    {
      "cell_type": "code",
      "metadata": {
        "id": "8UxTFGavh944",
        "colab_type": "code",
        "colab": {}
      },
      "source": [
        "# Model 2 : Support Vector Classifier\n",
        "\n",
        "X_train_svm, X_test_svm, y_train_svm, y_test_svm = X_train.copy(), X_test.copy(), y_train.copy(), y_test.copy()"
      ],
      "execution_count": 200,
      "outputs": []
    },
    {
      "cell_type": "code",
      "metadata": {
        "id": "GvTUlTiMh912",
        "colab_type": "code",
        "colab": {}
      },
      "source": [
        "# Feature Scaling for SVM\n",
        "\n",
        "from sklearn.preprocessing import StandardScaler\n",
        "\n",
        "sc = StandardScaler()\n",
        "X_train_svm[: , [4, 7, 8]] = sc.fit_transform(X_train_svm[: , [4, 7, 8]])\n",
        "X_test_svm[: , [4, 7, 8]] = sc.transform(X_test_svm[: , [4, 7, 8]])"
      ],
      "execution_count": 201,
      "outputs": []
    },
    {
      "cell_type": "code",
      "metadata": {
        "id": "HMxW5YhujH1s",
        "colab_type": "code",
        "colab": {}
      },
      "source": [
        "from sklearn.svm import LinearSVC\n",
        "from sklearn.kernel_approximation import Nystroem\n",
        "\n",
        "svm_clf = LinearSVC()\n",
        "feature_map_nystroem = Nystroem(gamma=.2,\n",
        "                                 random_state=1,\n",
        "                                 n_components=300)\n",
        "X_train_svm = feature_map_nystroem.fit_transform(X_train_svm)\n",
        "X_test_svm = feature_map_nystroem.transform(X_test_svm)"
      ],
      "execution_count": 202,
      "outputs": []
    },
    {
      "cell_type": "code",
      "metadata": {
        "id": "KNpaMscwjHz_",
        "colab_type": "code",
        "colab": {
          "base_uri": "https://localhost:8080/",
          "height": 84
        },
        "outputId": "6fe52607-a08a-4ed7-cdcc-a97746a59aa4"
      },
      "source": [
        "svm_clf.fit(X_train_svm, y_train_svm)"
      ],
      "execution_count": 203,
      "outputs": [
        {
          "output_type": "execute_result",
          "data": {
            "text/plain": [
              "LinearSVC(C=1.0, class_weight=None, dual=True, fit_intercept=True,\n",
              "          intercept_scaling=1, loss='squared_hinge', max_iter=1000,\n",
              "          multi_class='ovr', penalty='l2', random_state=None, tol=0.0001,\n",
              "          verbose=0)"
            ]
          },
          "metadata": {
            "tags": []
          },
          "execution_count": 203
        }
      ]
    },
    {
      "cell_type": "code",
      "metadata": {
        "id": "pB_ECX0UjHwa",
        "colab_type": "code",
        "colab": {}
      },
      "source": [
        "y_pred_svm = svm_clf.predict(X_test_svm)"
      ],
      "execution_count": 204,
      "outputs": []
    },
    {
      "cell_type": "code",
      "metadata": {
        "id": "ZmJDMRydjHuc",
        "colab_type": "code",
        "colab": {
          "base_uri": "https://localhost:8080/",
          "height": 34
        },
        "outputId": "3985d70a-4e12-4f7f-ce72-9c6d10b24898"
      },
      "source": [
        "# Accuracy of SVM Model :\n",
        "score_svm = svm_clf.score(X_test_svm, y_test_svm)\n",
        "print(\"Accuracy of the SVM Classifier : \" + str(score_svm))"
      ],
      "execution_count": 205,
      "outputs": [
        {
          "output_type": "stream",
          "text": [
            "Accuracy of the SVM Classifier : 0.8366967604885821\n"
          ],
          "name": "stdout"
        }
      ]
    },
    {
      "cell_type": "code",
      "metadata": {
        "id": "WZptLcF8jHsc",
        "colab_type": "code",
        "colab": {
          "base_uri": "https://localhost:8080/",
          "height": 252
        },
        "outputId": "a4eca45d-fa34-4604-e85c-014ad6218443"
      },
      "source": [
        "from sklearn.metrics import confusion_matrix\n",
        "from sklearn.metrics import classification_report\n",
        "\n",
        "print(\"Confusion Matrix for the SVM model : \")\n",
        "print(confusion_matrix(y_test_svm, y_pred_svm))\n",
        "\n",
        "print()\n",
        "\n",
        "print(\"Classification Report for the SVM model : \")\n",
        "print(classification_report(y_test_svm, y_pred_svm))"
      ],
      "execution_count": 206,
      "outputs": [
        {
          "output_type": "stream",
          "text": [
            "Confusion Matrix for the SVM model : \n",
            "[[7826  615]\n",
            " [1230 1627]]\n",
            "\n",
            "Classification Report for the SVM model : \n",
            "              precision    recall  f1-score   support\n",
            "\n",
            "           0       0.86      0.93      0.89      8441\n",
            "           1       0.73      0.57      0.64      2857\n",
            "\n",
            "    accuracy                           0.84     11298\n",
            "   macro avg       0.79      0.75      0.77     11298\n",
            "weighted avg       0.83      0.84      0.83     11298\n",
            "\n"
          ],
          "name": "stdout"
        }
      ]
    },
    {
      "cell_type": "code",
      "metadata": {
        "id": "flJIL0oZjHqB",
        "colab_type": "code",
        "colab": {
          "base_uri": "https://localhost:8080/",
          "height": 118
        },
        "outputId": "1ede64c4-a8e2-468c-f624-e42afcfe5c30"
      },
      "source": [
        "# Model 3 : Decision Tree Classifier\n",
        "\n",
        "from sklearn.tree import DecisionTreeClassifier\n",
        "\n",
        "de_tree_clf = DecisionTreeClassifier()\n",
        "de_tree_clf.fit(X_train, y_train)"
      ],
      "execution_count": 207,
      "outputs": [
        {
          "output_type": "execute_result",
          "data": {
            "text/plain": [
              "DecisionTreeClassifier(ccp_alpha=0.0, class_weight=None, criterion='gini',\n",
              "                       max_depth=None, max_features=None, max_leaf_nodes=None,\n",
              "                       min_impurity_decrease=0.0, min_impurity_split=None,\n",
              "                       min_samples_leaf=1, min_samples_split=2,\n",
              "                       min_weight_fraction_leaf=0.0, presort='deprecated',\n",
              "                       random_state=None, splitter='best')"
            ]
          },
          "metadata": {
            "tags": []
          },
          "execution_count": 207
        }
      ]
    },
    {
      "cell_type": "code",
      "metadata": {
        "id": "sB-Ouv8vjHj7",
        "colab_type": "code",
        "colab": {
          "base_uri": "https://localhost:8080/",
          "height": 34
        },
        "outputId": "e8cdf625-75c9-4746-ef95-7ba9dbdc4960"
      },
      "source": [
        "y_pred_dt = de_tree_clf.predict(X_test)\n",
        "y_pred_dt"
      ],
      "execution_count": 208,
      "outputs": [
        {
          "output_type": "execute_result",
          "data": {
            "text/plain": [
              "array([0, 0, 0, ..., 0, 0, 1])"
            ]
          },
          "metadata": {
            "tags": []
          },
          "execution_count": 208
        }
      ]
    },
    {
      "cell_type": "code",
      "metadata": {
        "id": "HKmxTTP8jHh7",
        "colab_type": "code",
        "colab": {
          "base_uri": "https://localhost:8080/",
          "height": 34
        },
        "outputId": "8328204f-c770-4e64-d1d5-f453f7a18cde"
      },
      "source": [
        "# Accuracy of Decision Tree Classifier \n",
        "accuracy_score_dt = de_tree_clf.score(X_test, y_test)\n",
        "print(\"Accuracy of the Decision Tree Classifier : \" + str(accuracy_score_dt))"
      ],
      "execution_count": 209,
      "outputs": [
        {
          "output_type": "stream",
          "text": [
            "Accuracy of the Decision Tree Classifier : 0.8169587537617278\n"
          ],
          "name": "stdout"
        }
      ]
    },
    {
      "cell_type": "code",
      "metadata": {
        "id": "iTWionAojHd7",
        "colab_type": "code",
        "colab": {
          "base_uri": "https://localhost:8080/",
          "height": 252
        },
        "outputId": "84813e7a-2a68-4b38-ed8e-9384723f2d5d"
      },
      "source": [
        "from sklearn.metrics import confusion_matrix\n",
        "from sklearn.metrics import classification_report\n",
        "\n",
        "print(\"Confusion Matrix for the Decision Tree model : \")\n",
        "print(confusion_matrix(y_test, y_pred_dt))\n",
        "\n",
        "print()\n",
        "\n",
        "print(\"Classification Report for the Decision Tree Classifier model : \")\n",
        "print(classification_report(y_test, y_pred_dt))"
      ],
      "execution_count": 210,
      "outputs": [
        {
          "output_type": "stream",
          "text": [
            "Confusion Matrix for the Decision Tree model : \n",
            "[[7516  925]\n",
            " [1143 1714]]\n",
            "\n",
            "Classification Report for the Decision Tree Classifier model : \n",
            "              precision    recall  f1-score   support\n",
            "\n",
            "           0       0.87      0.89      0.88      8441\n",
            "           1       0.65      0.60      0.62      2857\n",
            "\n",
            "    accuracy                           0.82     11298\n",
            "   macro avg       0.76      0.75      0.75     11298\n",
            "weighted avg       0.81      0.82      0.81     11298\n",
            "\n"
          ],
          "name": "stdout"
        }
      ]
    },
    {
      "cell_type": "code",
      "metadata": {
        "id": "ZtbmabVpjHb5",
        "colab_type": "code",
        "colab": {
          "base_uri": "https://localhost:8080/",
          "height": 420
        },
        "outputId": "08bf70f2-3446-4d27-82c7-920163173072"
      },
      "source": [
        "de_tree_clf.feature_importances_"
      ],
      "execution_count": 211,
      "outputs": [
        {
          "output_type": "execute_result",
          "data": {
            "text/plain": [
              "array([1.72454579e-01, 1.08499089e-02, 1.39769851e-01, 4.51361217e-02,\n",
              "       9.65513064e-02, 8.42742102e-03, 1.48034027e-02, 7.84223382e-03,\n",
              "       1.19067973e-02, 6.95577675e-03, 9.63919307e-06, 1.51203848e-03,\n",
              "       9.62520207e-04, 5.84537163e-06, 7.07982981e-04, 2.46652864e-03,\n",
              "       1.19501772e-03, 5.35842001e-03, 4.66610042e-03, 3.07696003e-02,\n",
              "       4.12334692e-03, 7.53906219e-03, 1.26870650e-02, 1.69840713e-04,\n",
              "       5.58254290e-03, 7.16495941e-03, 4.95933398e-04, 2.14634348e-01,\n",
              "       1.57887050e-03, 4.80661471e-03, 2.06114358e-03, 2.47569569e-03,\n",
              "       0.00000000e+00, 9.36176849e-03, 2.43706566e-02, 5.48875748e-03,\n",
              "       3.58432337e-03, 4.86946110e-03, 5.76011197e-03, 1.02272445e-04,\n",
              "       2.93391949e-02, 5.54740542e-03, 9.66511596e-03, 5.90817513e-03,\n",
              "       7.14161462e-03, 4.36794335e-03, 2.20617734e-03, 2.33314220e-03,\n",
              "       2.37080720e-03, 7.36481436e-03, 3.46431741e-03, 7.78027025e-03,\n",
              "       8.72784077e-04, 7.39944919e-03, 1.25231245e-03, 4.86319335e-04,\n",
              "       2.05766853e-04, 7.55199009e-04, 1.85849280e-04, 0.00000000e+00,\n",
              "       1.90836468e-04, 1.19491006e-03, 6.33538886e-04, 1.12776673e-03,\n",
              "       5.04742208e-04, 0.00000000e+00, 1.08167759e-04, 0.00000000e+00,\n",
              "       0.00000000e+00, 0.00000000e+00, 2.70585062e-04, 9.44164663e-04,\n",
              "       5.41064365e-04, 3.52870062e-04, 5.90919737e-04, 5.80774992e-04,\n",
              "       9.59812870e-04, 0.00000000e+00, 2.68288990e-03, 1.34672916e-04,\n",
              "       0.00000000e+00, 1.74336706e-04, 7.49020406e-04, 7.82098718e-04,\n",
              "       6.95808802e-04, 6.51332311e-04, 0.00000000e+00, 7.54633118e-04,\n",
              "       1.29441270e-04, 1.38804380e-04, 2.41943746e-04, 6.17429955e-03,\n",
              "       6.17638455e-04, 2.18400986e-04])"
            ]
          },
          "metadata": {
            "tags": []
          },
          "execution_count": 211
        }
      ]
    },
    {
      "cell_type": "code",
      "metadata": {
        "id": "RsbdqODIjHZq",
        "colab_type": "code",
        "colab": {
          "base_uri": "https://localhost:8080/",
          "height": 491
        },
        "outputId": "273bd4bf-06f1-42a3-d6f4-baace1ba58e3"
      },
      "source": [
        "feature_importances_dt = pd.DataFrame(de_tree_clf.feature_importances_,\n",
        "                                   index = cols,\n",
        "                                   columns = [\"importance\"]).sort_values('importance', ascending = False)\n",
        "feature_importances_dt = feature_importances_dt.reset_index()\n",
        "feature_importances_dt[:15]"
      ],
      "execution_count": 212,
      "outputs": [
        {
          "output_type": "execute_result",
          "data": {
            "text/html": [
              "<div>\n",
              "<style scoped>\n",
              "    .dataframe tbody tr th:only-of-type {\n",
              "        vertical-align: middle;\n",
              "    }\n",
              "\n",
              "    .dataframe tbody tr th {\n",
              "        vertical-align: top;\n",
              "    }\n",
              "\n",
              "    .dataframe thead th {\n",
              "        text-align: right;\n",
              "    }\n",
              "</style>\n",
              "<table border=\"1\" class=\"dataframe\">\n",
              "  <thead>\n",
              "    <tr style=\"text-align: right;\">\n",
              "      <th></th>\n",
              "      <th>index</th>\n",
              "      <th>importance</th>\n",
              "    </tr>\n",
              "  </thead>\n",
              "  <tbody>\n",
              "    <tr>\n",
              "      <th>0</th>\n",
              "      <td>marital_status_ Married-civ-spouse</td>\n",
              "      <td>0.214634</td>\n",
              "    </tr>\n",
              "    <tr>\n",
              "      <th>1</th>\n",
              "      <td>age</td>\n",
              "      <td>0.172455</td>\n",
              "    </tr>\n",
              "    <tr>\n",
              "      <th>2</th>\n",
              "      <td>capital_gain</td>\n",
              "      <td>0.139770</td>\n",
              "    </tr>\n",
              "    <tr>\n",
              "      <th>3</th>\n",
              "      <td>hours_per_week</td>\n",
              "      <td>0.096551</td>\n",
              "    </tr>\n",
              "    <tr>\n",
              "      <th>4</th>\n",
              "      <td>capital_loss</td>\n",
              "      <td>0.045136</td>\n",
              "    </tr>\n",
              "    <tr>\n",
              "      <th>5</th>\n",
              "      <td>education_ Bachelors</td>\n",
              "      <td>0.030770</td>\n",
              "    </tr>\n",
              "    <tr>\n",
              "      <th>6</th>\n",
              "      <td>occupation_ Prof-specialty</td>\n",
              "      <td>0.029339</td>\n",
              "    </tr>\n",
              "    <tr>\n",
              "      <th>7</th>\n",
              "      <td>occupation_ Exec-managerial</td>\n",
              "      <td>0.024371</td>\n",
              "    </tr>\n",
              "    <tr>\n",
              "      <th>8</th>\n",
              "      <td>workclass_ Private</td>\n",
              "      <td>0.014803</td>\n",
              "    </tr>\n",
              "    <tr>\n",
              "      <th>9</th>\n",
              "      <td>education_ Masters</td>\n",
              "      <td>0.012687</td>\n",
              "    </tr>\n",
              "    <tr>\n",
              "      <th>10</th>\n",
              "      <td>workclass_ Self-emp-not-inc</td>\n",
              "      <td>0.011907</td>\n",
              "    </tr>\n",
              "    <tr>\n",
              "      <th>11</th>\n",
              "      <td>sex</td>\n",
              "      <td>0.010850</td>\n",
              "    </tr>\n",
              "    <tr>\n",
              "      <th>12</th>\n",
              "      <td>occupation_ Sales</td>\n",
              "      <td>0.009665</td>\n",
              "    </tr>\n",
              "    <tr>\n",
              "      <th>13</th>\n",
              "      <td>occupation_ Craft-repair</td>\n",
              "      <td>0.009362</td>\n",
              "    </tr>\n",
              "    <tr>\n",
              "      <th>14</th>\n",
              "      <td>workclass_ Local-gov</td>\n",
              "      <td>0.008427</td>\n",
              "    </tr>\n",
              "  </tbody>\n",
              "</table>\n",
              "</div>"
            ],
            "text/plain": [
              "                                 index  importance\n",
              "0   marital_status_ Married-civ-spouse    0.214634\n",
              "1                                  age    0.172455\n",
              "2                         capital_gain    0.139770\n",
              "3                       hours_per_week    0.096551\n",
              "4                         capital_loss    0.045136\n",
              "5                 education_ Bachelors    0.030770\n",
              "6           occupation_ Prof-specialty    0.029339\n",
              "7          occupation_ Exec-managerial    0.024371\n",
              "8                   workclass_ Private    0.014803\n",
              "9                   education_ Masters    0.012687\n",
              "10         workclass_ Self-emp-not-inc    0.011907\n",
              "11                                 sex    0.010850\n",
              "12                   occupation_ Sales    0.009665\n",
              "13            occupation_ Craft-repair    0.009362\n",
              "14                workclass_ Local-gov    0.008427"
            ]
          },
          "metadata": {
            "tags": []
          },
          "execution_count": 212
        }
      ]
    },
    {
      "cell_type": "code",
      "metadata": {
        "id": "7GWcN--LjHXk",
        "colab_type": "code",
        "colab": {}
      },
      "source": [
        "# Top 15 important features for the Decision Tree Classifier"
      ],
      "execution_count": 213,
      "outputs": []
    },
    {
      "cell_type": "code",
      "metadata": {
        "id": "HkbEVZ_OjHT-",
        "colab_type": "code",
        "colab": {
          "base_uri": "https://localhost:8080/",
          "height": 185
        },
        "outputId": "efe7b4e5-2478-4bbb-aeb5-c06eb0276106"
      },
      "source": [
        "# Model 4 : Random Forest Classifier\n",
        "\n",
        "from sklearn.ensemble import RandomForestClassifier\n",
        "\n",
        "rf_clf = RandomForestClassifier(n_estimators = 200, verbose = 1)\n",
        "rf_clf.fit(X_train, y_train)"
      ],
      "execution_count": 214,
      "outputs": [
        {
          "output_type": "stream",
          "text": [
            "[Parallel(n_jobs=1)]: Using backend SequentialBackend with 1 concurrent workers.\n",
            "[Parallel(n_jobs=1)]: Done 200 out of 200 | elapsed:    9.4s finished\n"
          ],
          "name": "stderr"
        },
        {
          "output_type": "execute_result",
          "data": {
            "text/plain": [
              "RandomForestClassifier(bootstrap=True, ccp_alpha=0.0, class_weight=None,\n",
              "                       criterion='gini', max_depth=None, max_features='auto',\n",
              "                       max_leaf_nodes=None, max_samples=None,\n",
              "                       min_impurity_decrease=0.0, min_impurity_split=None,\n",
              "                       min_samples_leaf=1, min_samples_split=2,\n",
              "                       min_weight_fraction_leaf=0.0, n_estimators=200,\n",
              "                       n_jobs=None, oob_score=False, random_state=None,\n",
              "                       verbose=1, warm_start=False)"
            ]
          },
          "metadata": {
            "tags": []
          },
          "execution_count": 214
        }
      ]
    },
    {
      "cell_type": "code",
      "metadata": {
        "id": "aAjwH9InjHR5",
        "colab_type": "code",
        "colab": {
          "base_uri": "https://localhost:8080/",
          "height": 67
        },
        "outputId": "4a82d668-5afb-4613-ca70-c3d60e63dde9"
      },
      "source": [
        "y_pred_rf = rf_clf.predict(X_test)\n",
        "y_pred_rf"
      ],
      "execution_count": 215,
      "outputs": [
        {
          "output_type": "stream",
          "text": [
            "[Parallel(n_jobs=1)]: Using backend SequentialBackend with 1 concurrent workers.\n",
            "[Parallel(n_jobs=1)]: Done 200 out of 200 | elapsed:    0.6s finished\n"
          ],
          "name": "stderr"
        },
        {
          "output_type": "execute_result",
          "data": {
            "text/plain": [
              "array([0, 0, 0, ..., 0, 0, 1])"
            ]
          },
          "metadata": {
            "tags": []
          },
          "execution_count": 215
        }
      ]
    },
    {
      "cell_type": "code",
      "metadata": {
        "id": "CD83_hczjHPH",
        "colab_type": "code",
        "colab": {
          "base_uri": "https://localhost:8080/",
          "height": 67
        },
        "outputId": "4cdbbf60-9b57-42ab-dece-91b4e372709b"
      },
      "source": [
        "# Accuracy of Random Forest Classifier \n",
        "accuracy_score_rf = rf_clf.score(X_test, y_test)\n",
        "print(\"Accuracy of the Random Forest Classifier : \" + str(accuracy_score_rf))"
      ],
      "execution_count": 216,
      "outputs": [
        {
          "output_type": "stream",
          "text": [
            "[Parallel(n_jobs=1)]: Using backend SequentialBackend with 1 concurrent workers.\n"
          ],
          "name": "stderr"
        },
        {
          "output_type": "stream",
          "text": [
            "Accuracy of the Random Forest Classifier : 0.8417419012214551\n"
          ],
          "name": "stdout"
        },
        {
          "output_type": "stream",
          "text": [
            "[Parallel(n_jobs=1)]: Done 200 out of 200 | elapsed:    0.6s finished\n"
          ],
          "name": "stderr"
        }
      ]
    },
    {
      "cell_type": "code",
      "metadata": {
        "id": "YaM0_CcljHMq",
        "colab_type": "code",
        "colab": {
          "base_uri": "https://localhost:8080/",
          "height": 252
        },
        "outputId": "5ff1ccd5-504e-484a-cadc-7cd69948123f"
      },
      "source": [
        "from sklearn.metrics import confusion_matrix\n",
        "from sklearn.metrics import classification_report\n",
        "\n",
        "print(\"Confusion Matrix for the Random Forest model : \")\n",
        "print(confusion_matrix(y_test, y_pred_rf))\n",
        "\n",
        "print()\n",
        "\n",
        "print(\"Classification Report for the Random Forest Classifier model : \")\n",
        "print(classification_report(y_test, y_pred_rf))"
      ],
      "execution_count": 217,
      "outputs": [
        {
          "output_type": "stream",
          "text": [
            "Confusion Matrix for the Random Forest model : \n",
            "[[7768  673]\n",
            " [1115 1742]]\n",
            "\n",
            "Classification Report for the Random Forest Classifier model : \n",
            "              precision    recall  f1-score   support\n",
            "\n",
            "           0       0.87      0.92      0.90      8441\n",
            "           1       0.72      0.61      0.66      2857\n",
            "\n",
            "    accuracy                           0.84     11298\n",
            "   macro avg       0.80      0.77      0.78     11298\n",
            "weighted avg       0.84      0.84      0.84     11298\n",
            "\n"
          ],
          "name": "stdout"
        }
      ]
    },
    {
      "cell_type": "code",
      "metadata": {
        "id": "GmVSxp4MjHEY",
        "colab_type": "code",
        "colab": {
          "base_uri": "https://localhost:8080/",
          "height": 420
        },
        "outputId": "c242a0c6-f3d2-4296-8e05-9771112f9b19"
      },
      "source": [
        "rf_clf.feature_importances_"
      ],
      "execution_count": 218,
      "outputs": [
        {
          "output_type": "execute_result",
          "data": {
            "text/plain": [
              "array([2.41624714e-01, 1.90584382e-02, 1.17923147e-01, 3.70445612e-02,\n",
              "       1.17274738e-01, 7.06185454e-03, 1.28317099e-02, 7.33271834e-03,\n",
              "       9.97287619e-03, 5.70621460e-03, 1.80327159e-04, 3.72628046e-03,\n",
              "       1.41326774e-03, 5.60264547e-04, 1.44931306e-03, 3.78656584e-03,\n",
              "       2.46366324e-03, 4.82874400e-03, 5.26563809e-03, 2.38823836e-02,\n",
              "       6.22502318e-03, 1.38078157e-02, 1.73345533e-02, 1.36684869e-04,\n",
              "       1.07132911e-02, 9.48328775e-03, 3.59700253e-04, 9.23516600e-02,\n",
              "       1.42461131e-03, 3.05750680e-02, 2.70143675e-03, 2.54471800e-03,\n",
              "       4.15362338e-05, 8.12775064e-03, 2.21808011e-02, 5.72326301e-03,\n",
              "       3.98900300e-03, 4.75461268e-03, 8.81884382e-03, 2.22236361e-04,\n",
              "       2.16689571e-02, 3.69136282e-03, 8.12843840e-03, 5.41790528e-03,\n",
              "       5.20825575e-03, 1.69646473e-02, 2.62655493e-03, 1.11063137e-02,\n",
              "       9.93894589e-03, 8.09807784e-03, 3.45658735e-03, 5.40149244e-03,\n",
              "       9.31223062e-04, 7.50849750e-03, 1.36640963e-03, 6.84378392e-04,\n",
              "       2.96333430e-04, 7.72512355e-04, 2.75289455e-04, 1.31105560e-04,\n",
              "       2.76406778e-04, 8.70316225e-04, 3.30180874e-04, 1.16990077e-03,\n",
              "       4.67964193e-04, 7.17754103e-05, 1.82263987e-04, 0.00000000e+00,\n",
              "       2.90301186e-05, 1.22880861e-04, 2.59168148e-04, 1.08539639e-03,\n",
              "       4.87252451e-04, 3.92825746e-04, 8.86798049e-04, 4.77913067e-04,\n",
              "       5.80927670e-04, 9.53650112e-05, 2.67039948e-03, 1.69739261e-04,\n",
              "       4.06471134e-05, 2.07594839e-04, 9.61638177e-04, 5.73392429e-04,\n",
              "       4.21966710e-04, 6.02818510e-04, 1.03860304e-04, 6.76107151e-04,\n",
              "       2.53392724e-04, 7.80103054e-05, 1.45850164e-04, 6.09244719e-03,\n",
              "       3.66357436e-04, 2.72807888e-04])"
            ]
          },
          "metadata": {
            "tags": []
          },
          "execution_count": 218
        }
      ]
    },
    {
      "cell_type": "code",
      "metadata": {
        "id": "5yCDM2XqjG-Q",
        "colab_type": "code",
        "colab": {
          "base_uri": "https://localhost:8080/",
          "height": 491
        },
        "outputId": "e8e84efa-4ac1-4a6d-916b-65822544c849"
      },
      "source": [
        "feature_importances_rf = pd.DataFrame(rf_clf.feature_importances_,\n",
        "                                   index = cols,\n",
        "                                   columns = [\"importance\"]).sort_values('importance', ascending = False)\n",
        "feature_importances_rf = feature_importances_rf.reset_index()\n",
        "feature_importances_rf[:15]"
      ],
      "execution_count": 219,
      "outputs": [
        {
          "output_type": "execute_result",
          "data": {
            "text/html": [
              "<div>\n",
              "<style scoped>\n",
              "    .dataframe tbody tr th:only-of-type {\n",
              "        vertical-align: middle;\n",
              "    }\n",
              "\n",
              "    .dataframe tbody tr th {\n",
              "        vertical-align: top;\n",
              "    }\n",
              "\n",
              "    .dataframe thead th {\n",
              "        text-align: right;\n",
              "    }\n",
              "</style>\n",
              "<table border=\"1\" class=\"dataframe\">\n",
              "  <thead>\n",
              "    <tr style=\"text-align: right;\">\n",
              "      <th></th>\n",
              "      <th>index</th>\n",
              "      <th>importance</th>\n",
              "    </tr>\n",
              "  </thead>\n",
              "  <tbody>\n",
              "    <tr>\n",
              "      <th>0</th>\n",
              "      <td>age</td>\n",
              "      <td>0.241625</td>\n",
              "    </tr>\n",
              "    <tr>\n",
              "      <th>1</th>\n",
              "      <td>capital_gain</td>\n",
              "      <td>0.117923</td>\n",
              "    </tr>\n",
              "    <tr>\n",
              "      <th>2</th>\n",
              "      <td>hours_per_week</td>\n",
              "      <td>0.117275</td>\n",
              "    </tr>\n",
              "    <tr>\n",
              "      <th>3</th>\n",
              "      <td>marital_status_ Married-civ-spouse</td>\n",
              "      <td>0.092352</td>\n",
              "    </tr>\n",
              "    <tr>\n",
              "      <th>4</th>\n",
              "      <td>capital_loss</td>\n",
              "      <td>0.037045</td>\n",
              "    </tr>\n",
              "    <tr>\n",
              "      <th>5</th>\n",
              "      <td>marital_status_ Never-married</td>\n",
              "      <td>0.030575</td>\n",
              "    </tr>\n",
              "    <tr>\n",
              "      <th>6</th>\n",
              "      <td>education_ Bachelors</td>\n",
              "      <td>0.023882</td>\n",
              "    </tr>\n",
              "    <tr>\n",
              "      <th>7</th>\n",
              "      <td>occupation_ Exec-managerial</td>\n",
              "      <td>0.022181</td>\n",
              "    </tr>\n",
              "    <tr>\n",
              "      <th>8</th>\n",
              "      <td>occupation_ Prof-specialty</td>\n",
              "      <td>0.021669</td>\n",
              "    </tr>\n",
              "    <tr>\n",
              "      <th>9</th>\n",
              "      <td>sex</td>\n",
              "      <td>0.019058</td>\n",
              "    </tr>\n",
              "    <tr>\n",
              "      <th>10</th>\n",
              "      <td>education_ Masters</td>\n",
              "      <td>0.017335</td>\n",
              "    </tr>\n",
              "    <tr>\n",
              "      <th>11</th>\n",
              "      <td>relationship_ Not-in-family</td>\n",
              "      <td>0.016965</td>\n",
              "    </tr>\n",
              "    <tr>\n",
              "      <th>12</th>\n",
              "      <td>education_ HS-grad</td>\n",
              "      <td>0.013808</td>\n",
              "    </tr>\n",
              "    <tr>\n",
              "      <th>13</th>\n",
              "      <td>workclass_ Private</td>\n",
              "      <td>0.012832</td>\n",
              "    </tr>\n",
              "    <tr>\n",
              "      <th>14</th>\n",
              "      <td>relationship_ Own-child</td>\n",
              "      <td>0.011106</td>\n",
              "    </tr>\n",
              "  </tbody>\n",
              "</table>\n",
              "</div>"
            ],
            "text/plain": [
              "                                 index  importance\n",
              "0                                  age    0.241625\n",
              "1                         capital_gain    0.117923\n",
              "2                       hours_per_week    0.117275\n",
              "3   marital_status_ Married-civ-spouse    0.092352\n",
              "4                         capital_loss    0.037045\n",
              "5        marital_status_ Never-married    0.030575\n",
              "6                 education_ Bachelors    0.023882\n",
              "7          occupation_ Exec-managerial    0.022181\n",
              "8           occupation_ Prof-specialty    0.021669\n",
              "9                                  sex    0.019058\n",
              "10                  education_ Masters    0.017335\n",
              "11         relationship_ Not-in-family    0.016965\n",
              "12                  education_ HS-grad    0.013808\n",
              "13                  workclass_ Private    0.012832\n",
              "14             relationship_ Own-child    0.011106"
            ]
          },
          "metadata": {
            "tags": []
          },
          "execution_count": 219
        }
      ]
    },
    {
      "cell_type": "code",
      "metadata": {
        "id": "VQWBRbUojG5N",
        "colab_type": "code",
        "colab": {}
      },
      "source": [
        "# Top 15 significant features for the random forest classifier"
      ],
      "execution_count": 220,
      "outputs": []
    },
    {
      "cell_type": "code",
      "metadata": {
        "id": "eUN0-rMh7G1J",
        "colab_type": "code",
        "colab": {}
      },
      "source": [
        ""
      ],
      "execution_count": 220,
      "outputs": []
    },
    {
      "cell_type": "code",
      "metadata": {
        "id": "9ExIadtWjGvj",
        "colab_type": "code",
        "colab": {
          "base_uri": "https://localhost:8080/",
          "height": 50
        },
        "outputId": "fec6b79c-da5b-4d05-a807-ca04790ed83a"
      },
      "source": [
        "# Model 5 : ADABoostClassifier\n",
        "\n",
        "from sklearn.ensemble import AdaBoostClassifier\n",
        "\n",
        "ab_clf = AdaBoostClassifier(n_estimators = 100, algorithm = \"SAMME\")\n",
        "ab_clf.fit(X_train, y_train)"
      ],
      "execution_count": 221,
      "outputs": [
        {
          "output_type": "execute_result",
          "data": {
            "text/plain": [
              "AdaBoostClassifier(algorithm='SAMME', base_estimator=None, learning_rate=1.0,\n",
              "                   n_estimators=100, random_state=None)"
            ]
          },
          "metadata": {
            "tags": []
          },
          "execution_count": 221
        }
      ]
    },
    {
      "cell_type": "code",
      "metadata": {
        "id": "1GxBgX0VjGnN",
        "colab_type": "code",
        "colab": {
          "base_uri": "https://localhost:8080/",
          "height": 34
        },
        "outputId": "370079a6-395d-45e0-b2d4-ecb029e94635"
      },
      "source": [
        "y_pred_ab = ab_clf.predict(X_test)\n",
        "y_pred_ab"
      ],
      "execution_count": 222,
      "outputs": [
        {
          "output_type": "execute_result",
          "data": {
            "text/plain": [
              "array([0, 0, 0, ..., 0, 0, 1])"
            ]
          },
          "metadata": {
            "tags": []
          },
          "execution_count": 222
        }
      ]
    },
    {
      "cell_type": "code",
      "metadata": {
        "id": "scF_DANhjGfb",
        "colab_type": "code",
        "colab": {
          "base_uri": "https://localhost:8080/",
          "height": 34
        },
        "outputId": "20442e79-60c7-42ab-c775-51feeffa8daa"
      },
      "source": [
        "# Accuracy of AdaBoost Classifier \n",
        "accuracy_score_ab = ab_clf.score(X_test, y_test)\n",
        "print(\"Accuracy of the AdaBoost Classifier : \" + str(accuracy_score_ab))"
      ],
      "execution_count": 223,
      "outputs": [
        {
          "output_type": "stream",
          "text": [
            "Accuracy of the AdaBoost Classifier : 0.8443087272083555\n"
          ],
          "name": "stdout"
        }
      ]
    },
    {
      "cell_type": "code",
      "metadata": {
        "id": "rV_tljVUjGVY",
        "colab_type": "code",
        "colab": {
          "base_uri": "https://localhost:8080/",
          "height": 252
        },
        "outputId": "d980f26a-cafc-440b-fbf6-f67dd61b77b9"
      },
      "source": [
        "from sklearn.metrics import confusion_matrix\n",
        "from sklearn.metrics import classification_report\n",
        "\n",
        "print(\"Confusion Matrix for the AdaBoost model : \")\n",
        "print(confusion_matrix(y_test, y_pred_ab))\n",
        "\n",
        "print()\n",
        "\n",
        "print(\"Classification Report for the AdaBoost Classifier model : \")\n",
        "print(classification_report(y_test, y_pred_ab))"
      ],
      "execution_count": 224,
      "outputs": [
        {
          "output_type": "stream",
          "text": [
            "Confusion Matrix for the AdaBoost model : \n",
            "[[7896  545]\n",
            " [1214 1643]]\n",
            "\n",
            "Classification Report for the AdaBoost Classifier model : \n",
            "              precision    recall  f1-score   support\n",
            "\n",
            "           0       0.87      0.94      0.90      8441\n",
            "           1       0.75      0.58      0.65      2857\n",
            "\n",
            "    accuracy                           0.84     11298\n",
            "   macro avg       0.81      0.76      0.78     11298\n",
            "weighted avg       0.84      0.84      0.84     11298\n",
            "\n"
          ],
          "name": "stdout"
        }
      ]
    },
    {
      "cell_type": "code",
      "metadata": {
        "id": "BGrzSWm26wSX",
        "colab_type": "code",
        "colab": {
          "base_uri": "https://localhost:8080/",
          "height": 336
        },
        "outputId": "4785b2d0-0c91-4050-eeb3-d68ded749a35"
      },
      "source": [
        "ab_clf.feature_importances_"
      ],
      "execution_count": 225,
      "outputs": [
        {
          "output_type": "execute_result",
          "data": {
            "text/plain": [
              "array([0.08983188, 0.        , 0.23853   , 0.07361898, 0.05299381,\n",
              "       0.        , 0.        , 0.        , 0.        , 0.        ,\n",
              "       0.        , 0.02284762, 0.        , 0.        , 0.01995921,\n",
              "       0.02420431, 0.01898317, 0.        , 0.        , 0.01525728,\n",
              "       0.01204771, 0.01856437, 0.01795975, 0.        , 0.02971245,\n",
              "       0.        , 0.        , 0.172915  , 0.        , 0.        ,\n",
              "       0.        , 0.        , 0.        , 0.        , 0.04185189,\n",
              "       0.03307562, 0.01220072, 0.00825715, 0.02097925, 0.        ,\n",
              "       0.04506124, 0.        , 0.        , 0.        , 0.        ,\n",
              "       0.        , 0.        , 0.00838457, 0.        , 0.01028736,\n",
              "       0.        , 0.        , 0.        , 0.        , 0.        ,\n",
              "       0.        , 0.        , 0.        , 0.        , 0.        ,\n",
              "       0.        , 0.        , 0.        , 0.        , 0.        ,\n",
              "       0.        , 0.        , 0.        , 0.        , 0.        ,\n",
              "       0.        , 0.        , 0.        , 0.        , 0.        ,\n",
              "       0.        , 0.        , 0.        , 0.01247666, 0.        ,\n",
              "       0.        , 0.        , 0.        , 0.        , 0.        ,\n",
              "       0.        , 0.        , 0.        , 0.        , 0.        ,\n",
              "       0.        , 0.        , 0.        , 0.        ])"
            ]
          },
          "metadata": {
            "tags": []
          },
          "execution_count": 225
        }
      ]
    },
    {
      "cell_type": "code",
      "metadata": {
        "id": "sTdzN2Sr62JS",
        "colab_type": "code",
        "colab": {
          "base_uri": "https://localhost:8080/",
          "height": 491
        },
        "outputId": "85a82527-9c38-4b13-b98a-f4e1b69d14f5"
      },
      "source": [
        "feature_importances_ab = pd.DataFrame(ab_clf.feature_importances_,\n",
        "                                   index = cols,\n",
        "                                   columns = [\"importance\"]).sort_values('importance', ascending = False)\n",
        "feature_importances_ab = feature_importances_ab.reset_index()\n",
        "feature_importances_ab[:15]"
      ],
      "execution_count": 226,
      "outputs": [
        {
          "output_type": "execute_result",
          "data": {
            "text/html": [
              "<div>\n",
              "<style scoped>\n",
              "    .dataframe tbody tr th:only-of-type {\n",
              "        vertical-align: middle;\n",
              "    }\n",
              "\n",
              "    .dataframe tbody tr th {\n",
              "        vertical-align: top;\n",
              "    }\n",
              "\n",
              "    .dataframe thead th {\n",
              "        text-align: right;\n",
              "    }\n",
              "</style>\n",
              "<table border=\"1\" class=\"dataframe\">\n",
              "  <thead>\n",
              "    <tr style=\"text-align: right;\">\n",
              "      <th></th>\n",
              "      <th>index</th>\n",
              "      <th>importance</th>\n",
              "    </tr>\n",
              "  </thead>\n",
              "  <tbody>\n",
              "    <tr>\n",
              "      <th>0</th>\n",
              "      <td>capital_gain</td>\n",
              "      <td>0.238530</td>\n",
              "    </tr>\n",
              "    <tr>\n",
              "      <th>1</th>\n",
              "      <td>marital_status_ Married-civ-spouse</td>\n",
              "      <td>0.172915</td>\n",
              "    </tr>\n",
              "    <tr>\n",
              "      <th>2</th>\n",
              "      <td>age</td>\n",
              "      <td>0.089832</td>\n",
              "    </tr>\n",
              "    <tr>\n",
              "      <th>3</th>\n",
              "      <td>capital_loss</td>\n",
              "      <td>0.073619</td>\n",
              "    </tr>\n",
              "    <tr>\n",
              "      <th>4</th>\n",
              "      <td>hours_per_week</td>\n",
              "      <td>0.052994</td>\n",
              "    </tr>\n",
              "    <tr>\n",
              "      <th>5</th>\n",
              "      <td>occupation_ Prof-specialty</td>\n",
              "      <td>0.045061</td>\n",
              "    </tr>\n",
              "    <tr>\n",
              "      <th>6</th>\n",
              "      <td>occupation_ Exec-managerial</td>\n",
              "      <td>0.041852</td>\n",
              "    </tr>\n",
              "    <tr>\n",
              "      <th>7</th>\n",
              "      <td>occupation_ Farming-fishing</td>\n",
              "      <td>0.033076</td>\n",
              "    </tr>\n",
              "    <tr>\n",
              "      <th>8</th>\n",
              "      <td>education_ Prof-school</td>\n",
              "      <td>0.029712</td>\n",
              "    </tr>\n",
              "    <tr>\n",
              "      <th>9</th>\n",
              "      <td>education_ 7th-8th</td>\n",
              "      <td>0.024204</td>\n",
              "    </tr>\n",
              "    <tr>\n",
              "      <th>10</th>\n",
              "      <td>education_ 11th</td>\n",
              "      <td>0.022848</td>\n",
              "    </tr>\n",
              "    <tr>\n",
              "      <th>11</th>\n",
              "      <td>occupation_ Other-service</td>\n",
              "      <td>0.020979</td>\n",
              "    </tr>\n",
              "    <tr>\n",
              "      <th>12</th>\n",
              "      <td>education_ 5th-6th</td>\n",
              "      <td>0.019959</td>\n",
              "    </tr>\n",
              "    <tr>\n",
              "      <th>13</th>\n",
              "      <td>education_ 9th</td>\n",
              "      <td>0.018983</td>\n",
              "    </tr>\n",
              "    <tr>\n",
              "      <th>14</th>\n",
              "      <td>education_ HS-grad</td>\n",
              "      <td>0.018564</td>\n",
              "    </tr>\n",
              "  </tbody>\n",
              "</table>\n",
              "</div>"
            ],
            "text/plain": [
              "                                 index  importance\n",
              "0                         capital_gain    0.238530\n",
              "1   marital_status_ Married-civ-spouse    0.172915\n",
              "2                                  age    0.089832\n",
              "3                         capital_loss    0.073619\n",
              "4                       hours_per_week    0.052994\n",
              "5           occupation_ Prof-specialty    0.045061\n",
              "6          occupation_ Exec-managerial    0.041852\n",
              "7          occupation_ Farming-fishing    0.033076\n",
              "8               education_ Prof-school    0.029712\n",
              "9                   education_ 7th-8th    0.024204\n",
              "10                     education_ 11th    0.022848\n",
              "11           occupation_ Other-service    0.020979\n",
              "12                  education_ 5th-6th    0.019959\n",
              "13                      education_ 9th    0.018983\n",
              "14                  education_ HS-grad    0.018564"
            ]
          },
          "metadata": {
            "tags": []
          },
          "execution_count": 226
        }
      ]
    },
    {
      "cell_type": "code",
      "metadata": {
        "id": "uWFGI7ah6_PK",
        "colab_type": "code",
        "colab": {}
      },
      "source": [
        "# Top 15 features for AdaBoost Classifier"
      ],
      "execution_count": 227,
      "outputs": []
    },
    {
      "cell_type": "code",
      "metadata": {
        "id": "RIJDtgV37Dwj",
        "colab_type": "code",
        "colab": {}
      },
      "source": [
        ""
      ],
      "execution_count": 227,
      "outputs": []
    },
    {
      "cell_type": "code",
      "metadata": {
        "id": "fHfC71aj8aEQ",
        "colab_type": "code",
        "colab": {
          "base_uri": "https://localhost:8080/",
          "height": 185
        },
        "outputId": "a7c9d829-a1c0-40bf-db74-aaa065e4ee2b"
      },
      "source": [
        "# Model 6 : GradientBoosting Classifier\n",
        "\n",
        "from sklearn.ensemble import GradientBoostingClassifier\n",
        "\n",
        "gb_clf = GradientBoostingClassifier()\n",
        "gb_clf.fit(X_train, y_train)"
      ],
      "execution_count": 228,
      "outputs": [
        {
          "output_type": "execute_result",
          "data": {
            "text/plain": [
              "GradientBoostingClassifier(ccp_alpha=0.0, criterion='friedman_mse', init=None,\n",
              "                           learning_rate=0.1, loss='deviance', max_depth=3,\n",
              "                           max_features=None, max_leaf_nodes=None,\n",
              "                           min_impurity_decrease=0.0, min_impurity_split=None,\n",
              "                           min_samples_leaf=1, min_samples_split=2,\n",
              "                           min_weight_fraction_leaf=0.0, n_estimators=100,\n",
              "                           n_iter_no_change=None, presort='deprecated',\n",
              "                           random_state=None, subsample=1.0, tol=0.0001,\n",
              "                           validation_fraction=0.1, verbose=0,\n",
              "                           warm_start=False)"
            ]
          },
          "metadata": {
            "tags": []
          },
          "execution_count": 228
        }
      ]
    },
    {
      "cell_type": "code",
      "metadata": {
        "id": "984D3bEp8Z9R",
        "colab_type": "code",
        "colab": {
          "base_uri": "https://localhost:8080/",
          "height": 34
        },
        "outputId": "e9fe949d-d8e8-4983-9c60-0ff98b35b982"
      },
      "source": [
        "y_pred_gb = gb_clf.predict(X_test)\n",
        "y_pred_gb"
      ],
      "execution_count": 229,
      "outputs": [
        {
          "output_type": "execute_result",
          "data": {
            "text/plain": [
              "array([0, 0, 0, ..., 0, 0, 1])"
            ]
          },
          "metadata": {
            "tags": []
          },
          "execution_count": 229
        }
      ]
    },
    {
      "cell_type": "code",
      "metadata": {
        "id": "PFsVaIWr80ws",
        "colab_type": "code",
        "colab": {
          "base_uri": "https://localhost:8080/",
          "height": 34
        },
        "outputId": "dbe51e31-8541-4cf7-a6b7-1220607476c7"
      },
      "source": [
        "# accuracy of GradientBoosting Classifier\n",
        "from sklearn.metrics import accuracy_score\n",
        "\n",
        "accuracy_gb = accuracy_score(y_test, y_pred_gb)\n",
        "accuracy_gb"
      ],
      "execution_count": 230,
      "outputs": [
        {
          "output_type": "execute_result",
          "data": {
            "text/plain": [
              "0.8582935032749159"
            ]
          },
          "metadata": {
            "tags": []
          },
          "execution_count": 230
        }
      ]
    },
    {
      "cell_type": "code",
      "metadata": {
        "id": "Uyd9ngt580va",
        "colab_type": "code",
        "colab": {
          "base_uri": "https://localhost:8080/",
          "height": 252
        },
        "outputId": "68e75545-a7da-4275-d79a-3ad1bded8125"
      },
      "source": [
        "from sklearn.metrics import confusion_matrix\n",
        "from sklearn.metrics import classification_report\n",
        "\n",
        "print(\"Confusion Matrix for the GradientBoosting Classification model : \")\n",
        "print(confusion_matrix(y_test, y_pred_gb))\n",
        "\n",
        "print()\n",
        "\n",
        "print(\"Classification Report for the GradientBoosting Classification model : \")\n",
        "print(classification_report(y_test, y_pred_gb))"
      ],
      "execution_count": 231,
      "outputs": [
        {
          "output_type": "stream",
          "text": [
            "Confusion Matrix for the GradientBoosting Classification model : \n",
            "[[8018  423]\n",
            " [1178 1679]]\n",
            "\n",
            "Classification Report for the GradientBoosting Classification model : \n",
            "              precision    recall  f1-score   support\n",
            "\n",
            "           0       0.87      0.95      0.91      8441\n",
            "           1       0.80      0.59      0.68      2857\n",
            "\n",
            "    accuracy                           0.86     11298\n",
            "   macro avg       0.84      0.77      0.79     11298\n",
            "weighted avg       0.85      0.86      0.85     11298\n",
            "\n"
          ],
          "name": "stdout"
        }
      ]
    },
    {
      "cell_type": "code",
      "metadata": {
        "id": "vcbdlqfw80i4",
        "colab_type": "code",
        "colab": {
          "base_uri": "https://localhost:8080/",
          "height": 420
        },
        "outputId": "4362617c-b4e7-4139-b638-585b60f80a98"
      },
      "source": [
        "gb_clf.feature_importances_"
      ],
      "execution_count": 232,
      "outputs": [
        {
          "output_type": "execute_result",
          "data": {
            "text/plain": [
              "array([5.66528491e-02, 8.04253111e-04, 2.32552911e-01, 6.43465107e-02,\n",
              "       3.70880856e-02, 8.98206961e-04, 0.00000000e+00, 5.50647740e-04,\n",
              "       5.70858776e-03, 1.64225934e-04, 0.00000000e+00, 1.84740013e-03,\n",
              "       0.00000000e+00, 9.41175134e-05, 7.58513423e-04, 3.45037653e-03,\n",
              "       1.25834916e-03, 1.56736410e-04, 0.00000000e+00, 3.45450593e-02,\n",
              "       7.50327231e-03, 6.35364382e-03, 2.52079935e-02, 1.74406729e-04,\n",
              "       1.16711706e-02, 0.00000000e+00, 3.07223518e-04, 4.01064842e-01,\n",
              "       9.73399934e-05, 6.33724343e-04, 3.56447522e-05, 0.00000000e+00,\n",
              "       0.00000000e+00, 0.00000000e+00, 3.47584861e-02, 6.26374552e-03,\n",
              "       7.09166883e-04, 1.23007457e-03, 5.83092879e-03, 0.00000000e+00,\n",
              "       4.33719769e-02, 8.08303328e-04, 2.84590860e-03, 2.52403531e-03,\n",
              "       4.38377670e-05, 2.41358779e-04, 1.80670487e-04, 7.10199928e-05,\n",
              "       0.00000000e+00, 3.23567579e-03, 4.28131689e-05, 9.30243927e-05,\n",
              "       0.00000000e+00, 1.15254107e-04, 2.18454189e-04, 0.00000000e+00,\n",
              "       6.61133078e-05, 0.00000000e+00, 0.00000000e+00, 0.00000000e+00,\n",
              "       6.61565312e-05, 0.00000000e+00, 0.00000000e+00, 0.00000000e+00,\n",
              "       0.00000000e+00, 0.00000000e+00, 0.00000000e+00, 0.00000000e+00,\n",
              "       0.00000000e+00, 0.00000000e+00, 0.00000000e+00, 0.00000000e+00,\n",
              "       0.00000000e+00, 0.00000000e+00, 9.36392330e-05, 5.77015605e-05,\n",
              "       0.00000000e+00, 5.21824010e-05, 2.56569813e-03, 0.00000000e+00,\n",
              "       0.00000000e+00, 0.00000000e+00, 7.57392444e-05, 2.94835326e-05,\n",
              "       0.00000000e+00, 2.54629447e-05, 0.00000000e+00, 1.07147447e-04,\n",
              "       0.00000000e+00, 0.00000000e+00, 5.70746844e-05, 2.92774009e-04,\n",
              "       0.00000000e+00, 0.00000000e+00])"
            ]
          },
          "metadata": {
            "tags": []
          },
          "execution_count": 232
        }
      ]
    },
    {
      "cell_type": "code",
      "metadata": {
        "id": "Js5YIczr9USZ",
        "colab_type": "code",
        "colab": {
          "base_uri": "https://localhost:8080/",
          "height": 491
        },
        "outputId": "7161457c-7125-4df8-db1c-2d1ddda82bfe"
      },
      "source": [
        "feature_importances_gb = pd.DataFrame(gb_clf.feature_importances_,\n",
        "                                   index = cols,\n",
        "                                   columns = [\"importance\"]).sort_values('importance', ascending = False)\n",
        "feature_importances_gb = feature_importances_gb.reset_index()\n",
        "feature_importances_gb[:15]"
      ],
      "execution_count": 233,
      "outputs": [
        {
          "output_type": "execute_result",
          "data": {
            "text/html": [
              "<div>\n",
              "<style scoped>\n",
              "    .dataframe tbody tr th:only-of-type {\n",
              "        vertical-align: middle;\n",
              "    }\n",
              "\n",
              "    .dataframe tbody tr th {\n",
              "        vertical-align: top;\n",
              "    }\n",
              "\n",
              "    .dataframe thead th {\n",
              "        text-align: right;\n",
              "    }\n",
              "</style>\n",
              "<table border=\"1\" class=\"dataframe\">\n",
              "  <thead>\n",
              "    <tr style=\"text-align: right;\">\n",
              "      <th></th>\n",
              "      <th>index</th>\n",
              "      <th>importance</th>\n",
              "    </tr>\n",
              "  </thead>\n",
              "  <tbody>\n",
              "    <tr>\n",
              "      <th>0</th>\n",
              "      <td>marital_status_ Married-civ-spouse</td>\n",
              "      <td>0.401065</td>\n",
              "    </tr>\n",
              "    <tr>\n",
              "      <th>1</th>\n",
              "      <td>capital_gain</td>\n",
              "      <td>0.232553</td>\n",
              "    </tr>\n",
              "    <tr>\n",
              "      <th>2</th>\n",
              "      <td>capital_loss</td>\n",
              "      <td>0.064347</td>\n",
              "    </tr>\n",
              "    <tr>\n",
              "      <th>3</th>\n",
              "      <td>age</td>\n",
              "      <td>0.056653</td>\n",
              "    </tr>\n",
              "    <tr>\n",
              "      <th>4</th>\n",
              "      <td>occupation_ Prof-specialty</td>\n",
              "      <td>0.043372</td>\n",
              "    </tr>\n",
              "    <tr>\n",
              "      <th>5</th>\n",
              "      <td>hours_per_week</td>\n",
              "      <td>0.037088</td>\n",
              "    </tr>\n",
              "    <tr>\n",
              "      <th>6</th>\n",
              "      <td>occupation_ Exec-managerial</td>\n",
              "      <td>0.034758</td>\n",
              "    </tr>\n",
              "    <tr>\n",
              "      <th>7</th>\n",
              "      <td>education_ Bachelors</td>\n",
              "      <td>0.034545</td>\n",
              "    </tr>\n",
              "    <tr>\n",
              "      <th>8</th>\n",
              "      <td>education_ Masters</td>\n",
              "      <td>0.025208</td>\n",
              "    </tr>\n",
              "    <tr>\n",
              "      <th>9</th>\n",
              "      <td>education_ Prof-school</td>\n",
              "      <td>0.011671</td>\n",
              "    </tr>\n",
              "    <tr>\n",
              "      <th>10</th>\n",
              "      <td>education_ Doctorate</td>\n",
              "      <td>0.007503</td>\n",
              "    </tr>\n",
              "    <tr>\n",
              "      <th>11</th>\n",
              "      <td>education_ HS-grad</td>\n",
              "      <td>0.006354</td>\n",
              "    </tr>\n",
              "    <tr>\n",
              "      <th>12</th>\n",
              "      <td>occupation_ Farming-fishing</td>\n",
              "      <td>0.006264</td>\n",
              "    </tr>\n",
              "    <tr>\n",
              "      <th>13</th>\n",
              "      <td>occupation_ Other-service</td>\n",
              "      <td>0.005831</td>\n",
              "    </tr>\n",
              "    <tr>\n",
              "      <th>14</th>\n",
              "      <td>workclass_ Self-emp-not-inc</td>\n",
              "      <td>0.005709</td>\n",
              "    </tr>\n",
              "  </tbody>\n",
              "</table>\n",
              "</div>"
            ],
            "text/plain": [
              "                                 index  importance\n",
              "0   marital_status_ Married-civ-spouse    0.401065\n",
              "1                         capital_gain    0.232553\n",
              "2                         capital_loss    0.064347\n",
              "3                                  age    0.056653\n",
              "4           occupation_ Prof-specialty    0.043372\n",
              "5                       hours_per_week    0.037088\n",
              "6          occupation_ Exec-managerial    0.034758\n",
              "7                 education_ Bachelors    0.034545\n",
              "8                   education_ Masters    0.025208\n",
              "9               education_ Prof-school    0.011671\n",
              "10                education_ Doctorate    0.007503\n",
              "11                  education_ HS-grad    0.006354\n",
              "12         occupation_ Farming-fishing    0.006264\n",
              "13           occupation_ Other-service    0.005831\n",
              "14         workclass_ Self-emp-not-inc    0.005709"
            ]
          },
          "metadata": {
            "tags": []
          },
          "execution_count": 233
        }
      ]
    },
    {
      "cell_type": "code",
      "metadata": {
        "id": "Pon16_Dw9UJc",
        "colab_type": "code",
        "colab": {}
      },
      "source": [
        "# Top 15 features for GradientBoosting Classifier"
      ],
      "execution_count": 234,
      "outputs": []
    },
    {
      "cell_type": "code",
      "metadata": {
        "id": "npAQPA9W9glz",
        "colab_type": "code",
        "colab": {}
      },
      "source": [
        ""
      ],
      "execution_count": 234,
      "outputs": []
    },
    {
      "cell_type": "code",
      "metadata": {
        "id": "uEQClJUy7I-b",
        "colab_type": "code",
        "colab": {
          "base_uri": "https://localhost:8080/",
          "height": 134
        },
        "outputId": "b61b126d-8987-4540-8f05-e527f502642f"
      },
      "source": [
        "# Model 7 : XGBoost Calssfiier\n",
        "\n",
        "from xgboost import XGBClassifier\n",
        "\n",
        "xg_clf = XGBClassifier()\n",
        "xg_clf.fit(X_train, y_train)"
      ],
      "execution_count": 235,
      "outputs": [
        {
          "output_type": "execute_result",
          "data": {
            "text/plain": [
              "XGBClassifier(base_score=0.5, booster='gbtree', colsample_bylevel=1,\n",
              "              colsample_bynode=1, colsample_bytree=1, gamma=0,\n",
              "              learning_rate=0.1, max_delta_step=0, max_depth=3,\n",
              "              min_child_weight=1, missing=None, n_estimators=100, n_jobs=1,\n",
              "              nthread=None, objective='binary:logistic', random_state=0,\n",
              "              reg_alpha=0, reg_lambda=1, scale_pos_weight=1, seed=None,\n",
              "              silent=None, subsample=1, verbosity=1)"
            ]
          },
          "metadata": {
            "tags": []
          },
          "execution_count": 235
        }
      ]
    },
    {
      "cell_type": "code",
      "metadata": {
        "id": "LIzlmRSP7I82",
        "colab_type": "code",
        "colab": {}
      },
      "source": [
        "y_pred_xg = xg_clf.predict(X_test)\n",
        "predictions = [round(value) for value in y_pred_xg]"
      ],
      "execution_count": 236,
      "outputs": []
    },
    {
      "cell_type": "code",
      "metadata": {
        "id": "CdM0qcT27I6b",
        "colab_type": "code",
        "colab": {
          "base_uri": "https://localhost:8080/",
          "height": 34
        },
        "outputId": "1748e5d3-071b-4d5e-b626-f0acc7c4ce9a"
      },
      "source": [
        "# accuracy of XGBoost Classifier\n",
        "from sklearn.metrics import accuracy_score\n",
        "\n",
        "accuracy_xg = accuracy_score(y_test, predictions)\n",
        "accuracy_xg"
      ],
      "execution_count": 237,
      "outputs": [
        {
          "output_type": "execute_result",
          "data": {
            "text/plain": [
              "0.8581164807930607"
            ]
          },
          "metadata": {
            "tags": []
          },
          "execution_count": 237
        }
      ]
    },
    {
      "cell_type": "code",
      "metadata": {
        "id": "i89PRm6z7I4f",
        "colab_type": "code",
        "colab": {
          "base_uri": "https://localhost:8080/",
          "height": 252
        },
        "outputId": "528f20f6-055c-4066-cfbe-f686b3279abd"
      },
      "source": [
        "from sklearn.metrics import confusion_matrix\n",
        "from sklearn.metrics import classification_report\n",
        "\n",
        "print(\"Confusion Matrix for the XGBoost Classification model : \")\n",
        "print(confusion_matrix(y_test, predictions))\n",
        "\n",
        "print()\n",
        "\n",
        "print(\"Classification Report for the XGBoost Classification model : \")\n",
        "print(classification_report(y_test, predictions))"
      ],
      "execution_count": 238,
      "outputs": [
        {
          "output_type": "stream",
          "text": [
            "Confusion Matrix for the XGBoost Classification model : \n",
            "[[8028  413]\n",
            " [1190 1667]]\n",
            "\n",
            "Classification Report for the XGBoost Classification model : \n",
            "              precision    recall  f1-score   support\n",
            "\n",
            "           0       0.87      0.95      0.91      8441\n",
            "           1       0.80      0.58      0.68      2857\n",
            "\n",
            "    accuracy                           0.86     11298\n",
            "   macro avg       0.84      0.77      0.79     11298\n",
            "weighted avg       0.85      0.86      0.85     11298\n",
            "\n"
          ],
          "name": "stdout"
        }
      ]
    },
    {
      "cell_type": "code",
      "metadata": {
        "id": "aosF5hf17I0G",
        "colab_type": "code",
        "colab": {}
      },
      "source": [
        ""
      ],
      "execution_count": 238,
      "outputs": []
    },
    {
      "cell_type": "code",
      "metadata": {
        "id": "rzhbWD-a7Iyj",
        "colab_type": "code",
        "colab": {
          "base_uri": "https://localhost:8080/",
          "height": 34
        },
        "outputId": "a1e80aaa-b231-48fc-9e6a-f864cdcd008d"
      },
      "source": [
        "# Model 8 : Naive Bayes Cassifier\n",
        "\n",
        "from sklearn.naive_bayes import MultinomialNB\n",
        "\n",
        "nv_clf = MultinomialNB()\n",
        "nv_clf.fit(X_train, y_train)"
      ],
      "execution_count": 239,
      "outputs": [
        {
          "output_type": "execute_result",
          "data": {
            "text/plain": [
              "MultinomialNB(alpha=1.0, class_prior=None, fit_prior=True)"
            ]
          },
          "metadata": {
            "tags": []
          },
          "execution_count": 239
        }
      ]
    },
    {
      "cell_type": "code",
      "metadata": {
        "id": "5jzJtTzi7Iia",
        "colab_type": "code",
        "colab": {
          "base_uri": "https://localhost:8080/",
          "height": 34
        },
        "outputId": "58e664bc-9b74-4049-f8f5-4b13fd14fa98"
      },
      "source": [
        "y_pred_nb = nv_clf.predict(X_test)\n",
        "y_pred_nb"
      ],
      "execution_count": 240,
      "outputs": [
        {
          "output_type": "execute_result",
          "data": {
            "text/plain": [
              "array([0, 0, 0, ..., 0, 0, 1])"
            ]
          },
          "metadata": {
            "tags": []
          },
          "execution_count": 240
        }
      ]
    },
    {
      "cell_type": "code",
      "metadata": {
        "id": "6rQD028L7Ig4",
        "colab_type": "code",
        "colab": {
          "base_uri": "https://localhost:8080/",
          "height": 34
        },
        "outputId": "334dd633-2817-4a94-dfd3-98672ceade0c"
      },
      "source": [
        "# accuracy of NaiveBayes Classifier\n",
        "\n",
        "from sklearn.metrics import accuracy_score\n",
        "\n",
        "accuracy_nb = accuracy_score(y_test, y_pred_nb)\n",
        "accuracy_nb"
      ],
      "execution_count": 241,
      "outputs": [
        {
          "output_type": "execute_result",
          "data": {
            "text/plain": [
              "0.8238626305540804"
            ]
          },
          "metadata": {
            "tags": []
          },
          "execution_count": 241
        }
      ]
    },
    {
      "cell_type": "markdown",
      "metadata": {
        "id": "yXe9MmGn_fUs",
        "colab_type": "text"
      },
      "source": [
        "#### For naive bayes classifiers the following techniques were tried and the resulting accuracies were found as given :\n",
        "\n",
        "1) BernoulliNB - 79.96%\n",
        "\n",
        "2) CategoricalNB - 78.62%\n",
        "\n",
        "3) ComplementNB - 76.88%\n",
        "\n",
        "4) GaussianNB - 58.86%\n",
        "\n",
        "5) MultinomialNB - 82.38%\n",
        "\n",
        "From the accuracy results, the MultinomialNB was selected "
      ]
    },
    {
      "cell_type": "code",
      "metadata": {
        "id": "nNEgWUec7IbK",
        "colab_type": "code",
        "colab": {}
      },
      "source": [
        ""
      ],
      "execution_count": 122,
      "outputs": []
    },
    {
      "cell_type": "code",
      "metadata": {
        "id": "CAw-Owtr7IXE",
        "colab_type": "code",
        "colab": {
          "base_uri": "https://localhost:8080/",
          "height": 336
        },
        "outputId": "a37f627d-9ff5-49df-ae6a-e1da6d27e43d"
      },
      "source": [
        "# Hyperparameter Tuning \n",
        "\n",
        "# Grid Search on GradientBoosting algorithm:\n",
        "\n",
        "from sklearn.model_selection import GridSearchCV\n",
        "from sklearn.metrics import make_scorer\n",
        "\n",
        "clf = GradientBoostingClassifier()\n",
        "\n",
        "# parameter list to tune\n",
        "parameters = {\"loss\" : ['deviance' , 'exponential'],\n",
        "              'learning_rate': [0.1, 0.5],\n",
        "              'n_estimators': [50, 100], \n",
        "              'max_depth' : [2, 3, 5]\n",
        "             }\n",
        "\n",
        "# Make an accuracy_score scoring object\n",
        "scorer = make_scorer(accuracy_score)\n",
        "\n",
        "# Perform grid search on the classifier using 'scorer' as the scoring method\n",
        "grid_obj = GridSearchCV(clf, parameters,scorer)\n",
        "\n",
        "# Fit the grid search object to the training data and find the optimal parameters\n",
        "grid_fit = grid_obj.fit(X_train,y_train)\n",
        "\n",
        "# Get the estimator\n",
        "best_clf = grid_fit.best_estimator_\n",
        "\n",
        "# Make predictions using the unoptimized and model\n",
        "predictions = (clf.fit(X_train, y_train)).predict(X_test)\n",
        "best_predictions = best_clf.predict(X_test)\n",
        "\n",
        "# Report scores with and without grid search\n",
        "\n",
        "print(\"Unoptimized model (without grid search)\\n\")\n",
        "print(\"Accuracy score on testing data: {:.4f}\".format(accuracy_score(y_test, predictions)))\n",
        "print(\"\\n---------\\n\")\n",
        "print(\"Optimized Model\\n\")\n",
        "print(\"Final accuracy score on the testing data: {:.4f}\".format(accuracy_score(y_test, best_predictions)))\n",
        "print(best_clf)"
      ],
      "execution_count": 124,
      "outputs": [
        {
          "output_type": "stream",
          "text": [
            "Unoptimized model (without grid search)\n",
            "\n",
            "Accuracy score on testing data: 0.8606\n",
            "\n",
            "---------\n",
            "\n",
            "Optimized Model\n",
            "\n",
            "Final accuracy score on the testing data: 0.8682\n",
            "GradientBoostingClassifier(ccp_alpha=0.0, criterion='friedman_mse', init=None,\n",
            "                           learning_rate=0.1, loss='deviance', max_depth=5,\n",
            "                           max_features=None, max_leaf_nodes=None,\n",
            "                           min_impurity_decrease=0.0, min_impurity_split=None,\n",
            "                           min_samples_leaf=1, min_samples_split=2,\n",
            "                           min_weight_fraction_leaf=0.0, n_estimators=100,\n",
            "                           n_iter_no_change=None, presort='deprecated',\n",
            "                           random_state=None, subsample=1.0, tol=0.0001,\n",
            "                           validation_fraction=0.1, verbose=0,\n",
            "                           warm_start=False)\n"
          ],
          "name": "stdout"
        }
      ]
    },
    {
      "cell_type": "code",
      "metadata": {
        "id": "U_UMlGxBALlA",
        "colab_type": "code",
        "colab": {}
      },
      "source": [
        "# No significant improvement in model parameters is observed by hyperparameter tuning"
      ],
      "execution_count": 125,
      "outputs": []
    },
    {
      "cell_type": "code",
      "metadata": {
        "id": "kx6JUnK4ALjP",
        "colab_type": "code",
        "colab": {}
      },
      "source": [
        ""
      ],
      "execution_count": null,
      "outputs": []
    },
    {
      "cell_type": "code",
      "metadata": {
        "id": "ELLhT38B7IVZ",
        "colab_type": "code",
        "colab": {}
      },
      "source": [
        "# Best Results obtained for : GradientBoostingClassifier \n",
        "# accuracy - 86.82%"
      ],
      "execution_count": 242,
      "outputs": []
    },
    {
      "cell_type": "code",
      "metadata": {
        "id": "d5t1FlGqdpdv",
        "colab_type": "code",
        "colab": {}
      },
      "source": [
        ""
      ],
      "execution_count": null,
      "outputs": []
    }
  ]
}